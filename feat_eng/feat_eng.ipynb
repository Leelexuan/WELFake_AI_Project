{
 "cells": [
  {
   "cell_type": "markdown",
   "metadata": {},
   "source": [
    "### Push dataset to HuggingFace"
   ]
  },
  {
   "cell_type": "markdown",
   "metadata": {},
   "source": [
    "### Features from paper used in dataset\n",
    "\n",
    "'''\n",
    "In feature set 3 (Table 2), the ten features\n",
    " with highest importance values are “has quoted content”,\n",
    " “has URL”, “% of uppercase letters”, “frequency of punc\n",
    "tuation”, “frequency of words of length 15”, “% of\n",
    " whitespaces”, “frequency of words of length 14”, “aver\n",
    "age sentence length in words”, “frequency of words of\n",
    " length 12” and “frequency of words of length 11”. In\n",
    " Fig. 3, it is observed that real news has a very high aver\n",
    "age number of quotes compared to fake news.\n",
    "'''"
   ]
  },
  {
   "cell_type": "code",
   "execution_count": 1,
   "metadata": {},
   "outputs": [
    {
     "name": "stderr",
     "output_type": "stream",
     "text": [
      "c:\\Users\\Lee Le Xuan\\anaconda3\\envs\\ComputerVision2\\Lib\\site-packages\\tqdm\\auto.py:21: TqdmWarning: IProgress not found. Please update jupyter and ipywidgets. See https://ipywidgets.readthedocs.io/en/stable/user_install.html\n",
      "  from .autonotebook import tqdm as notebook_tqdm\n"
     ]
    },
    {
     "name": "stdout",
     "output_type": "stream",
     "text": [
      "DatasetDict({\n",
      "    train: Dataset({\n",
      "        features: ['title', 'text', 'label'],\n",
      "        num_rows: 72134\n",
      "    })\n",
      "})\n"
     ]
    }
   ],
   "source": [
    "from datasets import load_dataset\n",
    "import warnings\n",
    "warnings.filterwarnings('ignore')\n",
    "\n",
    "dataset = load_dataset(\"davanstrien/WELFake\")\n",
    "print(dataset)"
   ]
  },
  {
   "cell_type": "code",
   "execution_count": 2,
   "metadata": {},
   "outputs": [
    {
     "name": "stdout",
     "output_type": "stream",
     "text": [
      "0\n"
     ]
    }
   ],
   "source": [
    "from feat_eng import has_quotes, has_url, percent_uppercase, frequency_punctuation, percent_whitespace, frequency_words_length, avg_sentence_length\n",
    "\n",
    "train_dataset = dataset['train']\n",
    "\n",
    "def extract_stylometric_features(example):\n",
    "    text = example['text']\n",
    "    \n",
    "    if text == None:\n",
    "        return{\n",
    "            \"label\": example.get(\"label\"),\n",
    "            \"has_quotes\": 0,\n",
    "            \"has_url\": 0,\n",
    "            \"percent_uppercase\": 0.0,\n",
    "            \"frequency_punctuation\": 0,\n",
    "            \"percent_whitespace\": 0.0,\n",
    "            \"frequency_words_length_15\": 0,\n",
    "            \"frequency_words_length_14\": 0,\n",
    "            \"frequency_words_length_12\": 0,\n",
    "            \"frequency_words_length_11\": 0,\n",
    "            \"avg_sentence_length\": 0.0\n",
    "        }\n",
    "    \n",
    "    return {\n",
    "        \"label\": example.get(\"label\"),\n",
    "        \"has_quotes\" : has_quotes(text),\n",
    "        \"has_url\": has_url(text),\n",
    "        \"percent_uppercase\": percent_uppercase(text),\n",
    "        \"frequency_punctuation\": frequency_punctuation(text),\n",
    "        \"percent_whitespace\": percent_whitespace(text),\n",
    "        \"frequency_words_length_15\": frequency_words_length(text, 15),\n",
    "        \"frequency_words_length_14\": frequency_words_length(text, 14),\n",
    "        \"frequency_words_length_12\": frequency_words_length(text, 12),\n",
    "        \"frequency_words_length_11\": frequency_words_length(text, 11),\n",
    "        \"avg_sentence_length\": avg_sentence_length(text)  \n",
    "    }"
   ]
  },
  {
   "cell_type": "code",
   "execution_count": 3,
   "metadata": {},
   "outputs": [
    {
     "name": "stdout",
     "output_type": "stream",
     "text": [
      "Dataset({\n",
      "    features: ['label', 'has_quotes', 'has_url', 'percent_uppercase', 'frequency_punctuation', 'percent_whitespace', 'frequency_words_length_15', 'frequency_words_length_14', 'frequency_words_length_12', 'frequency_words_length_11', 'avg_sentence_length'],\n",
      "    num_rows: 72134\n",
      "})\n"
     ]
    }
   ],
   "source": [
    "\n",
    "stylo_feats = train_dataset.map(extract_stylometric_features)\n",
    "\n",
    "stylo_feats = stylo_feats.remove_columns(['title', 'text'])\n",
    "print(stylo_feats)\n"
   ]
  },
  {
   "cell_type": "code",
   "execution_count": 10,
   "metadata": {},
   "outputs": [
    {
     "name": "stdout",
     "output_type": "stream",
     "text": [
      "{'type': 'user', 'id': '67ec36270b5ea9f4c4b1eeca', 'name': 'lelexuanzz', 'fullname': 'Lee Le Xuan', 'canPay': False, 'periodEnd': None, 'isPro': False, 'avatarUrl': '/avatars/79d15e4cf378459279aa40eb9f51791a.svg', 'orgs': [], 'auth': {'type': 'access_token', 'accessToken': {'displayName': 'dataset_write', 'role': 'fineGrained', 'createdAt': '2025-04-01T19:07:36.424Z', 'fineGrained': {'canReadGatedRepos': True, 'global': ['discussion.write', 'post.write'], 'scoped': [{'entity': {'_id': '67ec371e0b5ea9f4c4b2342f', 'type': 'dataset', 'name': 'lelexuanzz/WELFake_stylo_feats'}, 'permissions': ['repo.content.read', 'discussion.write', 'repo.write']}, {'entity': {'_id': '67ec36270b5ea9f4c4b1eeca', 'type': 'user', 'name': 'lelexuanzz'}, 'permissions': ['repo.content.read', 'repo.write', 'inference.serverless.write', 'inference.endpoints.infer.write', 'inference.endpoints.write', 'user.webhooks.read', 'user.webhooks.write', 'collection.read', 'collection.write', 'discussion.write', 'user.billing.read']}]}}}}\n"
     ]
    },
    {
     "name": "stderr",
     "output_type": "stream",
     "text": [
      "Creating parquet from Arrow format: 100%|██████████| 73/73 [00:00<00:00, 1184.39ba/s]\n",
      "Uploading the dataset shards: 100%|██████████| 1/1 [00:02<00:00,  2.49s/it]\n"
     ]
    },
    {
     "data": {
      "text/plain": [
       "CommitInfo(commit_url='https://huggingface.co/datasets/lelexuanzz/WELFake_stylo_feats/commit/91f45bb73b0b1ee917fc5438d8bb83b0a1b529fb', commit_message='Upload dataset', commit_description='', oid='91f45bb73b0b1ee917fc5438d8bb83b0a1b529fb', pr_url=None, repo_url=RepoUrl('https://huggingface.co/datasets/lelexuanzz/WELFake_stylo_feats', endpoint='https://huggingface.co', repo_type='dataset', repo_id='lelexuanzz/WELFake_stylo_feats'), pr_revision=None, pr_num=None)"
      ]
     },
     "execution_count": 10,
     "metadata": {},
     "output_type": "execute_result"
    }
   ],
   "source": [
    "from huggingface_hub import HfApi\n",
    "\n",
    "api = HfApi()\n",
    "print(api.whoami())\n",
    "\n",
    "\n",
    "stylo_feats.push_to_hub(\"lelexuanzz/WELFake_stylo_feats\")"
   ]
  },
  {
   "cell_type": "code",
   "execution_count": null,
   "metadata": {},
   "outputs": [],
   "source": []
  }
 ],
 "metadata": {
  "kernelspec": {
   "display_name": "ComputerVision2",
   "language": "python",
   "name": "python3"
  },
  "language_info": {
   "codemirror_mode": {
    "name": "ipython",
    "version": 3
   },
   "file_extension": ".py",
   "mimetype": "text/x-python",
   "name": "python",
   "nbconvert_exporter": "python",
   "pygments_lexer": "ipython3",
   "version": "3.12.3"
  }
 },
 "nbformat": 4,
 "nbformat_minor": 2
}

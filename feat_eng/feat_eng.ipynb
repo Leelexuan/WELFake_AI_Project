{
 "cells": [
  {
   "cell_type": "markdown",
   "metadata": {},
   "source": [
    "### Push dataset to HuggingFace"
   ]
  },
  {
   "cell_type": "markdown",
   "metadata": {},
   "source": [
    "### Features from paper used in dataset\n",
    "\n",
    "'''\n",
    "In feature set 3 (Table 2), the ten features\n",
    " with highest importance values are “has quoted content”,\n",
    " “has URL”, “% of uppercase letters”, “frequency of punc\n",
    "tuation”, “frequency of words of length 15”, “% of\n",
    " whitespaces”, “frequency of words of length 14”, “aver\n",
    "age sentence length in words”, “frequency of words of\n",
    " length 12” and “frequency of words of length 11”. In\n",
    " Fig. 3, it is observed that real news has a very high aver\n",
    "age number of quotes compared to fake news.\n",
    "'''"
   ]
  },
  {
   "cell_type": "code",
   "execution_count": 1,
   "metadata": {},
   "outputs": [
    {
     "name": "stderr",
     "output_type": "stream",
     "text": [
      "c:\\Users\\Lee Le Xuan\\anaconda3\\envs\\ComputerVision2\\Lib\\site-packages\\tqdm\\auto.py:21: TqdmWarning: IProgress not found. Please update jupyter and ipywidgets. See https://ipywidgets.readthedocs.io/en/stable/user_install.html\n",
      "  from .autonotebook import tqdm as notebook_tqdm\n"
     ]
    },
    {
     "name": "stdout",
     "output_type": "stream",
     "text": [
      "DatasetDict({\n",
      "    train: Dataset({\n",
      "        features: ['title', 'text', 'label', 'roberta_embedding', 'bow_embedding', 'tfidf_embedding', 'w2v_embedding'],\n",
      "        num_rows: 70793\n",
      "    })\n",
      "})\n"
     ]
    }
   ],
   "source": [
    "from datasets import load_dataset\n",
    "import warnings\n",
    "warnings.filterwarnings('ignore')\n",
    "\n",
    "dataset = load_dataset(\"Paulozs/WELFake_embeddings\")\n",
    "print(dataset)"
   ]
  },
  {
   "cell_type": "code",
   "execution_count": 2,
   "metadata": {},
   "outputs": [
    {
     "name": "stdout",
     "output_type": "stream",
     "text": [
      "0.9166666666666666\n"
     ]
    }
   ],
   "source": [
    "from feat_eng import has_quotes, has_url, percent_uppercase, frequency_punctuation, percent_whitespace, frequency_words_length, avg_sentence_length, has_1_to_3_urls, has_4_to_6_urls, has_more_than_6_urls, num_exclamations, num_questions, avg_word_length, lexical_diversity, proportion_stopwords\n",
    "\n",
    "train_dataset = dataset['train']\n",
    "\n",
    "def extract_stylometric_features(example):\n",
    "    text = example['text']\n",
    "    \n",
    "    if text == None:\n",
    "        return{\n",
    "            \"label\": example.get(\"label\"),\n",
    "            \"has_quotes\": 0,\n",
    "            \"has_url\": 0,\n",
    "            \"percent_uppercase\": 0.0,\n",
    "            \"frequency_punctuation\": 0,\n",
    "            \"percent_whitespace\": 0.0,\n",
    "            \"frequency_words_length_15\": 0,\n",
    "            \"frequency_words_length_14\": 0,\n",
    "            \"frequency_words_length_12\": 0,\n",
    "            \"frequency_words_length_11\": 0,\n",
    "            \"avg_sentence_length\": 0.0,\n",
    "            \"has_1_to_3_urls\": 0,\n",
    "            \"has_4_to_6_urls\": 0,\n",
    "            \"has_more_than_6_urls\": 0,\n",
    "            \"num_exclamations\": 0,\n",
    "            \"num_questions\": 0,\n",
    "            \"avg_word_length\": 0.0,\n",
    "            \"lexical_diversity\": 0.0,\n",
    "            \"proportion_stopwords\": 0.0\n",
    "        }\n",
    "    \n",
    "    return {\n",
    "        \"label\": example.get(\"label\"),\n",
    "        \"has_quotes\" : has_quotes(text),\n",
    "        \"has_url\": has_url(text),\n",
    "        \"percent_uppercase\": percent_uppercase(text),\n",
    "        \"frequency_punctuation\": frequency_punctuation(text),\n",
    "        \"percent_whitespace\": percent_whitespace(text),\n",
    "        \"frequency_words_length_15\": frequency_words_length(text, 15),\n",
    "        \"frequency_words_length_14\": frequency_words_length(text, 14),\n",
    "        \"frequency_words_length_12\": frequency_words_length(text, 12),\n",
    "        \"frequency_words_length_11\": frequency_words_length(text, 11),\n",
    "        \"avg_sentence_length\": avg_sentence_length(text)  ,\n",
    "        \"has_1_to_3_urls\": has_1_to_3_urls(text),\n",
    "        \"has_4_to_6_urls\": has_4_to_6_urls(text),\n",
    "        \"has_more_than_6_urls\": has_more_than_6_urls(text),\n",
    "        \"num_exclamations\": num_exclamations(text),\n",
    "        \"num_questions\": num_questions(text),\n",
    "        \"avg_word_length\": avg_word_length(text),\n",
    "        \"lexical_diversity\": lexical_diversity(text),\n",
    "        \"proportion_stopwords\": proportion_stopwords(text)\n",
    "        \n",
    "        \n",
    "    }"
   ]
  },
  {
   "cell_type": "code",
   "execution_count": 3,
   "metadata": {},
   "outputs": [
    {
     "name": "stderr",
     "output_type": "stream",
     "text": [
      "Map:   0%|          | 0/70793 [00:00<?, ? examples/s]"
     ]
    },
    {
     "name": "stderr",
     "output_type": "stream",
     "text": [
      "Map: 100%|██████████| 70793/70793 [02:09<00:00, 545.77 examples/s]"
     ]
    },
    {
     "name": "stdout",
     "output_type": "stream",
     "text": [
      "Dataset({\n",
      "    features: ['text', 'label', 'has_quotes', 'has_url', 'percent_uppercase', 'frequency_punctuation', 'percent_whitespace', 'frequency_words_length_15', 'frequency_words_length_14', 'frequency_words_length_12', 'frequency_words_length_11', 'avg_sentence_length', 'has_1_to_3_urls', 'has_4_to_6_urls', 'has_more_than_6_urls', 'num_exclamations', 'num_questions', 'avg_word_length', 'lexical_diversity', 'proportion_stopwords'],\n",
      "    num_rows: 70793\n",
      "})\n"
     ]
    },
    {
     "name": "stderr",
     "output_type": "stream",
     "text": [
      "\n"
     ]
    }
   ],
   "source": [
    "\n",
    "stylo_feats = train_dataset.map(extract_stylometric_features)\n",
    "\n",
    "stylo_feats = stylo_feats.remove_columns(['title', 'roberta_embedding', 'bow_embedding', 'tfidf_embedding', 'w2v_embedding'])\n",
    "print(stylo_feats)\n"
   ]
  },
  {
   "cell_type": "code",
   "execution_count": 4,
   "metadata": {},
   "outputs": [],
   "source": [
    "# from huggingface_hub import HfApi\n",
    "\n",
    "# api = HfApi()\n",
    "\n",
    "\n",
    "# stylo_feats.push_to_hub(\"lelexuanzz/WELFake_stylo_feats\")"
   ]
  },
  {
   "cell_type": "code",
   "execution_count": 7,
   "metadata": {},
   "outputs": [
    {
     "name": "stderr",
     "output_type": "stream",
     "text": [
      "Creating parquet from Arrow format: 100%|██████████| 71/71 [00:01<00:00, 44.63ba/s]\n",
      "Uploading the dataset shards: 100%|██████████| 1/1 [00:18<00:00, 18.43s/it]\n"
     ]
    },
    {
     "data": {
      "text/plain": [
       "CommitInfo(commit_url='https://huggingface.co/datasets/lelexuanzz/WELFake_stylo_feats/commit/0ac6d3534de6674691271a744aa8791c1012ccec', commit_message='Added more features', commit_description='', oid='0ac6d3534de6674691271a744aa8791c1012ccec', pr_url=None, repo_url=RepoUrl('https://huggingface.co/datasets/lelexuanzz/WELFake_stylo_feats', endpoint='https://huggingface.co', repo_type='dataset', repo_id='lelexuanzz/WELFake_stylo_feats'), pr_revision=None, pr_num=None)"
      ]
     },
     "execution_count": 7,
     "metadata": {},
     "output_type": "execute_result"
    }
   ],
   "source": [
    "stylo_feats.push_to_hub(\"lelexuanzz/WELFake_stylo_feats\", commit_message=\"Added more features\")"
   ]
  },
  {
   "cell_type": "markdown",
   "metadata": {},
   "source": [
    "# Test Set(GossipCop_Politifact_Stylo)"
   ]
  },
  {
   "cell_type": "code",
   "execution_count": 6,
   "metadata": {},
   "outputs": [
    {
     "name": "stdout",
     "output_type": "stream",
     "text": [
      "DatasetDict({\n",
      "    train: Dataset({\n",
      "        features: ['text', 'label', 'has_quotes', 'has_url', 'percent_uppercase', 'frequency_punctuation', 'percent_whitespace', 'frequency_words_length_15', 'frequency_words_length_14', 'frequency_words_length_12', 'frequency_words_length_11', 'avg_sentence_length'],\n",
      "        num_rows: 6900\n",
      "    })\n",
      "})\n"
     ]
    }
   ],
   "source": [
    "test_dataset = load_dataset(\"lelexuanzz/Gossipcop_Politifact_Test_Stylo\")\n",
    "print(test_dataset)"
   ]
  },
  {
   "cell_type": "code",
   "execution_count": 8,
   "metadata": {},
   "outputs": [
    {
     "name": "stderr",
     "output_type": "stream",
     "text": [
      "Map: 100%|██████████| 6900/6900 [00:16<00:00, 414.78 examples/s]"
     ]
    },
    {
     "name": "stdout",
     "output_type": "stream",
     "text": [
      "Dataset({\n",
      "    features: ['text', 'label', 'has_quotes', 'has_url', 'percent_uppercase', 'frequency_punctuation', 'percent_whitespace', 'frequency_words_length_15', 'frequency_words_length_14', 'frequency_words_length_12', 'frequency_words_length_11', 'avg_sentence_length', 'has_1_to_3_urls', 'has_4_to_6_urls', 'has_more_than_6_urls', 'num_exclamations', 'num_questions', 'avg_word_length', 'lexical_diversity', 'proportion_stopwords'],\n",
      "    num_rows: 6900\n",
      "})\n"
     ]
    },
    {
     "name": "stderr",
     "output_type": "stream",
     "text": [
      "\n"
     ]
    }
   ],
   "source": [
    "test_dataset = test_dataset[\"train\"]\n",
    "\n",
    "test_stylo_feats = test_dataset.map(extract_stylometric_features)\n",
    "\n",
    "# test_stylo_feats = test_stylo_feats.remove_columns(['title', 'roberta_embedding', 'bow_embedding', 'tfidf_embedding', 'w2v_embedding'])\n",
    "print(test_stylo_feats)\n"
   ]
  },
  {
   "cell_type": "code",
   "execution_count": 9,
   "metadata": {},
   "outputs": [
    {
     "name": "stderr",
     "output_type": "stream",
     "text": [
      "Creating parquet from Arrow format: 100%|██████████| 7/7 [00:00<00:00, 38.14ba/s]\n",
      "Uploading the dataset shards: 100%|██████████| 1/1 [00:03<00:00,  3.06s/it]\n"
     ]
    },
    {
     "data": {
      "text/plain": [
       "CommitInfo(commit_url='https://huggingface.co/datasets/lelexuanzz/Gossipcop_Politifact_Test_Stylo/commit/db8e5a594a41d651889cc336bd374478fd14d262', commit_message='Added more features', commit_description='', oid='db8e5a594a41d651889cc336bd374478fd14d262', pr_url=None, repo_url=RepoUrl('https://huggingface.co/datasets/lelexuanzz/Gossipcop_Politifact_Test_Stylo', endpoint='https://huggingface.co', repo_type='dataset', repo_id='lelexuanzz/Gossipcop_Politifact_Test_Stylo'), pr_revision=None, pr_num=None)"
      ]
     },
     "execution_count": 9,
     "metadata": {},
     "output_type": "execute_result"
    }
   ],
   "source": [
    "test_stylo_feats.push_to_hub(\"lelexuanzz/Gossipcop_Politifact_Test_Stylo\", commit_message=\"Added more features\")"
   ]
  },
  {
   "cell_type": "code",
   "execution_count": null,
   "metadata": {},
   "outputs": [],
   "source": []
  }
 ],
 "metadata": {
  "kernelspec": {
   "display_name": "ComputerVision2",
   "language": "python",
   "name": "python3"
  },
  "language_info": {
   "codemirror_mode": {
    "name": "ipython",
    "version": 3
   },
   "file_extension": ".py",
   "mimetype": "text/x-python",
   "name": "python",
   "nbconvert_exporter": "python",
   "pygments_lexer": "ipython3",
   "version": "3.12.3"
  }
 },
 "nbformat": 4,
 "nbformat_minor": 2
}

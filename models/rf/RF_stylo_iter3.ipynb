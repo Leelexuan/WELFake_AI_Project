{
 "cells": [
  {
   "cell_type": "markdown",
   "metadata": {},
   "source": [
    "# Imports "
   ]
  },
  {
   "cell_type": "code",
   "execution_count": 28,
   "metadata": {},
   "outputs": [],
   "source": [
    "from __future__ import print_function\n",
    "import matplotlib.pyplot as plt\n",
    "from torch.utils.data import DataLoader\n",
    "import torch\n",
    "import warnings\n",
    "warnings.filterwarnings('ignore')"
   ]
  },
  {
   "cell_type": "code",
   "execution_count": 29,
   "metadata": {},
   "outputs": [
    {
     "name": "stdout",
     "output_type": "stream",
     "text": [
      "CUDA is available: True\n"
     ]
    }
   ],
   "source": [
    "# Define device for torch\n",
    "use_cuda = True\n",
    "print(\"CUDA is available:\", torch.cuda.is_available())\n",
    "device = torch.device(\"cuda\" if (use_cuda and torch.cuda.is_available()) else \"cpu\")"
   ]
  },
  {
   "cell_type": "markdown",
   "metadata": {},
   "source": [
    "# Load Dataset\n",
    "WELFake from HuggingFace"
   ]
  },
  {
   "cell_type": "code",
   "execution_count": 48,
   "metadata": {},
   "outputs": [
    {
     "name": "stderr",
     "output_type": "stream",
     "text": [
      "Generating train split: 100%|██████████| 62592/62592 [00:02<00:00, 31054.30 examples/s]"
     ]
    },
    {
     "name": "stdout",
     "output_type": "stream",
     "text": [
      "DatasetDict({\n",
      "    train: Dataset({\n",
      "        features: ['title', 'text', 'label', 'roberta_embedding', 'bow_embedding', 'tfidf_embedding', 'w2v_embedding'],\n",
      "        num_rows: 62592\n",
      "    })\n",
      "})\n"
     ]
    },
    {
     "name": "stderr",
     "output_type": "stream",
     "text": [
      "\n"
     ]
    }
   ],
   "source": [
    "from datasets import load_dataset\n",
    "\n",
    "#load my test set embeddings first, change later\n",
    "dataset = load_dataset(\"Paulozs/WELFake_embeddings\")\n",
    "print(dataset)"
   ]
  },
  {
   "cell_type": "markdown",
   "metadata": {},
   "source": [
    "## Split dataset"
   ]
  },
  {
   "cell_type": "code",
   "execution_count": 49,
   "metadata": {},
   "outputs": [
    {
     "data": {
      "text/html": [
       "<div>\n",
       "<style scoped>\n",
       "    .dataframe tbody tr th:only-of-type {\n",
       "        vertical-align: middle;\n",
       "    }\n",
       "\n",
       "    .dataframe tbody tr th {\n",
       "        vertical-align: top;\n",
       "    }\n",
       "\n",
       "    .dataframe thead th {\n",
       "        text-align: right;\n",
       "    }\n",
       "</style>\n",
       "<table border=\"1\" class=\"dataframe\">\n",
       "  <thead>\n",
       "    <tr style=\"text-align: right;\">\n",
       "      <th></th>\n",
       "      <th>title</th>\n",
       "      <th>text</th>\n",
       "      <th>label</th>\n",
       "      <th>roberta_embedding</th>\n",
       "      <th>bow_embedding</th>\n",
       "      <th>tfidf_embedding</th>\n",
       "      <th>w2v_embedding</th>\n",
       "    </tr>\n",
       "  </thead>\n",
       "  <tbody>\n",
       "    <tr>\n",
       "      <th>0</th>\n",
       "      <td>LAW ENFORCEMENT ON HIGH ALERT Following Threat...</td>\n",
       "      <td>No comment is expected from Barack Obama Membe...</td>\n",
       "      <td>1</td>\n",
       "      <td>[0.77837825, -1.3829339, 0.21932077, -0.037815...</td>\n",
       "      <td>[12.751228183014527, -8.760484977091297, -2.46...</td>\n",
       "      <td>[0.3186029772902578, -0.1094107173745029, 0.10...</td>\n",
       "      <td>[0.005737772, 0.051631283, 0.039275542, 0.0679...</td>\n",
       "    </tr>\n",
       "    <tr>\n",
       "      <th>1</th>\n",
       "      <td>UNBELIEVABLE! OBAMA’S ATTORNEY GENERAL SAYS MO...</td>\n",
       "      <td>Now, most of the demonstrators gathered last ...</td>\n",
       "      <td>1</td>\n",
       "      <td>[-3.4394891, -1.1532453, -0.57524085, -0.29689...</td>\n",
       "      <td>[0.1540906344076637, -0.06480693954115654, -0....</td>\n",
       "      <td>[0.07578831287738759, -0.015240886953002832, 0...</td>\n",
       "      <td>[0.014999917, 0.057231702, 0.05448833, 0.10918...</td>\n",
       "    </tr>\n",
       "    <tr>\n",
       "      <th>2</th>\n",
       "      <td>Bobby Jindal, raised Hindu, uses story of Chri...</td>\n",
       "      <td>A dozen politically active pastors came here f...</td>\n",
       "      <td>0</td>\n",
       "      <td>[0.61816597, 0.10020125, -0.627897, -0.1652965...</td>\n",
       "      <td>[11.144724982986332, -6.606145662614691, -0.79...</td>\n",
       "      <td>[0.3980779078413261, -0.15109853445516602, 0.0...</td>\n",
       "      <td>[0.04940245, 0.03809506, 0.030635785, 0.096523...</td>\n",
       "    </tr>\n",
       "    <tr>\n",
       "      <th>3</th>\n",
       "      <td>SATAN 2: Russia unvelis an image of its terrif...</td>\n",
       "      <td>The RS-28 Sarmat missile, dubbed Satan 2, will...</td>\n",
       "      <td>1</td>\n",
       "      <td>[0.6582862, 0.40051103, -0.35593724, 0.6198630...</td>\n",
       "      <td>[2.6159286882160537, -1.72675977752399, -0.519...</td>\n",
       "      <td>[0.21115011222058097, -0.14267633316979805, -0...</td>\n",
       "      <td>[-0.022517398, 0.08829837, 0.06998471, 0.05531...</td>\n",
       "    </tr>\n",
       "    <tr>\n",
       "      <th>4</th>\n",
       "      <td>About Time! Christian Group Sues Amazon and SP...</td>\n",
       "      <td>All we can say on this one is it s about time ...</td>\n",
       "      <td>1</td>\n",
       "      <td>[0.51393855, 0.6349008, 1.0849333, 0.33767414,...</td>\n",
       "      <td>[1.9346475297557924, -1.1505992523835311, -0.7...</td>\n",
       "      <td>[0.1945931561404842, -0.1142489399938969, 0.00...</td>\n",
       "      <td>[0.031655375, 0.018008867, 0.039424133, 0.0783...</td>\n",
       "    </tr>\n",
       "    <tr>\n",
       "      <th>...</th>\n",
       "      <td>...</td>\n",
       "      <td>...</td>\n",
       "      <td>...</td>\n",
       "      <td>...</td>\n",
       "      <td>...</td>\n",
       "      <td>...</td>\n",
       "      <td>...</td>\n",
       "    </tr>\n",
       "    <tr>\n",
       "      <th>62587</th>\n",
       "      <td>WIKILEAKS EMAIL SHOWS CLINTON FOUNDATION FUNDS...</td>\n",
       "      <td>An email released by WikiLeaks on Sunday appea...</td>\n",
       "      <td>1</td>\n",
       "      <td>[-0.74468505, 0.1229167, 1.3666742, 0.07904005...</td>\n",
       "      <td>[3.622973638522903, -0.54198912841281, -1.4584...</td>\n",
       "      <td>[0.23084806769137872, 0.09422806198766091, 0.3...</td>\n",
       "      <td>[-0.00035927512, 0.04827896, -0.027950248, 0.0...</td>\n",
       "    </tr>\n",
       "    <tr>\n",
       "      <th>62588</th>\n",
       "      <td>Russians steal research on Trump in hack of U....</td>\n",
       "      <td>WASHINGTON (Reuters) - Hackers believed to be ...</td>\n",
       "      <td>0</td>\n",
       "      <td>[0.5316571, 0.9854491, -0.6684599, -0.01448869...</td>\n",
       "      <td>[17.799926846744107, 1.1087862440581235, 1.350...</td>\n",
       "      <td>[0.4787758131172253, 0.003986352099122974, -0....</td>\n",
       "      <td>[-0.020597927, 0.025891328, 0.0079015875, 0.06...</td>\n",
       "    </tr>\n",
       "    <tr>\n",
       "      <th>62589</th>\n",
       "      <td>WATCH: Giuliani Demands That Democrats Apolog...</td>\n",
       "      <td>You know, because in fantasyland Republicans n...</td>\n",
       "      <td>1</td>\n",
       "      <td>[0.6461022, -1.1085404, 0.13549614, -0.3637871...</td>\n",
       "      <td>[16.499211522306364, 13.110890533481918, -1.99...</td>\n",
       "      <td>[0.45380863043849157, 0.3371814687589905, -0.0...</td>\n",
       "      <td>[0.026168875, 0.059571818, 0.025066013, 0.0854...</td>\n",
       "    </tr>\n",
       "    <tr>\n",
       "      <th>62590</th>\n",
       "      <td>Migrants Refuse To Leave Train At Refugee Camp...</td>\n",
       "      <td>Migrants Refuse To Leave Train At Refugee Camp...</td>\n",
       "      <td>0</td>\n",
       "      <td>[0.5340885, -0.03433156, -0.3962021, 0.1179680...</td>\n",
       "      <td>[5.264526534165657, -3.8853342501017916, -0.87...</td>\n",
       "      <td>[0.290404249417728, -0.21906293500944446, -0.0...</td>\n",
       "      <td>[0.009088822, 0.061462272, 0.026323821, 0.0745...</td>\n",
       "    </tr>\n",
       "    <tr>\n",
       "      <th>62591</th>\n",
       "      <td>Trump tussle gives unpopular Mexican leader mu...</td>\n",
       "      <td>MEXICO CITY (Reuters) - Donald Trump’s combati...</td>\n",
       "      <td>0</td>\n",
       "      <td>[0.63186765, 0.23515463, -0.49998522, 0.108960...</td>\n",
       "      <td>[10.11147131974668, 3.5913809223715325, -0.421...</td>\n",
       "      <td>[0.46950877235370597, 0.07418171272835605, -0....</td>\n",
       "      <td>[-0.02042316, 0.06397203, 0.021204822, 0.06751...</td>\n",
       "    </tr>\n",
       "  </tbody>\n",
       "</table>\n",
       "<p>62592 rows × 7 columns</p>\n",
       "</div>"
      ],
      "text/plain": [
       "                                                   title  \\\n",
       "0      LAW ENFORCEMENT ON HIGH ALERT Following Threat...   \n",
       "1      UNBELIEVABLE! OBAMA’S ATTORNEY GENERAL SAYS MO...   \n",
       "2      Bobby Jindal, raised Hindu, uses story of Chri...   \n",
       "3      SATAN 2: Russia unvelis an image of its terrif...   \n",
       "4      About Time! Christian Group Sues Amazon and SP...   \n",
       "...                                                  ...   \n",
       "62587  WIKILEAKS EMAIL SHOWS CLINTON FOUNDATION FUNDS...   \n",
       "62588  Russians steal research on Trump in hack of U....   \n",
       "62589   WATCH: Giuliani Demands That Democrats Apolog...   \n",
       "62590  Migrants Refuse To Leave Train At Refugee Camp...   \n",
       "62591  Trump tussle gives unpopular Mexican leader mu...   \n",
       "\n",
       "                                                    text  label  \\\n",
       "0      No comment is expected from Barack Obama Membe...      1   \n",
       "1       Now, most of the demonstrators gathered last ...      1   \n",
       "2      A dozen politically active pastors came here f...      0   \n",
       "3      The RS-28 Sarmat missile, dubbed Satan 2, will...      1   \n",
       "4      All we can say on this one is it s about time ...      1   \n",
       "...                                                  ...    ...   \n",
       "62587  An email released by WikiLeaks on Sunday appea...      1   \n",
       "62588  WASHINGTON (Reuters) - Hackers believed to be ...      0   \n",
       "62589  You know, because in fantasyland Republicans n...      1   \n",
       "62590  Migrants Refuse To Leave Train At Refugee Camp...      0   \n",
       "62591  MEXICO CITY (Reuters) - Donald Trump’s combati...      0   \n",
       "\n",
       "                                       roberta_embedding  \\\n",
       "0      [0.77837825, -1.3829339, 0.21932077, -0.037815...   \n",
       "1      [-3.4394891, -1.1532453, -0.57524085, -0.29689...   \n",
       "2      [0.61816597, 0.10020125, -0.627897, -0.1652965...   \n",
       "3      [0.6582862, 0.40051103, -0.35593724, 0.6198630...   \n",
       "4      [0.51393855, 0.6349008, 1.0849333, 0.33767414,...   \n",
       "...                                                  ...   \n",
       "62587  [-0.74468505, 0.1229167, 1.3666742, 0.07904005...   \n",
       "62588  [0.5316571, 0.9854491, -0.6684599, -0.01448869...   \n",
       "62589  [0.6461022, -1.1085404, 0.13549614, -0.3637871...   \n",
       "62590  [0.5340885, -0.03433156, -0.3962021, 0.1179680...   \n",
       "62591  [0.63186765, 0.23515463, -0.49998522, 0.108960...   \n",
       "\n",
       "                                           bow_embedding  \\\n",
       "0      [12.751228183014527, -8.760484977091297, -2.46...   \n",
       "1      [0.1540906344076637, -0.06480693954115654, -0....   \n",
       "2      [11.144724982986332, -6.606145662614691, -0.79...   \n",
       "3      [2.6159286882160537, -1.72675977752399, -0.519...   \n",
       "4      [1.9346475297557924, -1.1505992523835311, -0.7...   \n",
       "...                                                  ...   \n",
       "62587  [3.622973638522903, -0.54198912841281, -1.4584...   \n",
       "62588  [17.799926846744107, 1.1087862440581235, 1.350...   \n",
       "62589  [16.499211522306364, 13.110890533481918, -1.99...   \n",
       "62590  [5.264526534165657, -3.8853342501017916, -0.87...   \n",
       "62591  [10.11147131974668, 3.5913809223715325, -0.421...   \n",
       "\n",
       "                                         tfidf_embedding  \\\n",
       "0      [0.3186029772902578, -0.1094107173745029, 0.10...   \n",
       "1      [0.07578831287738759, -0.015240886953002832, 0...   \n",
       "2      [0.3980779078413261, -0.15109853445516602, 0.0...   \n",
       "3      [0.21115011222058097, -0.14267633316979805, -0...   \n",
       "4      [0.1945931561404842, -0.1142489399938969, 0.00...   \n",
       "...                                                  ...   \n",
       "62587  [0.23084806769137872, 0.09422806198766091, 0.3...   \n",
       "62588  [0.4787758131172253, 0.003986352099122974, -0....   \n",
       "62589  [0.45380863043849157, 0.3371814687589905, -0.0...   \n",
       "62590  [0.290404249417728, -0.21906293500944446, -0.0...   \n",
       "62591  [0.46950877235370597, 0.07418171272835605, -0....   \n",
       "\n",
       "                                           w2v_embedding  \n",
       "0      [0.005737772, 0.051631283, 0.039275542, 0.0679...  \n",
       "1      [0.014999917, 0.057231702, 0.05448833, 0.10918...  \n",
       "2      [0.04940245, 0.03809506, 0.030635785, 0.096523...  \n",
       "3      [-0.022517398, 0.08829837, 0.06998471, 0.05531...  \n",
       "4      [0.031655375, 0.018008867, 0.039424133, 0.0783...  \n",
       "...                                                  ...  \n",
       "62587  [-0.00035927512, 0.04827896, -0.027950248, 0.0...  \n",
       "62588  [-0.020597927, 0.025891328, 0.0079015875, 0.06...  \n",
       "62589  [0.026168875, 0.059571818, 0.025066013, 0.0854...  \n",
       "62590  [0.009088822, 0.061462272, 0.026323821, 0.0745...  \n",
       "62591  [-0.02042316, 0.06397203, 0.021204822, 0.06751...  \n",
       "\n",
       "[62592 rows x 7 columns]"
      ]
     },
     "metadata": {},
     "output_type": "display_data"
    }
   ],
   "source": [
    "#convert dataset to pandas for easier implementation with sklearn\n",
    "\n",
    "df = dataset[\"train\"].to_pandas()\n",
    "display(df)"
   ]
  },
  {
   "cell_type": "markdown",
   "metadata": {},
   "source": [
    "## TF-IDF Embedding"
   ]
  },
  {
   "cell_type": "code",
   "execution_count": 50,
   "metadata": {},
   "outputs": [
    {
     "name": "stdout",
     "output_type": "stream",
     "text": [
      "6312     [0.2913193475178382, -0.25964890109450217, -0....\n",
      "1575     [0.3458007493067191, 0.1488610801652892, -0.09...\n",
      "34150    [0.22471385300739916, -0.21535486255894393, 0....\n",
      "20440    [0.21976064678214624, -0.04813982501158199, -0...\n",
      "49987    [0.36752246000471256, -0.17607963257083178, -0...\n",
      "                               ...                        \n",
      "12895    [0.20483901494858434, -0.04508991069278617, 0....\n",
      "60960    [0.296419404864837, -0.04091803082821383, 0.07...\n",
      "6012     [0.10656974408814512, -0.02633602960051711, 0....\n",
      "6558     [0.2775299676755072, -0.1994376435245847, 0.12...\n",
      "56267    [0.2667877512487862, 0.06728728052018784, 0.26...\n",
      "Name: tfidf_embedding, Length: 50073, dtype: object 6312     1\n",
      "1575     1\n",
      "34150    0\n",
      "20440    0\n",
      "49987    0\n",
      "        ..\n",
      "12895    1\n",
      "60960    1\n",
      "6012     1\n",
      "6558     0\n",
      "56267    1\n",
      "Name: label, Length: 50073, dtype: int64\n"
     ]
    }
   ],
   "source": [
    "from sklearn.model_selection import train_test_split\n",
    "\n",
    "seed = 45\n",
    "\n",
    "y = df[\"label\"]\n",
    "x = df[\"tfidf_embedding\"]\n",
    "\n",
    "x_train, x_test, y_train, y_test = train_test_split(x, y, test_size=0.2, random_state=seed)\n",
    "\n",
    "print(x_train, y_train)"
   ]
  },
  {
   "cell_type": "markdown",
   "metadata": {},
   "source": [
    "### Training\n",
    "\n",
    "no further preprocessing"
   ]
  },
  {
   "cell_type": "code",
   "execution_count": 51,
   "metadata": {},
   "outputs": [],
   "source": [
    "from sklearn import metrics\n",
    "from sklearn.ensemble import RandomForestClassifier"
   ]
  },
  {
   "cell_type": "code",
   "execution_count": 52,
   "metadata": {},
   "outputs": [
    {
     "name": "stdout",
     "output_type": "stream",
     "text": [
      "(50073,)\n",
      "(300,)\n"
     ]
    }
   ],
   "source": [
    "print(x_train.shape)\n",
    "print(x_train[0].shape)"
   ]
  },
  {
   "cell_type": "code",
   "execution_count": 53,
   "metadata": {},
   "outputs": [
    {
     "name": "stdout",
     "output_type": "stream",
     "text": [
      "(50073, 300)\n",
      "(12519, 300)\n"
     ]
    }
   ],
   "source": [
    "import numpy as np\n",
    "\n",
    "x_train_fixed = np.stack(x_train)  \n",
    "x_test_fixed = np.stack(x_test)\n",
    "print(x_train_fixed.shape)  \n",
    "print(x_test_fixed.shape)"
   ]
  },
  {
   "cell_type": "code",
   "execution_count": 54,
   "metadata": {},
   "outputs": [],
   "source": [
    "#instantiate with default params first\n",
    "rf = RandomForestClassifier(random_state=seed)"
   ]
  },
  {
   "cell_type": "markdown",
   "metadata": {},
   "source": [
    "## Hyperparameter tuning"
   ]
  },
  {
   "cell_type": "code",
   "execution_count": 55,
   "metadata": {},
   "outputs": [
    {
     "data": {
      "text/html": [
       "<style>#sk-container-id-7 {\n",
       "  /* Definition of color scheme common for light and dark mode */\n",
       "  --sklearn-color-text: #000;\n",
       "  --sklearn-color-text-muted: #666;\n",
       "  --sklearn-color-line: gray;\n",
       "  /* Definition of color scheme for unfitted estimators */\n",
       "  --sklearn-color-unfitted-level-0: #fff5e6;\n",
       "  --sklearn-color-unfitted-level-1: #f6e4d2;\n",
       "  --sklearn-color-unfitted-level-2: #ffe0b3;\n",
       "  --sklearn-color-unfitted-level-3: chocolate;\n",
       "  /* Definition of color scheme for fitted estimators */\n",
       "  --sklearn-color-fitted-level-0: #f0f8ff;\n",
       "  --sklearn-color-fitted-level-1: #d4ebff;\n",
       "  --sklearn-color-fitted-level-2: #b3dbfd;\n",
       "  --sklearn-color-fitted-level-3: cornflowerblue;\n",
       "\n",
       "  /* Specific color for light theme */\n",
       "  --sklearn-color-text-on-default-background: var(--sg-text-color, var(--theme-code-foreground, var(--jp-content-font-color1, black)));\n",
       "  --sklearn-color-background: var(--sg-background-color, var(--theme-background, var(--jp-layout-color0, white)));\n",
       "  --sklearn-color-border-box: var(--sg-text-color, var(--theme-code-foreground, var(--jp-content-font-color1, black)));\n",
       "  --sklearn-color-icon: #696969;\n",
       "\n",
       "  @media (prefers-color-scheme: dark) {\n",
       "    /* Redefinition of color scheme for dark theme */\n",
       "    --sklearn-color-text-on-default-background: var(--sg-text-color, var(--theme-code-foreground, var(--jp-content-font-color1, white)));\n",
       "    --sklearn-color-background: var(--sg-background-color, var(--theme-background, var(--jp-layout-color0, #111)));\n",
       "    --sklearn-color-border-box: var(--sg-text-color, var(--theme-code-foreground, var(--jp-content-font-color1, white)));\n",
       "    --sklearn-color-icon: #878787;\n",
       "  }\n",
       "}\n",
       "\n",
       "#sk-container-id-7 {\n",
       "  color: var(--sklearn-color-text);\n",
       "}\n",
       "\n",
       "#sk-container-id-7 pre {\n",
       "  padding: 0;\n",
       "}\n",
       "\n",
       "#sk-container-id-7 input.sk-hidden--visually {\n",
       "  border: 0;\n",
       "  clip: rect(1px 1px 1px 1px);\n",
       "  clip: rect(1px, 1px, 1px, 1px);\n",
       "  height: 1px;\n",
       "  margin: -1px;\n",
       "  overflow: hidden;\n",
       "  padding: 0;\n",
       "  position: absolute;\n",
       "  width: 1px;\n",
       "}\n",
       "\n",
       "#sk-container-id-7 div.sk-dashed-wrapped {\n",
       "  border: 1px dashed var(--sklearn-color-line);\n",
       "  margin: 0 0.4em 0.5em 0.4em;\n",
       "  box-sizing: border-box;\n",
       "  padding-bottom: 0.4em;\n",
       "  background-color: var(--sklearn-color-background);\n",
       "}\n",
       "\n",
       "#sk-container-id-7 div.sk-container {\n",
       "  /* jupyter's `normalize.less` sets `[hidden] { display: none; }`\n",
       "     but bootstrap.min.css set `[hidden] { display: none !important; }`\n",
       "     so we also need the `!important` here to be able to override the\n",
       "     default hidden behavior on the sphinx rendered scikit-learn.org.\n",
       "     See: https://github.com/scikit-learn/scikit-learn/issues/21755 */\n",
       "  display: inline-block !important;\n",
       "  position: relative;\n",
       "}\n",
       "\n",
       "#sk-container-id-7 div.sk-text-repr-fallback {\n",
       "  display: none;\n",
       "}\n",
       "\n",
       "div.sk-parallel-item,\n",
       "div.sk-serial,\n",
       "div.sk-item {\n",
       "  /* draw centered vertical line to link estimators */\n",
       "  background-image: linear-gradient(var(--sklearn-color-text-on-default-background), var(--sklearn-color-text-on-default-background));\n",
       "  background-size: 2px 100%;\n",
       "  background-repeat: no-repeat;\n",
       "  background-position: center center;\n",
       "}\n",
       "\n",
       "/* Parallel-specific style estimator block */\n",
       "\n",
       "#sk-container-id-7 div.sk-parallel-item::after {\n",
       "  content: \"\";\n",
       "  width: 100%;\n",
       "  border-bottom: 2px solid var(--sklearn-color-text-on-default-background);\n",
       "  flex-grow: 1;\n",
       "}\n",
       "\n",
       "#sk-container-id-7 div.sk-parallel {\n",
       "  display: flex;\n",
       "  align-items: stretch;\n",
       "  justify-content: center;\n",
       "  background-color: var(--sklearn-color-background);\n",
       "  position: relative;\n",
       "}\n",
       "\n",
       "#sk-container-id-7 div.sk-parallel-item {\n",
       "  display: flex;\n",
       "  flex-direction: column;\n",
       "}\n",
       "\n",
       "#sk-container-id-7 div.sk-parallel-item:first-child::after {\n",
       "  align-self: flex-end;\n",
       "  width: 50%;\n",
       "}\n",
       "\n",
       "#sk-container-id-7 div.sk-parallel-item:last-child::after {\n",
       "  align-self: flex-start;\n",
       "  width: 50%;\n",
       "}\n",
       "\n",
       "#sk-container-id-7 div.sk-parallel-item:only-child::after {\n",
       "  width: 0;\n",
       "}\n",
       "\n",
       "/* Serial-specific style estimator block */\n",
       "\n",
       "#sk-container-id-7 div.sk-serial {\n",
       "  display: flex;\n",
       "  flex-direction: column;\n",
       "  align-items: center;\n",
       "  background-color: var(--sklearn-color-background);\n",
       "  padding-right: 1em;\n",
       "  padding-left: 1em;\n",
       "}\n",
       "\n",
       "\n",
       "/* Toggleable style: style used for estimator/Pipeline/ColumnTransformer box that is\n",
       "clickable and can be expanded/collapsed.\n",
       "- Pipeline and ColumnTransformer use this feature and define the default style\n",
       "- Estimators will overwrite some part of the style using the `sk-estimator` class\n",
       "*/\n",
       "\n",
       "/* Pipeline and ColumnTransformer style (default) */\n",
       "\n",
       "#sk-container-id-7 div.sk-toggleable {\n",
       "  /* Default theme specific background. It is overwritten whether we have a\n",
       "  specific estimator or a Pipeline/ColumnTransformer */\n",
       "  background-color: var(--sklearn-color-background);\n",
       "}\n",
       "\n",
       "/* Toggleable label */\n",
       "#sk-container-id-7 label.sk-toggleable__label {\n",
       "  cursor: pointer;\n",
       "  display: flex;\n",
       "  width: 100%;\n",
       "  margin-bottom: 0;\n",
       "  padding: 0.5em;\n",
       "  box-sizing: border-box;\n",
       "  text-align: center;\n",
       "  align-items: start;\n",
       "  justify-content: space-between;\n",
       "  gap: 0.5em;\n",
       "}\n",
       "\n",
       "#sk-container-id-7 label.sk-toggleable__label .caption {\n",
       "  font-size: 0.6rem;\n",
       "  font-weight: lighter;\n",
       "  color: var(--sklearn-color-text-muted);\n",
       "}\n",
       "\n",
       "#sk-container-id-7 label.sk-toggleable__label-arrow:before {\n",
       "  /* Arrow on the left of the label */\n",
       "  content: \"▸\";\n",
       "  float: left;\n",
       "  margin-right: 0.25em;\n",
       "  color: var(--sklearn-color-icon);\n",
       "}\n",
       "\n",
       "#sk-container-id-7 label.sk-toggleable__label-arrow:hover:before {\n",
       "  color: var(--sklearn-color-text);\n",
       "}\n",
       "\n",
       "/* Toggleable content - dropdown */\n",
       "\n",
       "#sk-container-id-7 div.sk-toggleable__content {\n",
       "  max-height: 0;\n",
       "  max-width: 0;\n",
       "  overflow: hidden;\n",
       "  text-align: left;\n",
       "  /* unfitted */\n",
       "  background-color: var(--sklearn-color-unfitted-level-0);\n",
       "}\n",
       "\n",
       "#sk-container-id-7 div.sk-toggleable__content.fitted {\n",
       "  /* fitted */\n",
       "  background-color: var(--sklearn-color-fitted-level-0);\n",
       "}\n",
       "\n",
       "#sk-container-id-7 div.sk-toggleable__content pre {\n",
       "  margin: 0.2em;\n",
       "  border-radius: 0.25em;\n",
       "  color: var(--sklearn-color-text);\n",
       "  /* unfitted */\n",
       "  background-color: var(--sklearn-color-unfitted-level-0);\n",
       "}\n",
       "\n",
       "#sk-container-id-7 div.sk-toggleable__content.fitted pre {\n",
       "  /* unfitted */\n",
       "  background-color: var(--sklearn-color-fitted-level-0);\n",
       "}\n",
       "\n",
       "#sk-container-id-7 input.sk-toggleable__control:checked~div.sk-toggleable__content {\n",
       "  /* Expand drop-down */\n",
       "  max-height: 200px;\n",
       "  max-width: 100%;\n",
       "  overflow: auto;\n",
       "}\n",
       "\n",
       "#sk-container-id-7 input.sk-toggleable__control:checked~label.sk-toggleable__label-arrow:before {\n",
       "  content: \"▾\";\n",
       "}\n",
       "\n",
       "/* Pipeline/ColumnTransformer-specific style */\n",
       "\n",
       "#sk-container-id-7 div.sk-label input.sk-toggleable__control:checked~label.sk-toggleable__label {\n",
       "  color: var(--sklearn-color-text);\n",
       "  background-color: var(--sklearn-color-unfitted-level-2);\n",
       "}\n",
       "\n",
       "#sk-container-id-7 div.sk-label.fitted input.sk-toggleable__control:checked~label.sk-toggleable__label {\n",
       "  background-color: var(--sklearn-color-fitted-level-2);\n",
       "}\n",
       "\n",
       "/* Estimator-specific style */\n",
       "\n",
       "/* Colorize estimator box */\n",
       "#sk-container-id-7 div.sk-estimator input.sk-toggleable__control:checked~label.sk-toggleable__label {\n",
       "  /* unfitted */\n",
       "  background-color: var(--sklearn-color-unfitted-level-2);\n",
       "}\n",
       "\n",
       "#sk-container-id-7 div.sk-estimator.fitted input.sk-toggleable__control:checked~label.sk-toggleable__label {\n",
       "  /* fitted */\n",
       "  background-color: var(--sklearn-color-fitted-level-2);\n",
       "}\n",
       "\n",
       "#sk-container-id-7 div.sk-label label.sk-toggleable__label,\n",
       "#sk-container-id-7 div.sk-label label {\n",
       "  /* The background is the default theme color */\n",
       "  color: var(--sklearn-color-text-on-default-background);\n",
       "}\n",
       "\n",
       "/* On hover, darken the color of the background */\n",
       "#sk-container-id-7 div.sk-label:hover label.sk-toggleable__label {\n",
       "  color: var(--sklearn-color-text);\n",
       "  background-color: var(--sklearn-color-unfitted-level-2);\n",
       "}\n",
       "\n",
       "/* Label box, darken color on hover, fitted */\n",
       "#sk-container-id-7 div.sk-label.fitted:hover label.sk-toggleable__label.fitted {\n",
       "  color: var(--sklearn-color-text);\n",
       "  background-color: var(--sklearn-color-fitted-level-2);\n",
       "}\n",
       "\n",
       "/* Estimator label */\n",
       "\n",
       "#sk-container-id-7 div.sk-label label {\n",
       "  font-family: monospace;\n",
       "  font-weight: bold;\n",
       "  display: inline-block;\n",
       "  line-height: 1.2em;\n",
       "}\n",
       "\n",
       "#sk-container-id-7 div.sk-label-container {\n",
       "  text-align: center;\n",
       "}\n",
       "\n",
       "/* Estimator-specific */\n",
       "#sk-container-id-7 div.sk-estimator {\n",
       "  font-family: monospace;\n",
       "  border: 1px dotted var(--sklearn-color-border-box);\n",
       "  border-radius: 0.25em;\n",
       "  box-sizing: border-box;\n",
       "  margin-bottom: 0.5em;\n",
       "  /* unfitted */\n",
       "  background-color: var(--sklearn-color-unfitted-level-0);\n",
       "}\n",
       "\n",
       "#sk-container-id-7 div.sk-estimator.fitted {\n",
       "  /* fitted */\n",
       "  background-color: var(--sklearn-color-fitted-level-0);\n",
       "}\n",
       "\n",
       "/* on hover */\n",
       "#sk-container-id-7 div.sk-estimator:hover {\n",
       "  /* unfitted */\n",
       "  background-color: var(--sklearn-color-unfitted-level-2);\n",
       "}\n",
       "\n",
       "#sk-container-id-7 div.sk-estimator.fitted:hover {\n",
       "  /* fitted */\n",
       "  background-color: var(--sklearn-color-fitted-level-2);\n",
       "}\n",
       "\n",
       "/* Specification for estimator info (e.g. \"i\" and \"?\") */\n",
       "\n",
       "/* Common style for \"i\" and \"?\" */\n",
       "\n",
       ".sk-estimator-doc-link,\n",
       "a:link.sk-estimator-doc-link,\n",
       "a:visited.sk-estimator-doc-link {\n",
       "  float: right;\n",
       "  font-size: smaller;\n",
       "  line-height: 1em;\n",
       "  font-family: monospace;\n",
       "  background-color: var(--sklearn-color-background);\n",
       "  border-radius: 1em;\n",
       "  height: 1em;\n",
       "  width: 1em;\n",
       "  text-decoration: none !important;\n",
       "  margin-left: 0.5em;\n",
       "  text-align: center;\n",
       "  /* unfitted */\n",
       "  border: var(--sklearn-color-unfitted-level-1) 1pt solid;\n",
       "  color: var(--sklearn-color-unfitted-level-1);\n",
       "}\n",
       "\n",
       ".sk-estimator-doc-link.fitted,\n",
       "a:link.sk-estimator-doc-link.fitted,\n",
       "a:visited.sk-estimator-doc-link.fitted {\n",
       "  /* fitted */\n",
       "  border: var(--sklearn-color-fitted-level-1) 1pt solid;\n",
       "  color: var(--sklearn-color-fitted-level-1);\n",
       "}\n",
       "\n",
       "/* On hover */\n",
       "div.sk-estimator:hover .sk-estimator-doc-link:hover,\n",
       ".sk-estimator-doc-link:hover,\n",
       "div.sk-label-container:hover .sk-estimator-doc-link:hover,\n",
       ".sk-estimator-doc-link:hover {\n",
       "  /* unfitted */\n",
       "  background-color: var(--sklearn-color-unfitted-level-3);\n",
       "  color: var(--sklearn-color-background);\n",
       "  text-decoration: none;\n",
       "}\n",
       "\n",
       "div.sk-estimator.fitted:hover .sk-estimator-doc-link.fitted:hover,\n",
       ".sk-estimator-doc-link.fitted:hover,\n",
       "div.sk-label-container:hover .sk-estimator-doc-link.fitted:hover,\n",
       ".sk-estimator-doc-link.fitted:hover {\n",
       "  /* fitted */\n",
       "  background-color: var(--sklearn-color-fitted-level-3);\n",
       "  color: var(--sklearn-color-background);\n",
       "  text-decoration: none;\n",
       "}\n",
       "\n",
       "/* Span, style for the box shown on hovering the info icon */\n",
       ".sk-estimator-doc-link span {\n",
       "  display: none;\n",
       "  z-index: 9999;\n",
       "  position: relative;\n",
       "  font-weight: normal;\n",
       "  right: .2ex;\n",
       "  padding: .5ex;\n",
       "  margin: .5ex;\n",
       "  width: min-content;\n",
       "  min-width: 20ex;\n",
       "  max-width: 50ex;\n",
       "  color: var(--sklearn-color-text);\n",
       "  box-shadow: 2pt 2pt 4pt #999;\n",
       "  /* unfitted */\n",
       "  background: var(--sklearn-color-unfitted-level-0);\n",
       "  border: .5pt solid var(--sklearn-color-unfitted-level-3);\n",
       "}\n",
       "\n",
       ".sk-estimator-doc-link.fitted span {\n",
       "  /* fitted */\n",
       "  background: var(--sklearn-color-fitted-level-0);\n",
       "  border: var(--sklearn-color-fitted-level-3);\n",
       "}\n",
       "\n",
       ".sk-estimator-doc-link:hover span {\n",
       "  display: block;\n",
       "}\n",
       "\n",
       "/* \"?\"-specific style due to the `<a>` HTML tag */\n",
       "\n",
       "#sk-container-id-7 a.estimator_doc_link {\n",
       "  float: right;\n",
       "  font-size: 1rem;\n",
       "  line-height: 1em;\n",
       "  font-family: monospace;\n",
       "  background-color: var(--sklearn-color-background);\n",
       "  border-radius: 1rem;\n",
       "  height: 1rem;\n",
       "  width: 1rem;\n",
       "  text-decoration: none;\n",
       "  /* unfitted */\n",
       "  color: var(--sklearn-color-unfitted-level-1);\n",
       "  border: var(--sklearn-color-unfitted-level-1) 1pt solid;\n",
       "}\n",
       "\n",
       "#sk-container-id-7 a.estimator_doc_link.fitted {\n",
       "  /* fitted */\n",
       "  border: var(--sklearn-color-fitted-level-1) 1pt solid;\n",
       "  color: var(--sklearn-color-fitted-level-1);\n",
       "}\n",
       "\n",
       "/* On hover */\n",
       "#sk-container-id-7 a.estimator_doc_link:hover {\n",
       "  /* unfitted */\n",
       "  background-color: var(--sklearn-color-unfitted-level-3);\n",
       "  color: var(--sklearn-color-background);\n",
       "  text-decoration: none;\n",
       "}\n",
       "\n",
       "#sk-container-id-7 a.estimator_doc_link.fitted:hover {\n",
       "  /* fitted */\n",
       "  background-color: var(--sklearn-color-fitted-level-3);\n",
       "}\n",
       "</style><div id=\"sk-container-id-7\" class=\"sk-top-container\"><div class=\"sk-text-repr-fallback\"><pre>RandomizedSearchCV(cv=5, estimator=RandomForestClassifier(random_state=45),\n",
       "                   n_iter=20, n_jobs=-1,\n",
       "                   param_distributions={&#x27;max_depth&#x27;: &lt;scipy.stats._distn_infrastructure.rv_discrete_frozen object at 0x000002A3BBAC76B0&gt;,\n",
       "                                        &#x27;n_estimators&#x27;: &lt;scipy.stats._distn_infrastructure.rv_discrete_frozen object at 0x000002A3BBAF22D0&gt;},\n",
       "                   random_state=45)</pre><b>In a Jupyter environment, please rerun this cell to show the HTML representation or trust the notebook. <br />On GitHub, the HTML representation is unable to render, please try loading this page with nbviewer.org.</b></div><div class=\"sk-container\" hidden><div class=\"sk-item sk-dashed-wrapped\"><div class=\"sk-label-container\"><div class=\"sk-label fitted sk-toggleable\"><input class=\"sk-toggleable__control sk-hidden--visually\" id=\"sk-estimator-id-15\" type=\"checkbox\" ><label for=\"sk-estimator-id-15\" class=\"sk-toggleable__label fitted sk-toggleable__label-arrow\"><div><div>RandomizedSearchCV</div></div><div><a class=\"sk-estimator-doc-link fitted\" rel=\"noreferrer\" target=\"_blank\" href=\"https://scikit-learn.org/1.6/modules/generated/sklearn.model_selection.RandomizedSearchCV.html\">?<span>Documentation for RandomizedSearchCV</span></a><span class=\"sk-estimator-doc-link fitted\">i<span>Fitted</span></span></div></label><div class=\"sk-toggleable__content fitted\"><pre>RandomizedSearchCV(cv=5, estimator=RandomForestClassifier(random_state=45),\n",
       "                   n_iter=20, n_jobs=-1,\n",
       "                   param_distributions={&#x27;max_depth&#x27;: &lt;scipy.stats._distn_infrastructure.rv_discrete_frozen object at 0x000002A3BBAC76B0&gt;,\n",
       "                                        &#x27;n_estimators&#x27;: &lt;scipy.stats._distn_infrastructure.rv_discrete_frozen object at 0x000002A3BBAF22D0&gt;},\n",
       "                   random_state=45)</pre></div> </div></div><div class=\"sk-parallel\"><div class=\"sk-parallel-item\"><div class=\"sk-item\"><div class=\"sk-label-container\"><div class=\"sk-label fitted sk-toggleable\"><input class=\"sk-toggleable__control sk-hidden--visually\" id=\"sk-estimator-id-16\" type=\"checkbox\" ><label for=\"sk-estimator-id-16\" class=\"sk-toggleable__label fitted sk-toggleable__label-arrow\"><div><div>best_estimator_: RandomForestClassifier</div></div></label><div class=\"sk-toggleable__content fitted\"><pre>RandomForestClassifier(max_depth=14, n_estimators=125, random_state=45)</pre></div> </div></div><div class=\"sk-serial\"><div class=\"sk-item\"><div class=\"sk-estimator fitted sk-toggleable\"><input class=\"sk-toggleable__control sk-hidden--visually\" id=\"sk-estimator-id-17\" type=\"checkbox\" ><label for=\"sk-estimator-id-17\" class=\"sk-toggleable__label fitted sk-toggleable__label-arrow\"><div><div>RandomForestClassifier</div></div><div><a class=\"sk-estimator-doc-link fitted\" rel=\"noreferrer\" target=\"_blank\" href=\"https://scikit-learn.org/1.6/modules/generated/sklearn.ensemble.RandomForestClassifier.html\">?<span>Documentation for RandomForestClassifier</span></a></div></label><div class=\"sk-toggleable__content fitted\"><pre>RandomForestClassifier(max_depth=14, n_estimators=125, random_state=45)</pre></div> </div></div></div></div></div></div></div></div></div>"
      ],
      "text/plain": [
       "RandomizedSearchCV(cv=5, estimator=RandomForestClassifier(random_state=45),\n",
       "                   n_iter=20, n_jobs=-1,\n",
       "                   param_distributions={'max_depth': <scipy.stats._distn_infrastructure.rv_discrete_frozen object at 0x000002A3BBAC76B0>,\n",
       "                                        'n_estimators': <scipy.stats._distn_infrastructure.rv_discrete_frozen object at 0x000002A3BBAF22D0>},\n",
       "                   random_state=45)"
      ]
     },
     "execution_count": 55,
     "metadata": {},
     "output_type": "execute_result"
    }
   ],
   "source": [
    "#randomizedsearchcv - includes cross validation\n",
    "from sklearn.model_selection import RandomizedSearchCV\n",
    "from scipy.stats import randint\n",
    "\n",
    "param_dist = {'n_estimators': randint(50,150),\n",
    "              'max_depth': randint(3,15)}\n",
    "\n",
    "\n",
    "# Use random search to find the best hyperparameters\n",
    "rand_search = RandomizedSearchCV(rf, \n",
    "                                 param_distributions = param_dist, \n",
    "                                 n_iter=20, \n",
    "                                 cv=5,\n",
    "                                 n_jobs=-1,\n",
    "                                 random_state=seed)\n",
    "\n",
    "# Fit the random search object to the data\n",
    "rand_search.fit(x_train_fixed, y_train)\n"
   ]
  },
  {
   "cell_type": "code",
   "execution_count": 56,
   "metadata": {},
   "outputs": [
    {
     "name": "stdout",
     "output_type": "stream",
     "text": [
      "Best hyperparameters: {'max_depth': 14, 'n_estimators': 125}\n"
     ]
    }
   ],
   "source": [
    "# Create a variable for the best model\n",
    "tfidf_rf = rand_search.best_estimator_\n",
    "\n",
    "# Print the best hyperparameters\n",
    "print('Best hyperparameters:',  rand_search.best_params_)"
   ]
  },
  {
   "cell_type": "code",
   "execution_count": 57,
   "metadata": {},
   "outputs": [
    {
     "data": {
      "image/png": "[encoded data removed]",
      "text/plain": [
       "<Figure size 640x480 with 2 Axes>"
      ]
     },
     "metadata": {},
     "output_type": "display_data"
    }
   ],
   "source": [
    "from sklearn.metrics import accuracy_score, confusion_matrix, precision_score, recall_score, ConfusionMatrixDisplay\n",
    "# Generate predictions with the best model\n",
    "y_pred = tfidf_rf.predict(x_test_fixed)\n",
    "\n",
    "# Create the confusion matrix\n",
    "cm = confusion_matrix(y_test, y_pred)\n",
    "\n",
    "ConfusionMatrixDisplay(confusion_matrix=cm).plot();"
   ]
  },
  {
   "cell_type": "code",
   "execution_count": 58,
   "metadata": {},
   "outputs": [
    {
     "name": "stdout",
     "output_type": "stream",
     "text": [
      "Accuracy: 0.8674814282290918\n",
      "Precision: 0.8490634005763689\n",
      "Recall: 0.8516711833785005\n"
     ]
    }
   ],
   "source": [
    "accuracy = accuracy_score(y_test, y_pred)\n",
    "precision = precision_score(y_test, y_pred)\n",
    "recall = recall_score(y_test, y_pred)\n",
    "\n",
    "print(\"Accuracy:\", accuracy)\n",
    "print(\"Precision:\", precision)\n",
    "print(\"Recall:\", recall)"
   ]
  },
  {
   "cell_type": "markdown",
   "metadata": {},
   "source": [
    "## BOW Embedding"
   ]
  },
  {
   "cell_type": "code",
   "execution_count": 44,
   "metadata": {},
   "outputs": [
    {
     "name": "stdout",
     "output_type": "stream",
     "text": [
      "(5520, 300)\n",
      "(1380, 300)\n"
     ]
    }
   ],
   "source": [
    "x = df[\"bow_embedding\"]\n",
    "\n",
    "x_train, x_test, y_train, y_test = train_test_split(x, y, test_size=0.2, random_state=seed)\n",
    "\n",
    "x_train_fixed = np.stack(x_train)  \n",
    "x_test_fixed = np.stack(x_test)\n",
    "print(x_train_fixed.shape)  \n",
    "print(x_test_fixed.shape)"
   ]
  },
  {
   "cell_type": "code",
   "execution_count": 45,
   "metadata": {},
   "outputs": [
    {
     "name": "stdout",
     "output_type": "stream",
     "text": [
      "Best hyperparameters: {'max_depth': 12, 'n_estimators': 111}\n"
     ]
    }
   ],
   "source": [
    "rand_search.fit(x_train_fixed, y_train)\n",
    "\n",
    "# Create a variable for the best model\n",
    "bow_rf = rand_search.best_estimator_\n",
    "\n",
    "# Print the best hyperparameters\n",
    "print('Best hyperparameters:',  rand_search.best_params_)"
   ]
  },
  {
   "cell_type": "code",
   "execution_count": 46,
   "metadata": {},
   "outputs": [
    {
     "data": {
      "image/png": "[encoded data removed]",
      "text/plain": [
       "<Figure size 640x480 with 2 Axes>"
      ]
     },
     "metadata": {},
     "output_type": "display_data"
    }
   ],
   "source": [
    "y_pred = bow_rf.predict(x_test_fixed)\n",
    "\n",
    "# Create the confusion matrix\n",
    "cm = confusion_matrix(y_test, y_pred)\n",
    "\n",
    "ConfusionMatrixDisplay(confusion_matrix=cm).plot();"
   ]
  },
  {
   "cell_type": "code",
   "execution_count": 47,
   "metadata": {},
   "outputs": [
    {
     "name": "stdout",
     "output_type": "stream",
     "text": [
      "Accuracy: 0.7101449275362319\n",
      "Precision: 0.6270627062706271\n",
      "Recall: 0.39832285115303984\n"
     ]
    }
   ],
   "source": [
    "accuracy = accuracy_score(y_test, y_pred)\n",
    "precision = precision_score(y_test, y_pred)\n",
    "recall = recall_score(y_test, y_pred)\n",
    "\n",
    "print(\"Accuracy:\", accuracy)\n",
    "print(\"Precision:\", precision)\n",
    "print(\"Recall:\", recall)"
   ]
  },
  {
   "cell_type": "markdown",
   "metadata": {},
   "source": [
    "## CBOW-W2V"
   ]
  },
  {
   "cell_type": "code",
   "execution_count": 60,
   "metadata": {},
   "outputs": [
    {
     "name": "stdout",
     "output_type": "stream",
     "text": [
      "(50073, 300)\n",
      "(12519, 300)\n"
     ]
    }
   ],
   "source": [
    "x = df[\"w2v_embedding\"]\n",
    "\n",
    "x_train, x_test, y_train, y_test = train_test_split(x, y, test_size=0.2, random_state=seed)\n",
    "\n",
    "x_train_fixed = np.stack(x_train)  \n",
    "x_test_fixed = np.stack(x_test)\n",
    "print(x_train_fixed.shape)  \n",
    "print(x_test_fixed.shape)"
   ]
  },
  {
   "cell_type": "code",
   "execution_count": 61,
   "metadata": {},
   "outputs": [
    {
     "name": "stdout",
     "output_type": "stream",
     "text": [
      "Best hyperparameters: {'max_depth': 14, 'n_estimators': 125}\n"
     ]
    }
   ],
   "source": [
    "rand_search.fit(x_train_fixed, y_train)\n",
    "\n",
    "# Create a variable for the best model\n",
    "w2v_rf = rand_search.best_estimator_\n",
    "\n",
    "# Print the best hyperparameters\n",
    "print('Best hyperparameters:',  rand_search.best_params_)"
   ]
  },
  {
   "cell_type": "code",
   "execution_count": 62,
   "metadata": {},
   "outputs": [
    {
     "data": {
      "image/png": "[encoded data removed]",
      "text/plain": [
       "<Figure size 640x480 with 2 Axes>"
      ]
     },
     "metadata": {},
     "output_type": "display_data"
    }
   ],
   "source": [
    "y_pred = w2v_rf.predict(x_test_fixed)\n",
    "\n",
    "# Create the confusion matrix\n",
    "cm = confusion_matrix(y_test, y_pred)\n",
    "\n",
    "ConfusionMatrixDisplay(confusion_matrix=cm).plot();"
   ]
  },
  {
   "cell_type": "code",
   "execution_count": 63,
   "metadata": {},
   "outputs": [
    {
     "name": "stdout",
     "output_type": "stream",
     "text": [
      "Accuracy: 0.8539819474398914\n",
      "Precision: 0.844452703958372\n",
      "Recall: 0.8209575429087624\n"
     ]
    }
   ],
   "source": [
    "accuracy = accuracy_score(y_test, y_pred)\n",
    "precision = precision_score(y_test, y_pred)\n",
    "recall = recall_score(y_test, y_pred)\n",
    "\n",
    "print(\"Accuracy:\", accuracy)\n",
    "print(\"Precision:\", precision)\n",
    "print(\"Recall:\", recall)"
   ]
  },
  {
   "cell_type": "markdown",
   "metadata": {},
   "source": [
    "## roBERTa (Iter 4)"
   ]
  },
  {
   "cell_type": "code",
   "execution_count": 65,
   "metadata": {},
   "outputs": [
    {
     "name": "stdout",
     "output_type": "stream",
     "text": [
      "(50073, 300)\n",
      "(12519, 300)\n"
     ]
    }
   ],
   "source": [
    "x = df[\"roberta_embedding\"]\n",
    "\n",
    "x_train, x_test, y_train, y_test = train_test_split(x, y, test_size=0.2, random_state=seed)\n",
    "\n",
    "x_train_fixed = np.stack(x_train)  \n",
    "x_test_fixed = np.stack(x_test)\n",
    "print(x_train_fixed.shape)  \n",
    "print(x_test_fixed.shape)"
   ]
  },
  {
   "cell_type": "code",
   "execution_count": 66,
   "metadata": {},
   "outputs": [
    {
     "name": "stdout",
     "output_type": "stream",
     "text": [
      "Best hyperparameters: {'max_depth': 14, 'n_estimators': 125}\n"
     ]
    }
   ],
   "source": [
    "rand_search.fit(x_train_fixed, y_train)\n",
    "\n",
    "# Create a variable for the best model\n",
    "roberta_rf = rand_search.best_estimator_\n",
    "\n",
    "# Print the best hyperparameters\n",
    "print('Best hyperparameters:',  rand_search.best_params_)"
   ]
  },
  {
   "cell_type": "code",
   "execution_count": 67,
   "metadata": {},
   "outputs": [
    {
     "data": {
      "image/png": "[encoded data removed]",
      "text/plain": [
       "<Figure size 640x480 with 2 Axes>"
      ]
     },
     "metadata": {},
     "output_type": "display_data"
    }
   ],
   "source": [
    "y_pred = roberta_rf.predict(x_test_fixed)\n",
    "\n",
    "# Create the confusion matrix\n",
    "cm = confusion_matrix(y_test, y_pred)\n",
    "\n",
    "ConfusionMatrixDisplay(confusion_matrix=cm).plot();"
   ]
  },
  {
   "cell_type": "code",
   "execution_count": 68,
   "metadata": {},
   "outputs": [
    {
     "name": "stdout",
     "output_type": "stream",
     "text": [
      "Accuracy: 0.9297867241792476\n",
      "Precision: 0.9359550561797753\n",
      "Recall: 0.9029810298102982\n"
     ]
    }
   ],
   "source": [
    "accuracy = accuracy_score(y_test, y_pred)\n",
    "precision = precision_score(y_test, y_pred)\n",
    "recall = recall_score(y_test, y_pred)\n",
    "\n",
    "print(\"Accuracy:\", accuracy)\n",
    "print(\"Precision:\", precision)\n",
    "print(\"Recall:\", recall)"
   ]
  },
  {
   "cell_type": "markdown",
   "metadata": {},
   "source": [
    "## Results on test set"
   ]
  },
  {
   "cell_type": "code",
   "execution_count": 69,
   "metadata": {},
   "outputs": [
    {
     "name": "stdout",
     "output_type": "stream",
     "text": [
      "DatasetDict({\n",
      "    train: Dataset({\n",
      "        features: ['text', 'label', 'tfidf_embedding', 'bow_embedding', 'w2v_embedding', 'roberta_embedding'],\n",
      "        num_rows: 6900\n",
      "    })\n",
      "})\n"
     ]
    }
   ],
   "source": [
    "test_dataset = load_dataset(\"lelexuanzz/Gossipcop_Politifact_Test\")\n",
    "print(test_dataset)"
   ]
  },
  {
   "cell_type": "code",
   "execution_count": 72,
   "metadata": {},
   "outputs": [
    {
     "data": {
      "text/html": [
       "<div>\n",
       "<style scoped>\n",
       "    .dataframe tbody tr th:only-of-type {\n",
       "        vertical-align: middle;\n",
       "    }\n",
       "\n",
       "    .dataframe tbody tr th {\n",
       "        vertical-align: top;\n",
       "    }\n",
       "\n",
       "    .dataframe thead th {\n",
       "        text-align: right;\n",
       "    }\n",
       "</style>\n",
       "<table border=\"1\" class=\"dataframe\">\n",
       "  <thead>\n",
       "    <tr style=\"text-align: right;\">\n",
       "      <th></th>\n",
       "      <th>text</th>\n",
       "      <th>label</th>\n",
       "      <th>tfidf_embedding</th>\n",
       "      <th>bow_embedding</th>\n",
       "      <th>w2v_embedding</th>\n",
       "      <th>roberta_embedding</th>\n",
       "    </tr>\n",
       "  </thead>\n",
       "  <tbody>\n",
       "    <tr>\n",
       "      <th>0</th>\n",
       "      <td>The media reported on “5 TikTok dances you can...</td>\n",
       "      <td>0</td>\n",
       "      <td>[0.32230591024075883, -0.028311949900530733, 0...</td>\n",
       "      <td>[4.111553694916485, -1.4091154149948346, -2.22...</td>\n",
       "      <td>[0.023112578, 0.004341462, -0.028385904, 0.039...</td>\n",
       "      <td>[-1.7613875, -0.29602507, 1.0549823, 0.4420643...</td>\n",
       "    </tr>\n",
       "    <tr>\n",
       "      <th>1</th>\n",
       "      <td>\"Over 240,000 'unverified' ballots have alread...</td>\n",
       "      <td>0</td>\n",
       "      <td>[0.3085783060828623, 0.11941719268786223, 0.04...</td>\n",
       "      <td>[15.340171294779958, 0.6782201913070947, -3.95...</td>\n",
       "      <td>[0.013536842, 0.009806181, 0.0037024287, 0.046...</td>\n",
       "      <td>[0.5113651, -0.5632596, -0.08679409, 0.0578204...</td>\n",
       "    </tr>\n",
       "    <tr>\n",
       "      <th>2</th>\n",
       "      <td>Says \"Ron Johnson is making excuses for rioter...</td>\n",
       "      <td>1</td>\n",
       "      <td>[0.42330438481857957, 0.07862740950249068, 0.0...</td>\n",
       "      <td>[17.579511089264834, -3.370470538008803, -6.03...</td>\n",
       "      <td>[0.023063188, 0.059482925, 0.01734151, 0.06674...</td>\n",
       "      <td>[0.4061544, 0.033350937, -0.30923274, -0.04415...</td>\n",
       "    </tr>\n",
       "    <tr>\n",
       "      <th>3</th>\n",
       "      <td>“We have seen over the last 10 years ... under...</td>\n",
       "      <td>0</td>\n",
       "      <td>[0.3235193218432473, 0.1435034790001879, -0.01...</td>\n",
       "      <td>[13.623137823124184, 2.594215458815296, 1.1975...</td>\n",
       "      <td>[-0.03447485, 0.012470036, 0.040506534, 0.1266...</td>\n",
       "      <td>[0.74233645, -0.8022974, 0.30516905, -0.150992...</td>\n",
       "    </tr>\n",
       "    <tr>\n",
       "      <th>4</th>\n",
       "      <td>“I don’t get involved in the hiring and firing...</td>\n",
       "      <td>0</td>\n",
       "      <td>[0.21714023268741092, -0.013357531354942328, 0...</td>\n",
       "      <td>[11.715673205868814, -3.8977639951627094, -0.5...</td>\n",
       "      <td>[-0.039161813, 0.050845865, 0.045167223, -0.00...</td>\n",
       "      <td>[0.4902299, -0.04709744, -0.11096978, -0.33383...</td>\n",
       "    </tr>\n",
       "    <tr>\n",
       "      <th>...</th>\n",
       "      <td>...</td>\n",
       "      <td>...</td>\n",
       "      <td>...</td>\n",
       "      <td>...</td>\n",
       "      <td>...</td>\n",
       "      <td>...</td>\n",
       "    </tr>\n",
       "    <tr>\n",
       "      <th>6895</th>\n",
       "      <td>Wedding Album: Dancing with the Stars Pro Lind...</td>\n",
       "      <td>0</td>\n",
       "      <td>[0.14163919484467705, -0.1871535330863532, -0....</td>\n",
       "      <td>[0.5081918596591085, -0.4770132598925509, 0.04...</td>\n",
       "      <td>[0.007478841, 0.028465271, 0.01225586, 0.05277...</td>\n",
       "      <td>[-4.3445463, -0.82720375, -0.76975673, 0.55827...</td>\n",
       "    </tr>\n",
       "    <tr>\n",
       "      <th>6896</th>\n",
       "      <td>WATCH: Sneak Peek: Arizona's Furious Alex Atta...</td>\n",
       "      <td>0</td>\n",
       "      <td>[0.10089287837516506, -0.15370171061200275, -0...</td>\n",
       "      <td>[0.34453471754679216, -0.49345817220335975, 0....</td>\n",
       "      <td>[0.03495687, 0.08366224, 0.03197157, 0.0962388...</td>\n",
       "      <td>[-3.484783, -0.13741834, -0.2212331, 0.3501901...</td>\n",
       "    </tr>\n",
       "    <tr>\n",
       "      <th>6897</th>\n",
       "      <td>Mary Kay Letourneau 'Hopeful' She Can Fix Marr...</td>\n",
       "      <td>0</td>\n",
       "      <td>[0.30012685395650657, -0.2629061112392972, -0....</td>\n",
       "      <td>[5.587042723074881, -3.018912737323734, -0.696...</td>\n",
       "      <td>[0.0066373795, 0.04132683, 0.008552303, 0.0507...</td>\n",
       "      <td>[0.060427, 0.93066996, -0.5383188, -0.11787002...</td>\n",
       "    </tr>\n",
       "    <tr>\n",
       "      <th>6898</th>\n",
       "      <td>Charlize Theron still upset Aeon Flux didn’t w...</td>\n",
       "      <td>0</td>\n",
       "      <td>[0.18598375894521132, -0.26601918530104635, -0...</td>\n",
       "      <td>[1.8348212505816643, -2.5021137033474385, 0.45...</td>\n",
       "      <td>[0.032494266, 0.038722403, -0.01410776, 0.0764...</td>\n",
       "      <td>[0.29304072, 1.2304765, -0.0635877, 0.6557827,...</td>\n",
       "    </tr>\n",
       "    <tr>\n",
       "      <th>6899</th>\n",
       "      <td>Debbie Gibson Says ‘DWTS’ Was a Healing Experi...</td>\n",
       "      <td>0</td>\n",
       "      <td>[0.14173209453104368, -0.1633085748664822, -0....</td>\n",
       "      <td>[1.0371355773081052, -0.8878316745591224, -0.0...</td>\n",
       "      <td>[-0.034314055, 0.05650489, -0.031183043, 0.083...</td>\n",
       "      <td>[-2.2836635, -0.034083482, 0.5534697, 1.026466...</td>\n",
       "    </tr>\n",
       "  </tbody>\n",
       "</table>\n",
       "<p>6900 rows × 6 columns</p>\n",
       "</div>"
      ],
      "text/plain": [
       "                                                   text  label  \\\n",
       "0     The media reported on “5 TikTok dances you can...      0   \n",
       "1     \"Over 240,000 'unverified' ballots have alread...      0   \n",
       "2     Says \"Ron Johnson is making excuses for rioter...      1   \n",
       "3     “We have seen over the last 10 years ... under...      0   \n",
       "4     “I don’t get involved in the hiring and firing...      0   \n",
       "...                                                 ...    ...   \n",
       "6895  Wedding Album: Dancing with the Stars Pro Lind...      0   \n",
       "6896  WATCH: Sneak Peek: Arizona's Furious Alex Atta...      0   \n",
       "6897  Mary Kay Letourneau 'Hopeful' She Can Fix Marr...      0   \n",
       "6898  Charlize Theron still upset Aeon Flux didn’t w...      0   \n",
       "6899  Debbie Gibson Says ‘DWTS’ Was a Healing Experi...      0   \n",
       "\n",
       "                                        tfidf_embedding  \\\n",
       "0     [0.32230591024075883, -0.028311949900530733, 0...   \n",
       "1     [0.3085783060828623, 0.11941719268786223, 0.04...   \n",
       "2     [0.42330438481857957, 0.07862740950249068, 0.0...   \n",
       "3     [0.3235193218432473, 0.1435034790001879, -0.01...   \n",
       "4     [0.21714023268741092, -0.013357531354942328, 0...   \n",
       "...                                                 ...   \n",
       "6895  [0.14163919484467705, -0.1871535330863532, -0....   \n",
       "6896  [0.10089287837516506, -0.15370171061200275, -0...   \n",
       "6897  [0.30012685395650657, -0.2629061112392972, -0....   \n",
       "6898  [0.18598375894521132, -0.26601918530104635, -0...   \n",
       "6899  [0.14173209453104368, -0.1633085748664822, -0....   \n",
       "\n",
       "                                          bow_embedding  \\\n",
       "0     [4.111553694916485, -1.4091154149948346, -2.22...   \n",
       "1     [15.340171294779958, 0.6782201913070947, -3.95...   \n",
       "2     [17.579511089264834, -3.370470538008803, -6.03...   \n",
       "3     [13.623137823124184, 2.594215458815296, 1.1975...   \n",
       "4     [11.715673205868814, -3.8977639951627094, -0.5...   \n",
       "...                                                 ...   \n",
       "6895  [0.5081918596591085, -0.4770132598925509, 0.04...   \n",
       "6896  [0.34453471754679216, -0.49345817220335975, 0....   \n",
       "6897  [5.587042723074881, -3.018912737323734, -0.696...   \n",
       "6898  [1.8348212505816643, -2.5021137033474385, 0.45...   \n",
       "6899  [1.0371355773081052, -0.8878316745591224, -0.0...   \n",
       "\n",
       "                                          w2v_embedding  \\\n",
       "0     [0.023112578, 0.004341462, -0.028385904, 0.039...   \n",
       "1     [0.013536842, 0.009806181, 0.0037024287, 0.046...   \n",
       "2     [0.023063188, 0.059482925, 0.01734151, 0.06674...   \n",
       "3     [-0.03447485, 0.012470036, 0.040506534, 0.1266...   \n",
       "4     [-0.039161813, 0.050845865, 0.045167223, -0.00...   \n",
       "...                                                 ...   \n",
       "6895  [0.007478841, 0.028465271, 0.01225586, 0.05277...   \n",
       "6896  [0.03495687, 0.08366224, 0.03197157, 0.0962388...   \n",
       "6897  [0.0066373795, 0.04132683, 0.008552303, 0.0507...   \n",
       "6898  [0.032494266, 0.038722403, -0.01410776, 0.0764...   \n",
       "6899  [-0.034314055, 0.05650489, -0.031183043, 0.083...   \n",
       "\n",
       "                                      roberta_embedding  \n",
       "0     [-1.7613875, -0.29602507, 1.0549823, 0.4420643...  \n",
       "1     [0.5113651, -0.5632596, -0.08679409, 0.0578204...  \n",
       "2     [0.4061544, 0.033350937, -0.30923274, -0.04415...  \n",
       "3     [0.74233645, -0.8022974, 0.30516905, -0.150992...  \n",
       "4     [0.4902299, -0.04709744, -0.11096978, -0.33383...  \n",
       "...                                                 ...  \n",
       "6895  [-4.3445463, -0.82720375, -0.76975673, 0.55827...  \n",
       "6896  [-3.484783, -0.13741834, -0.2212331, 0.3501901...  \n",
       "6897  [0.060427, 0.93066996, -0.5383188, -0.11787002...  \n",
       "6898  [0.29304072, 1.2304765, -0.0635877, 0.6557827,...  \n",
       "6899  [-2.2836635, -0.034083482, 0.5534697, 1.026466...  \n",
       "\n",
       "[6900 rows x 6 columns]"
      ]
     },
     "metadata": {},
     "output_type": "display_data"
    }
   ],
   "source": [
    "test_df = test_dataset[\"train\"].to_pandas()\n",
    "display(test_df)\n"
   ]
  },
  {
   "cell_type": "markdown",
   "metadata": {},
   "source": [
    "## TF-IDF"
   ]
  },
  {
   "cell_type": "code",
   "execution_count": 73,
   "metadata": {},
   "outputs": [
    {
     "name": "stdout",
     "output_type": "stream",
     "text": [
      "(6900, 300)\n"
     ]
    }
   ],
   "source": [
    "y_test_set = test_df[\"label\"]\n",
    "x_test_set = test_df[\"tfidf_embedding\"]\n",
    "x_test_set_fixed = np.stack(x_test_set)\n",
    "print(x_test_set_fixed.shape)"
   ]
  },
  {
   "cell_type": "code",
   "execution_count": 74,
   "metadata": {},
   "outputs": [],
   "source": [
    "y_test_pred = tfidf_rf.predict(x_test_set_fixed)"
   ]
  },
  {
   "cell_type": "code",
   "execution_count": 75,
   "metadata": {},
   "outputs": [
    {
     "name": "stdout",
     "output_type": "stream",
     "text": [
      "Accuracy: 0.5807246376811595\n",
      "Precision: 0.3419718309859155\n",
      "Recall: 0.2602915951972556\n"
     ]
    }
   ],
   "source": [
    "accuracy = accuracy_score(y_test_set, y_test_pred)\n",
    "precision = precision_score(y_test_set, y_test_pred)\n",
    "recall = recall_score(y_test_set, y_test_pred)\n",
    "\n",
    "print(\"Accuracy:\", accuracy)\n",
    "print(\"Precision:\", precision)\n",
    "print(\"Recall:\", recall)"
   ]
  },
  {
   "cell_type": "markdown",
   "metadata": {},
   "source": [
    "## Bow"
   ]
  },
  {
   "cell_type": "code",
   "execution_count": 87,
   "metadata": {},
   "outputs": [
    {
     "name": "stdout",
     "output_type": "stream",
     "text": [
      "(6900, 300)\n"
     ]
    }
   ],
   "source": [
    "x_test_set = test_df[\"bow_embedding\"]\n",
    "x_test_set_fixed = np.stack(x_test_set)\n",
    "print(x_test_set_fixed.shape)"
   ]
  },
  {
   "cell_type": "code",
   "execution_count": 88,
   "metadata": {},
   "outputs": [],
   "source": [
    "y_test_pred = bow_rf.predict(x_test_set_fixed)"
   ]
  },
  {
   "cell_type": "code",
   "execution_count": 89,
   "metadata": {},
   "outputs": [
    {
     "name": "stdout",
     "output_type": "stream",
     "text": [
      "Accuracy: 0.902463768115942\n",
      "Precision: 0.940053050397878\n",
      "Recall: 0.7598627787307033\n"
     ]
    }
   ],
   "source": [
    "accuracy = accuracy_score(y_test_set, y_test_pred)\n",
    "precision = precision_score(y_test_set, y_test_pred)\n",
    "recall = recall_score(y_test_set, y_test_pred)\n",
    "\n",
    "print(\"Accuracy:\", accuracy)\n",
    "print(\"Precision:\", precision)\n",
    "print(\"Recall:\", recall)"
   ]
  },
  {
   "cell_type": "markdown",
   "metadata": {},
   "source": [
    "## W2V"
   ]
  },
  {
   "cell_type": "code",
   "execution_count": 79,
   "metadata": {},
   "outputs": [
    {
     "name": "stdout",
     "output_type": "stream",
     "text": [
      "(6900, 300)\n"
     ]
    }
   ],
   "source": [
    "x_test_set = test_df[\"w2v_embedding\"]\n",
    "x_test_set_fixed = np.stack(x_test_set)\n",
    "print(x_test_set_fixed.shape)"
   ]
  },
  {
   "cell_type": "code",
   "execution_count": 80,
   "metadata": {},
   "outputs": [],
   "source": [
    "y_test_pred = w2v_rf.predict(x_test_set_fixed)"
   ]
  },
  {
   "cell_type": "code",
   "execution_count": 81,
   "metadata": {},
   "outputs": [
    {
     "name": "stdout",
     "output_type": "stream",
     "text": [
      "Accuracy: 0.4071014492753623\n",
      "Precision: 0.22660864159154492\n",
      "Recall: 0.31260720411663806\n"
     ]
    }
   ],
   "source": [
    "accuracy = accuracy_score(y_test_set, y_test_pred)\n",
    "precision = precision_score(y_test_set, y_test_pred)\n",
    "recall = recall_score(y_test_set, y_test_pred)\n",
    "\n",
    "print(\"Accuracy:\", accuracy)\n",
    "print(\"Precision:\", precision)\n",
    "print(\"Recall:\", recall)"
   ]
  },
  {
   "cell_type": "markdown",
   "metadata": {},
   "source": [
    "## roBERTa (Iter 4)"
   ]
  },
  {
   "cell_type": "code",
   "execution_count": 82,
   "metadata": {},
   "outputs": [
    {
     "name": "stdout",
     "output_type": "stream",
     "text": [
      "(6900, 300)\n"
     ]
    }
   ],
   "source": [
    "x_test_set = test_df[\"roberta_embedding\"]\n",
    "x_test_set_fixed = np.stack(x_test_set)\n",
    "print(x_test_set_fixed.shape)"
   ]
  },
  {
   "cell_type": "code",
   "execution_count": 85,
   "metadata": {},
   "outputs": [],
   "source": [
    "y_test_pred = roberta_rf.predict(x_test_set_fixed)"
   ]
  },
  {
   "cell_type": "code",
   "execution_count": 86,
   "metadata": {},
   "outputs": [
    {
     "name": "stdout",
     "output_type": "stream",
     "text": [
      "Accuracy: 0.5872463768115942\n",
      "Precision: 0.427811975377728\n",
      "Recall: 0.6556603773584906\n"
     ]
    }
   ],
   "source": [
    "accuracy = accuracy_score(y_test_set, y_test_pred)\n",
    "precision = precision_score(y_test_set, y_test_pred)\n",
    "recall = recall_score(y_test_set, y_test_pred)\n",
    "\n",
    "print(\"Accuracy:\", accuracy)\n",
    "print(\"Precision:\", precision)\n",
    "print(\"Recall:\", recall)"
   ]
  },
  {
   "cell_type": "markdown",
   "metadata": {},
   "source": [
    "# save model"
   ]
  },
  {
   "cell_type": "code",
   "execution_count": null,
   "metadata": {},
   "outputs": [],
   "source": [
    "# import pickle\n",
    "\n",
    "# pickle.dump(tfidf_rf, open(\"models/iter3_rf_tfidf\", 'wb'))\n",
    "# pickle.dump(bow_rf, open(\"models/iter3_rf_bow\", 'wb'))\n",
    "# pickle.dump(w2v_rf, open(\"models/iter3_rf_w2v\", 'wb'))\n",
    "# pickle.dump(roberta_rf, open(\"models/iter4_rf_roberta\", 'wb'))"
   ]
  },
  {
   "cell_type": "markdown",
   "metadata": {},
   "source": [
    "Results are a lot worse for test set compared to validation set - shows that random forest model overfit to the training data. \n",
    "\n",
    "Do randomsearch again, but reduce model complexity."
   ]
  },
  {
   "cell_type": "code",
   "execution_count": null,
   "metadata": {},
   "outputs": [
    {
     "name": "stdout",
     "output_type": "stream",
     "text": [
      "Accuracy: 0.46144927536231883\n",
      "Precision: 0.28128950695322374\n",
      "Recall: 0.3816466552315609\n"
     ]
    }
   ],
   "source": [
    "# #test to see if model can be loaded\n",
    "\n",
    "# loaded_model = pickle.load(open('models/iter1_rf', 'rb'))\n",
    "\n",
    "# load_predict = loaded_model.predict(x_test_set)\n",
    "\n",
    "# accuracy = accuracy_score(y_test_set, load_predict)\n",
    "# precision = precision_score(y_test_set, load_predict)\n",
    "# recall = recall_score(y_test_set, load_predict)\n",
    "\n",
    "# print(\"Accuracy:\", accuracy)\n",
    "# print(\"Precision:\", precision)\n",
    "# print(\"Recall:\", recall)"
   ]
  }
 ],
 "metadata": {
  "kernelspec": {
   "display_name": "ComputerVision2",
   "language": "python",
   "name": "python3"
  },
  "language_info": {
   "codemirror_mode": {
    "name": "ipython",
    "version": 3
   },
   "file_extension": ".py",
   "mimetype": "text/x-python",
   "name": "python",
   "nbconvert_exporter": "python",
   "pygments_lexer": "ipython3",
   "version": "3.12.3"
  }
 },
 "nbformat": 4,
 "nbformat_minor": 2
}

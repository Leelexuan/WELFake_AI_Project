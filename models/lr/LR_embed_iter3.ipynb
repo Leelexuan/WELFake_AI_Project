{
 "cells": [
  {
   "cell_type": "markdown",
   "metadata": {},
   "source": [
    "# Imports "
   ]
  },
  {
   "cell_type": "code",
   "execution_count": 9,
   "metadata": {},
   "outputs": [],
   "source": [
    "from __future__ import print_function\n",
    "import matplotlib.pyplot as plt\n",
    "from torch.utils.data import DataLoader\n",
    "import torch\n",
    "import warnings\n",
    "import numpy as np\n",
    "from datasets import load_dataset\n",
    "from sklearn.model_selection import train_test_split\n",
    "from sklearn.linear_model import LogisticRegression\n",
    "from sklearn.metrics import classification_report, accuracy_score\n",
    "import base64\n",
    "import json\n",
    "from scipy.sparse import vstack, csr_matrix\n",
    "warnings.filterwarnings('ignore')"
   ]
  },
  {
   "cell_type": "code",
   "execution_count": 10,
   "metadata": {},
   "outputs": [
    {
     "name": "stdout",
     "output_type": "stream",
     "text": [
      "CUDA is available: True\n"
     ]
    }
   ],
   "source": [
    "# Define device for torch\n",
    "use_cuda = True\n",
    "print(\"CUDA is available:\", torch.cuda.is_available())\n",
    "device = torch.device(\"cuda\" if (use_cuda and torch.cuda.is_available()) else \"cpu\")"
   ]
  },
  {
   "cell_type": "markdown",
   "metadata": {},
   "source": [
    "# Load Dataset\n",
    "WELFake from HuggingFace"
   ]
  },
  {
   "cell_type": "code",
   "execution_count": 11,
   "metadata": {},
   "outputs": [],
   "source": [
    "from datasets import load_dataset\n",
    "\n",
    "dataset = load_dataset(\"Paulozs/WELFake_embeddings\")\n",
    "data = dataset[\"train\"].to_pandas()"
   ]
  },
  {
   "cell_type": "code",
   "execution_count": 12,
   "metadata": {},
   "outputs": [
    {
     "data": {
      "text/html": [
       "<div>\n",
       "<style scoped>\n",
       "    .dataframe tbody tr th:only-of-type {\n",
       "        vertical-align: middle;\n",
       "    }\n",
       "\n",
       "    .dataframe tbody tr th {\n",
       "        vertical-align: top;\n",
       "    }\n",
       "\n",
       "    .dataframe thead th {\n",
       "        text-align: right;\n",
       "    }\n",
       "</style>\n",
       "<table border=\"1\" class=\"dataframe\">\n",
       "  <thead>\n",
       "    <tr style=\"text-align: right;\">\n",
       "      <th></th>\n",
       "      <th>title</th>\n",
       "      <th>text</th>\n",
       "      <th>label</th>\n",
       "      <th>roberta_embedding</th>\n",
       "      <th>bow_embedding</th>\n",
       "      <th>tfidf_embedding</th>\n",
       "      <th>w2v_embedding</th>\n",
       "    </tr>\n",
       "  </thead>\n",
       "  <tbody>\n",
       "    <tr>\n",
       "      <th>0</th>\n",
       "      <td>LAW ENFORCEMENT ON HIGH ALERT Following Threat...</td>\n",
       "      <td>No comment is expected from Barack Obama Membe...</td>\n",
       "      <td>1</td>\n",
       "      <td>[0.77837825, -1.3829339, 0.21932077, -0.037815...</td>\n",
       "      <td>[12.751228183014527, -8.760484977091297, -2.46...</td>\n",
       "      <td>[0.3186029772902578, -0.1094107173745029, 0.10...</td>\n",
       "      <td>[0.005737772, 0.051631283, 0.039275542, 0.0679...</td>\n",
       "    </tr>\n",
       "    <tr>\n",
       "      <th>1</th>\n",
       "      <td>UNBELIEVABLE! OBAMA’S ATTORNEY GENERAL SAYS MO...</td>\n",
       "      <td>Now, most of the demonstrators gathered last ...</td>\n",
       "      <td>1</td>\n",
       "      <td>[-3.4394891, -1.1532453, -0.57524085, -0.29689...</td>\n",
       "      <td>[0.1540906344076637, -0.06480693954115654, -0....</td>\n",
       "      <td>[0.07578831287738759, -0.015240886953002832, 0...</td>\n",
       "      <td>[0.014999917, 0.057231702, 0.05448833, 0.10918...</td>\n",
       "    </tr>\n",
       "    <tr>\n",
       "      <th>2</th>\n",
       "      <td>Bobby Jindal, raised Hindu, uses story of Chri...</td>\n",
       "      <td>A dozen politically active pastors came here f...</td>\n",
       "      <td>0</td>\n",
       "      <td>[0.61816597, 0.10020125, -0.627897, -0.1652965...</td>\n",
       "      <td>[11.144724982986332, -6.606145662614691, -0.79...</td>\n",
       "      <td>[0.3980779078413261, -0.15109853445516602, 0.0...</td>\n",
       "      <td>[0.04940245, 0.03809506, 0.030635785, 0.096523...</td>\n",
       "    </tr>\n",
       "    <tr>\n",
       "      <th>3</th>\n",
       "      <td>SATAN 2: Russia unvelis an image of its terrif...</td>\n",
       "      <td>The RS-28 Sarmat missile, dubbed Satan 2, will...</td>\n",
       "      <td>1</td>\n",
       "      <td>[0.6582862, 0.40051103, -0.35593724, 0.6198630...</td>\n",
       "      <td>[2.6159286882160537, -1.72675977752399, -0.519...</td>\n",
       "      <td>[0.21115011222058097, -0.14267633316979805, -0...</td>\n",
       "      <td>[-0.022517398, 0.08829837, 0.06998471, 0.05531...</td>\n",
       "    </tr>\n",
       "    <tr>\n",
       "      <th>4</th>\n",
       "      <td>About Time! Christian Group Sues Amazon and SP...</td>\n",
       "      <td>All we can say on this one is it s about time ...</td>\n",
       "      <td>1</td>\n",
       "      <td>[0.51393855, 0.6349008, 1.0849333, 0.33767414,...</td>\n",
       "      <td>[1.9346475297557924, -1.1505992523835311, -0.7...</td>\n",
       "      <td>[0.1945931561404842, -0.1142489399938969, 0.00...</td>\n",
       "      <td>[0.031655375, 0.018008867, 0.039424133, 0.0783...</td>\n",
       "    </tr>\n",
       "    <tr>\n",
       "      <th>...</th>\n",
       "      <td>...</td>\n",
       "      <td>...</td>\n",
       "      <td>...</td>\n",
       "      <td>...</td>\n",
       "      <td>...</td>\n",
       "      <td>...</td>\n",
       "      <td>...</td>\n",
       "    </tr>\n",
       "    <tr>\n",
       "      <th>62587</th>\n",
       "      <td>WIKILEAKS EMAIL SHOWS CLINTON FOUNDATION FUNDS...</td>\n",
       "      <td>An email released by WikiLeaks on Sunday appea...</td>\n",
       "      <td>1</td>\n",
       "      <td>[-0.74468505, 0.1229167, 1.3666742, 0.07904005...</td>\n",
       "      <td>[3.622973638522903, -0.54198912841281, -1.4584...</td>\n",
       "      <td>[0.23084806769137872, 0.09422806198766091, 0.3...</td>\n",
       "      <td>[-0.00035927512, 0.04827896, -0.027950248, 0.0...</td>\n",
       "    </tr>\n",
       "    <tr>\n",
       "      <th>62588</th>\n",
       "      <td>Russians steal research on Trump in hack of U....</td>\n",
       "      <td>WASHINGTON (Reuters) - Hackers believed to be ...</td>\n",
       "      <td>0</td>\n",
       "      <td>[0.5316571, 0.9854491, -0.6684599, -0.01448869...</td>\n",
       "      <td>[17.799926846744107, 1.1087862440581235, 1.350...</td>\n",
       "      <td>[0.4787758131172253, 0.003986352099122974, -0....</td>\n",
       "      <td>[-0.020597927, 0.025891328, 0.0079015875, 0.06...</td>\n",
       "    </tr>\n",
       "    <tr>\n",
       "      <th>62589</th>\n",
       "      <td>WATCH: Giuliani Demands That Democrats Apolog...</td>\n",
       "      <td>You know, because in fantasyland Republicans n...</td>\n",
       "      <td>1</td>\n",
       "      <td>[0.6461022, -1.1085404, 0.13549614, -0.3637871...</td>\n",
       "      <td>[16.499211522306364, 13.110890533481918, -1.99...</td>\n",
       "      <td>[0.45380863043849157, 0.3371814687589905, -0.0...</td>\n",
       "      <td>[0.026168875, 0.059571818, 0.025066013, 0.0854...</td>\n",
       "    </tr>\n",
       "    <tr>\n",
       "      <th>62590</th>\n",
       "      <td>Migrants Refuse To Leave Train At Refugee Camp...</td>\n",
       "      <td>Migrants Refuse To Leave Train At Refugee Camp...</td>\n",
       "      <td>0</td>\n",
       "      <td>[0.5340885, -0.03433156, -0.3962021, 0.1179680...</td>\n",
       "      <td>[5.264526534165657, -3.8853342501017916, -0.87...</td>\n",
       "      <td>[0.290404249417728, -0.21906293500944446, -0.0...</td>\n",
       "      <td>[0.009088822, 0.061462272, 0.026323821, 0.0745...</td>\n",
       "    </tr>\n",
       "    <tr>\n",
       "      <th>62591</th>\n",
       "      <td>Trump tussle gives unpopular Mexican leader mu...</td>\n",
       "      <td>MEXICO CITY (Reuters) - Donald Trump’s combati...</td>\n",
       "      <td>0</td>\n",
       "      <td>[0.63186765, 0.23515463, -0.49998522, 0.108960...</td>\n",
       "      <td>[10.11147131974668, 3.5913809223715325, -0.421...</td>\n",
       "      <td>[0.46950877235370597, 0.07418171272835605, -0....</td>\n",
       "      <td>[-0.02042316, 0.06397203, 0.021204822, 0.06751...</td>\n",
       "    </tr>\n",
       "  </tbody>\n",
       "</table>\n",
       "<p>62592 rows × 7 columns</p>\n",
       "</div>"
      ],
      "text/plain": [
       "                                                   title  \\\n",
       "0      LAW ENFORCEMENT ON HIGH ALERT Following Threat...   \n",
       "1      UNBELIEVABLE! OBAMA’S ATTORNEY GENERAL SAYS MO...   \n",
       "2      Bobby Jindal, raised Hindu, uses story of Chri...   \n",
       "3      SATAN 2: Russia unvelis an image of its terrif...   \n",
       "4      About Time! Christian Group Sues Amazon and SP...   \n",
       "...                                                  ...   \n",
       "62587  WIKILEAKS EMAIL SHOWS CLINTON FOUNDATION FUNDS...   \n",
       "62588  Russians steal research on Trump in hack of U....   \n",
       "62589   WATCH: Giuliani Demands That Democrats Apolog...   \n",
       "62590  Migrants Refuse To Leave Train At Refugee Camp...   \n",
       "62591  Trump tussle gives unpopular Mexican leader mu...   \n",
       "\n",
       "                                                    text  label  \\\n",
       "0      No comment is expected from Barack Obama Membe...      1   \n",
       "1       Now, most of the demonstrators gathered last ...      1   \n",
       "2      A dozen politically active pastors came here f...      0   \n",
       "3      The RS-28 Sarmat missile, dubbed Satan 2, will...      1   \n",
       "4      All we can say on this one is it s about time ...      1   \n",
       "...                                                  ...    ...   \n",
       "62587  An email released by WikiLeaks on Sunday appea...      1   \n",
       "62588  WASHINGTON (Reuters) - Hackers believed to be ...      0   \n",
       "62589  You know, because in fantasyland Republicans n...      1   \n",
       "62590  Migrants Refuse To Leave Train At Refugee Camp...      0   \n",
       "62591  MEXICO CITY (Reuters) - Donald Trump’s combati...      0   \n",
       "\n",
       "                                       roberta_embedding  \\\n",
       "0      [0.77837825, -1.3829339, 0.21932077, -0.037815...   \n",
       "1      [-3.4394891, -1.1532453, -0.57524085, -0.29689...   \n",
       "2      [0.61816597, 0.10020125, -0.627897, -0.1652965...   \n",
       "3      [0.6582862, 0.40051103, -0.35593724, 0.6198630...   \n",
       "4      [0.51393855, 0.6349008, 1.0849333, 0.33767414,...   \n",
       "...                                                  ...   \n",
       "62587  [-0.74468505, 0.1229167, 1.3666742, 0.07904005...   \n",
       "62588  [0.5316571, 0.9854491, -0.6684599, -0.01448869...   \n",
       "62589  [0.6461022, -1.1085404, 0.13549614, -0.3637871...   \n",
       "62590  [0.5340885, -0.03433156, -0.3962021, 0.1179680...   \n",
       "62591  [0.63186765, 0.23515463, -0.49998522, 0.108960...   \n",
       "\n",
       "                                           bow_embedding  \\\n",
       "0      [12.751228183014527, -8.760484977091297, -2.46...   \n",
       "1      [0.1540906344076637, -0.06480693954115654, -0....   \n",
       "2      [11.144724982986332, -6.606145662614691, -0.79...   \n",
       "3      [2.6159286882160537, -1.72675977752399, -0.519...   \n",
       "4      [1.9346475297557924, -1.1505992523835311, -0.7...   \n",
       "...                                                  ...   \n",
       "62587  [3.622973638522903, -0.54198912841281, -1.4584...   \n",
       "62588  [17.799926846744107, 1.1087862440581235, 1.350...   \n",
       "62589  [16.499211522306364, 13.110890533481918, -1.99...   \n",
       "62590  [5.264526534165657, -3.8853342501017916, -0.87...   \n",
       "62591  [10.11147131974668, 3.5913809223715325, -0.421...   \n",
       "\n",
       "                                         tfidf_embedding  \\\n",
       "0      [0.3186029772902578, -0.1094107173745029, 0.10...   \n",
       "1      [0.07578831287738759, -0.015240886953002832, 0...   \n",
       "2      [0.3980779078413261, -0.15109853445516602, 0.0...   \n",
       "3      [0.21115011222058097, -0.14267633316979805, -0...   \n",
       "4      [0.1945931561404842, -0.1142489399938969, 0.00...   \n",
       "...                                                  ...   \n",
       "62587  [0.23084806769137872, 0.09422806198766091, 0.3...   \n",
       "62588  [0.4787758131172253, 0.003986352099122974, -0....   \n",
       "62589  [0.45380863043849157, 0.3371814687589905, -0.0...   \n",
       "62590  [0.290404249417728, -0.21906293500944446, -0.0...   \n",
       "62591  [0.46950877235370597, 0.07418171272835605, -0....   \n",
       "\n",
       "                                           w2v_embedding  \n",
       "0      [0.005737772, 0.051631283, 0.039275542, 0.0679...  \n",
       "1      [0.014999917, 0.057231702, 0.05448833, 0.10918...  \n",
       "2      [0.04940245, 0.03809506, 0.030635785, 0.096523...  \n",
       "3      [-0.022517398, 0.08829837, 0.06998471, 0.05531...  \n",
       "4      [0.031655375, 0.018008867, 0.039424133, 0.0783...  \n",
       "...                                                  ...  \n",
       "62587  [-0.00035927512, 0.04827896, -0.027950248, 0.0...  \n",
       "62588  [-0.020597927, 0.025891328, 0.0079015875, 0.06...  \n",
       "62589  [0.026168875, 0.059571818, 0.025066013, 0.0854...  \n",
       "62590  [0.009088822, 0.061462272, 0.026323821, 0.0745...  \n",
       "62591  [-0.02042316, 0.06397203, 0.021204822, 0.06751...  \n",
       "\n",
       "[62592 rows x 7 columns]"
      ]
     },
     "metadata": {},
     "output_type": "display_data"
    }
   ],
   "source": [
    "#convert dataset to pandas for easier implementation with sklearn\n",
    "\n",
    "df = dataset[\"train\"].to_pandas()\n",
    "display(df)"
   ]
  },
  {
   "cell_type": "markdown",
   "metadata": {},
   "source": [
    "#### **TF-DIF**"
   ]
  },
  {
   "cell_type": "code",
   "execution_count": 13,
   "metadata": {},
   "outputs": [
    {
     "name": "stdout",
     "output_type": "stream",
     "text": [
      "6312     [0.2913193475178382, -0.25964890109450217, -0....\n",
      "1575     [0.3458007493067191, 0.1488610801652892, -0.09...\n",
      "34150    [0.22471385300739916, -0.21535486255894393, 0....\n",
      "20440    [0.21976064678214624, -0.04813982501158199, -0...\n",
      "49987    [0.36752246000471256, -0.17607963257083178, -0...\n",
      "                               ...                        \n",
      "12895    [0.20483901494858434, -0.04508991069278617, 0....\n",
      "60960    [0.296419404864837, -0.04091803082821383, 0.07...\n",
      "6012     [0.10656974408814512, -0.02633602960051711, 0....\n",
      "6558     [0.2775299676755072, -0.1994376435245847, 0.12...\n",
      "56267    [0.2667877512487862, 0.06728728052018784, 0.26...\n",
      "Name: tfidf_embedding, Length: 50073, dtype: object 6312     1\n",
      "1575     1\n",
      "34150    0\n",
      "20440    0\n",
      "49987    0\n",
      "        ..\n",
      "12895    1\n",
      "60960    1\n",
      "6012     1\n",
      "6558     0\n",
      "56267    1\n",
      "Name: label, Length: 50073, dtype: int64\n"
     ]
    }
   ],
   "source": [
    "seed = 45\n",
    "\n",
    "y = df[\"label\"]\n",
    "x = df[\"tfidf_embedding\"]\n",
    "\n",
    "x_train, x_test, y_train, y_test = train_test_split(x, y, test_size=0.2, random_state=seed)\n",
    "\n",
    "print(x_train, y_train)"
   ]
  },
  {
   "cell_type": "code",
   "execution_count": 14,
   "metadata": {},
   "outputs": [
    {
     "name": "stdout",
     "output_type": "stream",
     "text": [
      "(50073, 300)\n",
      "(12519, 300)\n"
     ]
    }
   ],
   "source": [
    "import numpy as np\n",
    "\n",
    "x_train_fixed = np.stack(x_train)  \n",
    "x_test_fixed = np.stack(x_test)\n",
    "print(x_train_fixed.shape)  \n",
    "print(x_test_fixed.shape)"
   ]
  },
  {
   "cell_type": "code",
   "execution_count": 15,
   "metadata": {},
   "outputs": [],
   "source": [
    "# TF-IDF + Logistic Regression\n",
    "lr_model = LogisticRegression(random_state=seed, max_iter=1000)"
   ]
  },
  {
   "cell_type": "markdown",
   "metadata": {},
   "source": [
    "#### Hyperparam tuning"
   ]
  },
  {
   "cell_type": "code",
   "execution_count": null,
   "metadata": {},
   "outputs": [
    {
     "name": "stdout",
     "output_type": "stream",
     "text": [
      "\n",
      "Best parameters found:  {'C': 10.0, 'penalty': 'l1', 'solver': 'liblinear'}\n",
      "Best cross-validation accuracy: 0.9073\n"
     ]
    }
   ],
   "source": [
    "from sklearn.linear_model import LogisticRegression\n",
    "from sklearn.model_selection import GridSearchCV\n",
    "from sklearn.metrics import accuracy_score,precision_score,ConfusionMatrixDisplay\n",
    "\n",
    "# Define the parameter grid for C\n",
    "param_grid = {\n",
    "    'C': [0.001, 0.01, 0.1, 1.0, 10.0, 100.0],\n",
    "    'penalty': ['l1', 'l2'],  # Try different regularization types\n",
    "    'solver': ['liblinear']  # Works well with both L1 and L2\n",
    "}\n",
    "\n",
    "# Set up GridSearchCV\n",
    "grid_search = GridSearchCV(LogisticRegression(max_iter=1000, random_state=seed), \n",
    "                           param_grid, \n",
    "                           cv=5, \n",
    "                           scoring=['accuracy', 'precision', 'recall', 'f1'],\n",
    "                           refit='f1')\n",
    "\n",
    "# Fit the model\n",
    "grid_search.fit(x_train_fixed, y_train)\n",
    "\n",
    "# Print the best parameters and cross-validation accuracy\n",
    "print(\"\\nBest parameters found: \", grid_search.best_params_)\n",
    "print(\"Best cross-validation accuracy: {:.4f}\".format(grid_search.best_score_))\n",
    "\n",
    "tfidf_lr = grid_search.best_estimator_"
   ]
  },
  {
   "cell_type": "code",
   "execution_count": 17,
   "metadata": {},
   "outputs": [
    {
     "data": {
      "image/png": "[encoded data removed]",
      "text/plain": [
       "<Figure size 640x480 with 2 Axes>"
      ]
     },
     "metadata": {},
     "output_type": "display_data"
    }
   ],
   "source": [
    "from sklearn.metrics import accuracy_score, confusion_matrix, precision_score, recall_score, ConfusionMatrixDisplay, f1_score\n",
    "y_pred = tfidf_lr.predict(x_test_fixed)\n",
    "\n",
    "# Create the confusion matrix\n",
    "cm = confusion_matrix(y_test, y_pred)\n",
    "\n",
    "ConfusionMatrixDisplay(confusion_matrix=cm).plot();"
   ]
  },
  {
   "cell_type": "code",
   "execution_count": 18,
   "metadata": {},
   "outputs": [
    {
     "name": "stdout",
     "output_type": "stream",
     "text": [
      "Accuracy: 0.9170061506510104\n",
      "Precision: 0.9033010405453893\n",
      "Recall: 0.9096657633242999\n",
      "F1-Score: 0.9064722297236475\n"
     ]
    }
   ],
   "source": [
    "accuracy = accuracy_score(y_test, y_pred)\n",
    "precision = precision_score(y_test, y_pred)\n",
    "recall = recall_score(y_test, y_pred)\n",
    "f1score = f1_score(y_test, y_pred)\n",
    "\n",
    "print(\"Accuracy:\", accuracy)\n",
    "print(\"Precision:\", precision)\n",
    "print(\"Recall:\", recall)\n",
    "print(\"F1-Score:\", f1score)\n",
    "\n",
    "results = {\"Accuracy:\":accuracy,\"Precision:\":precision,\"Recall:\":recall,\"F1-Score:\": f1score}\n",
    "metrics={\"tfdif\": results}"
   ]
  },
  {
   "cell_type": "markdown",
   "metadata": {},
   "source": [
    "#### **CBOW-W2V**"
   ]
  },
  {
   "cell_type": "code",
   "execution_count": 19,
   "metadata": {},
   "outputs": [
    {
     "name": "stdout",
     "output_type": "stream",
     "text": [
      "(50073, 300)\n",
      "(12519, 300)\n"
     ]
    }
   ],
   "source": [
    "x = df[\"w2v_embedding\"]\n",
    "\n",
    "x_train, x_test, y_train, y_test = train_test_split(x, y, test_size=0.2, random_state=seed)\n",
    "\n",
    "x_train_fixed = np.stack(x_train)  \n",
    "x_test_fixed = np.stack(x_test)\n",
    "print(x_train_fixed.shape)  \n",
    "print(x_test_fixed.shape)"
   ]
  },
  {
   "cell_type": "code",
   "execution_count": null,
   "metadata": {},
   "outputs": [
    {
     "name": "stdout",
     "output_type": "stream",
     "text": [
      "\n",
      "Best parameters found:  {'C': 10.0, 'penalty': 'l1', 'solver': 'liblinear'}\n",
      "Best cross-validation accuracy: 0.8594\n"
     ]
    }
   ],
   "source": [
    "# Define the parameter grid for C\n",
    "param_grid = {\n",
    "    'C': [0.001, 0.01, 0.1, 1.0, 10.0, 100.0],\n",
    "    'penalty': ['l1', 'l2'],  # Try different regularization types\n",
    "    'solver': ['liblinear']  # Works well with both L1 and L2\n",
    "}\n",
    "\n",
    "# Set up GridSearchCV\n",
    "grid_search = GridSearchCV(LogisticRegression(max_iter=1000, random_state=seed), \n",
    "                           param_grid, \n",
    "                           cv=5, \n",
    "                           scoring=['accuracy', 'precision', 'recall', 'f1'],\n",
    "                           refit='f1')\n",
    "\n",
    "# Fit the model\n",
    "grid_search.fit(x_train_fixed, y_train)\n",
    "\n",
    "# Print the best parameters and cross-validation accuracy\n",
    "print(\"\\nBest parameters found: \", grid_search.best_params_)\n",
    "print(\"Best cross-validation accuracy: {:.4f}\".format(grid_search.best_score_))\n",
    "\n",
    "w2v_lr = grid_search.best_estimator_"
   ]
  },
  {
   "cell_type": "code",
   "execution_count": 21,
   "metadata": {},
   "outputs": [
    {
     "data": {
      "image/png": "[encoded data removed]",
      "text/plain": [
       "<Figure size 640x480 with 2 Axes>"
      ]
     },
     "metadata": {},
     "output_type": "display_data"
    }
   ],
   "source": [
    "y_pred = w2v_lr.predict(x_test_fixed)\n",
    "\n",
    "# Create the confusion matrix\n",
    "cm = confusion_matrix(y_test, y_pred)\n",
    "\n",
    "ConfusionMatrixDisplay(confusion_matrix=cm).plot();"
   ]
  },
  {
   "cell_type": "code",
   "execution_count": 22,
   "metadata": {},
   "outputs": [
    {
     "name": "stdout",
     "output_type": "stream",
     "text": [
      "Accuracy: 0.8769869797907182\n",
      "Precision: 0.8601045610239769\n",
      "Recall: 0.8619692863595303\n",
      "F1-Score: 0.8610359140949287\n"
     ]
    }
   ],
   "source": [
    "accuracy = accuracy_score(y_test, y_pred)\n",
    "precision = precision_score(y_test, y_pred)\n",
    "recall = recall_score(y_test, y_pred)\n",
    "f1score = f1_score(y_test, y_pred)\n",
    "\n",
    "print(\"Accuracy:\", accuracy)\n",
    "print(\"Precision:\", precision)\n",
    "print(\"Recall:\", recall)\n",
    "print(\"F1-Score:\", f1score)\n",
    "\n",
    "results = {\"Accuracy:\":accuracy,\"Precision:\":precision,\"Recall:\":recall,\"F1-Score:\": f1score}\n",
    "metrics[\"w2v\"]=results"
   ]
  },
  {
   "cell_type": "markdown",
   "metadata": {},
   "source": [
    "#### **BOW**"
   ]
  },
  {
   "cell_type": "code",
   "execution_count": 23,
   "metadata": {},
   "outputs": [
    {
     "name": "stdout",
     "output_type": "stream",
     "text": [
      "(50073, 300)\n",
      "(12519, 300)\n"
     ]
    }
   ],
   "source": [
    "x = df[\"bow_embedding\"]\n",
    "\n",
    "x_train, x_test, y_train, y_test = train_test_split(x, y, test_size=0.2, random_state=seed)\n",
    "\n",
    "x_train_fixed = np.stack(x_train)  \n",
    "x_test_fixed = np.stack(x_test)\n",
    "print(x_train_fixed.shape)  \n",
    "print(x_test_fixed.shape)"
   ]
  },
  {
   "cell_type": "code",
   "execution_count": null,
   "metadata": {},
   "outputs": [
    {
     "name": "stdout",
     "output_type": "stream",
     "text": [
      "\n",
      "Best parameters found:  {'C': 100.0, 'penalty': 'l2', 'solver': 'liblinear'}\n",
      "Best cross-validation accuracy: 0.9066\n"
     ]
    }
   ],
   "source": [
    "# Define the parameter grid for C\n",
    "param_grid = {\n",
    "    'C': [0.001, 0.01, 0.1, 1.0, 10.0, 100.0],\n",
    "    'penalty': ['l1', 'l2'],  # Try different regularization types\n",
    "    'solver': ['liblinear']  # Works well with both L1 and L2\n",
    "}\n",
    "\n",
    "# Set up GridSearchCV\n",
    "grid_search = GridSearchCV(LogisticRegression(max_iter=1000, random_state=seed), \n",
    "                           param_grid, \n",
    "                           cv=5, \n",
    "                           scoring=['accuracy', 'precision', 'recall', 'f1'],\n",
    "                           refit='f1')\n",
    "\n",
    "# Fit the model\n",
    "grid_search.fit(x_train_fixed, y_train)\n",
    "\n",
    "# Print the best parameters and cross-validation accuracy\n",
    "print(\"\\nBest parameters found: \", grid_search.best_params_)\n",
    "print(\"Best cross-validation accuracy: {:.4f}\".format(grid_search.best_score_))\n",
    "\n",
    "bow_lr = grid_search.best_estimator_"
   ]
  },
  {
   "cell_type": "code",
   "execution_count": 25,
   "metadata": {},
   "outputs": [
    {
     "data": {
      "image/png": "[encoded data removed]",
      "text/plain": [
       "<Figure size 640x480 with 2 Axes>"
      ]
     },
     "metadata": {},
     "output_type": "display_data"
    }
   ],
   "source": [
    "y_pred = bow_lr.predict(x_test_fixed)\n",
    "\n",
    "# Create the confusion matrix\n",
    "cm = confusion_matrix(y_test, y_pred)\n",
    "\n",
    "ConfusionMatrixDisplay(confusion_matrix=cm).plot();"
   ]
  },
  {
   "cell_type": "code",
   "execution_count": 26,
   "metadata": {},
   "outputs": [
    {
     "name": "stdout",
     "output_type": "stream",
     "text": [
      "Accuracy: 0.9142104001917086\n",
      "Precision: 0.8898793917147352\n",
      "Recall: 0.9197831978319784\n",
      "F1-Score: 0.9045842217484008\n"
     ]
    }
   ],
   "source": [
    "accuracy = accuracy_score(y_test, y_pred)\n",
    "precision = precision_score(y_test, y_pred)\n",
    "recall = recall_score(y_test, y_pred)\n",
    "f1score = f1_score(y_test, y_pred)\n",
    "\n",
    "print(\"Accuracy:\", accuracy)\n",
    "print(\"Precision:\", precision)\n",
    "print(\"Recall:\", recall)\n",
    "print(\"F1-Score:\", f1score)\n",
    "\n",
    "results = {\"Accuracy:\":accuracy,\"Precision:\":precision,\"Recall:\":recall,\"F1-Score:\": f1score}\n",
    "metrics[\"bow\"]=results"
   ]
  },
  {
   "cell_type": "markdown",
   "metadata": {},
   "source": [
    "#### **Roberta(iter 4)**"
   ]
  },
  {
   "cell_type": "code",
   "execution_count": 27,
   "metadata": {},
   "outputs": [
    {
     "name": "stdout",
     "output_type": "stream",
     "text": [
      "(50073, 300)\n",
      "(12519, 300)\n"
     ]
    }
   ],
   "source": [
    "x = df[\"roberta_embedding\"]\n",
    "\n",
    "x_train, x_test, y_train, y_test = train_test_split(x, y, test_size=0.2, random_state=seed)\n",
    "\n",
    "x_train_fixed = np.stack(x_train)  \n",
    "x_test_fixed = np.stack(x_test)\n",
    "print(x_train_fixed.shape)  \n",
    "print(x_test_fixed.shape)"
   ]
  },
  {
   "cell_type": "code",
   "execution_count": null,
   "metadata": {},
   "outputs": [
    {
     "name": "stdout",
     "output_type": "stream",
     "text": [
      "\n",
      "Best parameters found:  {'C': 10.0, 'penalty': 'l1', 'solver': 'liblinear'}\n",
      "Best cross-validation accuracy: 0.9819\n"
     ]
    }
   ],
   "source": [
    "# Define the parameter grid for C\n",
    "param_grid = {\n",
    "    'C': [0.001, 0.01, 0.1, 1.0, 10.0, 100.0],\n",
    "    'penalty': ['l1', 'l2'],  # Try different regularization types\n",
    "    'solver': ['liblinear']  # Works well with both L1 and L2\n",
    "}\n",
    "\n",
    "# Set up GridSearchCV\n",
    "grid_search = GridSearchCV(LogisticRegression(max_iter=1000, random_state=seed), \n",
    "                           param_grid, \n",
    "                           cv=5, \n",
    "                           scoring=['accuracy', 'precision', 'recall', 'f1'],\n",
    "                           refit='f1')\n",
    "\n",
    "# Fit the model\n",
    "grid_search.fit(x_train_fixed, y_train)\n",
    "\n",
    "# Print the best parameters and cross-validation accuracy\n",
    "print(\"\\nBest parameters found: \", grid_search.best_params_)\n",
    "print(\"Best cross-validation accuracy: {:.4f}\".format(grid_search.best_score_))\n",
    "\n",
    "roberta_lr = grid_search.best_estimator_"
   ]
  },
  {
   "cell_type": "code",
   "execution_count": 29,
   "metadata": {},
   "outputs": [
    {
     "data": {
      "image/png": "[encoded data removed]",
      "text/plain": [
       "<Figure size 640x480 with 2 Axes>"
      ]
     },
     "metadata": {},
     "output_type": "display_data"
    }
   ],
   "source": [
    "y_pred = roberta_lr.predict(x_test_fixed)\n",
    "\n",
    "# Create the confusion matrix\n",
    "cm = confusion_matrix(y_test, y_pred)\n",
    "\n",
    "ConfusionMatrixDisplay(confusion_matrix=cm).plot();"
   ]
  },
  {
   "cell_type": "code",
   "execution_count": 30,
   "metadata": {},
   "outputs": [
    {
     "name": "stdout",
     "output_type": "stream",
     "text": [
      "Accuracy: 0.9836248901669462\n",
      "Precision: 0.9841933139534884\n",
      "Recall: 0.9786811201445348\n",
      "F1-Score: 0.9814294773077271\n"
     ]
    }
   ],
   "source": [
    "accuracy = accuracy_score(y_test, y_pred)\n",
    "precision = precision_score(y_test, y_pred)\n",
    "recall = recall_score(y_test, y_pred)\n",
    "f1score = f1_score(y_test, y_pred)\n",
    "\n",
    "print(\"Accuracy:\", accuracy)\n",
    "print(\"Precision:\", precision)\n",
    "print(\"Recall:\", recall)\n",
    "print(\"F1-Score:\", f1score)\n",
    "\n",
    "results = {\"Accuracy:\":accuracy,\"Precision:\":precision,\"Recall:\":recall,\"F1-Score:\": f1score}\n",
    "metrics[\"roBERTa\"]=results"
   ]
  },
  {
   "cell_type": "markdown",
   "metadata": {},
   "source": [
    "### Test Dataset"
   ]
  },
  {
   "cell_type": "code",
   "execution_count": 51,
   "metadata": {},
   "outputs": [
    {
     "name": "stdout",
     "output_type": "stream",
     "text": [
      "DatasetDict({\n",
      "    train: Dataset({\n",
      "        features: ['text', 'label', 'tfidf_embedding', 'bow_embedding', 'w2v_embedding', 'roberta_embedding'],\n",
      "        num_rows: 6900\n",
      "    })\n",
      "})\n"
     ]
    }
   ],
   "source": [
    "test_dataset = load_dataset(\"lelexuanzz/Gossipcop_Politifact_Test\")\n",
    "print(test_dataset)"
   ]
  },
  {
   "cell_type": "code",
   "execution_count": 52,
   "metadata": {},
   "outputs": [
    {
     "data": {
      "text/html": [
       "<div>\n",
       "<style scoped>\n",
       "    .dataframe tbody tr th:only-of-type {\n",
       "        vertical-align: middle;\n",
       "    }\n",
       "\n",
       "    .dataframe tbody tr th {\n",
       "        vertical-align: top;\n",
       "    }\n",
       "\n",
       "    .dataframe thead th {\n",
       "        text-align: right;\n",
       "    }\n",
       "</style>\n",
       "<table border=\"1\" class=\"dataframe\">\n",
       "  <thead>\n",
       "    <tr style=\"text-align: right;\">\n",
       "      <th></th>\n",
       "      <th>text</th>\n",
       "      <th>label</th>\n",
       "      <th>tfidf_embedding</th>\n",
       "      <th>bow_embedding</th>\n",
       "      <th>w2v_embedding</th>\n",
       "      <th>roberta_embedding</th>\n",
       "    </tr>\n",
       "  </thead>\n",
       "  <tbody>\n",
       "    <tr>\n",
       "      <th>0</th>\n",
       "      <td>The media reported on “5 TikTok dances you can...</td>\n",
       "      <td>0</td>\n",
       "      <td>[0.32230591024075883, -0.028311949900530733, 0...</td>\n",
       "      <td>[4.111553694916485, -1.4091154149948346, -2.22...</td>\n",
       "      <td>[0.023112578, 0.004341462, -0.028385904, 0.039...</td>\n",
       "      <td>[-1.7613875, -0.29602507, 1.0549823, 0.4420643...</td>\n",
       "    </tr>\n",
       "    <tr>\n",
       "      <th>1</th>\n",
       "      <td>\"Over 240,000 'unverified' ballots have alread...</td>\n",
       "      <td>0</td>\n",
       "      <td>[0.3085783060828623, 0.11941719268786223, 0.04...</td>\n",
       "      <td>[15.340171294779958, 0.6782201913070947, -3.95...</td>\n",
       "      <td>[0.013536842, 0.009806181, 0.0037024287, 0.046...</td>\n",
       "      <td>[0.5113651, -0.5632596, -0.08679409, 0.0578204...</td>\n",
       "    </tr>\n",
       "    <tr>\n",
       "      <th>2</th>\n",
       "      <td>Says \"Ron Johnson is making excuses for rioter...</td>\n",
       "      <td>1</td>\n",
       "      <td>[0.42330438481857957, 0.07862740950249068, 0.0...</td>\n",
       "      <td>[17.579511089264834, -3.370470538008803, -6.03...</td>\n",
       "      <td>[0.023063188, 0.059482925, 0.01734151, 0.06674...</td>\n",
       "      <td>[0.4061544, 0.033350937, -0.30923274, -0.04415...</td>\n",
       "    </tr>\n",
       "    <tr>\n",
       "      <th>3</th>\n",
       "      <td>“We have seen over the last 10 years ... under...</td>\n",
       "      <td>0</td>\n",
       "      <td>[0.3235193218432473, 0.1435034790001879, -0.01...</td>\n",
       "      <td>[13.623137823124184, 2.594215458815296, 1.1975...</td>\n",
       "      <td>[-0.03447485, 0.012470036, 0.040506534, 0.1266...</td>\n",
       "      <td>[0.74233645, -0.8022974, 0.30516905, -0.150992...</td>\n",
       "    </tr>\n",
       "    <tr>\n",
       "      <th>4</th>\n",
       "      <td>“I don’t get involved in the hiring and firing...</td>\n",
       "      <td>0</td>\n",
       "      <td>[0.21714023268741092, -0.013357531354942328, 0...</td>\n",
       "      <td>[11.715673205868814, -3.8977639951627094, -0.5...</td>\n",
       "      <td>[-0.039161813, 0.050845865, 0.045167223, -0.00...</td>\n",
       "      <td>[0.4902299, -0.04709744, -0.11096978, -0.33383...</td>\n",
       "    </tr>\n",
       "    <tr>\n",
       "      <th>...</th>\n",
       "      <td>...</td>\n",
       "      <td>...</td>\n",
       "      <td>...</td>\n",
       "      <td>...</td>\n",
       "      <td>...</td>\n",
       "      <td>...</td>\n",
       "    </tr>\n",
       "    <tr>\n",
       "      <th>6895</th>\n",
       "      <td>Wedding Album: Dancing with the Stars Pro Lind...</td>\n",
       "      <td>0</td>\n",
       "      <td>[0.14163919484467705, -0.1871535330863532, -0....</td>\n",
       "      <td>[0.5081918596591085, -0.4770132598925509, 0.04...</td>\n",
       "      <td>[0.007478841, 0.028465271, 0.01225586, 0.05277...</td>\n",
       "      <td>[-4.3445463, -0.82720375, -0.76975673, 0.55827...</td>\n",
       "    </tr>\n",
       "    <tr>\n",
       "      <th>6896</th>\n",
       "      <td>WATCH: Sneak Peek: Arizona's Furious Alex Atta...</td>\n",
       "      <td>0</td>\n",
       "      <td>[0.10089287837516506, -0.15370171061200275, -0...</td>\n",
       "      <td>[0.34453471754679216, -0.49345817220335975, 0....</td>\n",
       "      <td>[0.03495687, 0.08366224, 0.03197157, 0.0962388...</td>\n",
       "      <td>[-3.484783, -0.13741834, -0.2212331, 0.3501901...</td>\n",
       "    </tr>\n",
       "    <tr>\n",
       "      <th>6897</th>\n",
       "      <td>Mary Kay Letourneau 'Hopeful' She Can Fix Marr...</td>\n",
       "      <td>0</td>\n",
       "      <td>[0.30012685395650657, -0.2629061112392972, -0....</td>\n",
       "      <td>[5.587042723074881, -3.018912737323734, -0.696...</td>\n",
       "      <td>[0.0066373795, 0.04132683, 0.008552303, 0.0507...</td>\n",
       "      <td>[0.060427, 0.93066996, -0.5383188, -0.11787002...</td>\n",
       "    </tr>\n",
       "    <tr>\n",
       "      <th>6898</th>\n",
       "      <td>Charlize Theron still upset Aeon Flux didn’t w...</td>\n",
       "      <td>0</td>\n",
       "      <td>[0.18598375894521132, -0.26601918530104635, -0...</td>\n",
       "      <td>[1.8348212505816643, -2.5021137033474385, 0.45...</td>\n",
       "      <td>[0.032494266, 0.038722403, -0.01410776, 0.0764...</td>\n",
       "      <td>[0.29304072, 1.2304765, -0.0635877, 0.6557827,...</td>\n",
       "    </tr>\n",
       "    <tr>\n",
       "      <th>6899</th>\n",
       "      <td>Debbie Gibson Says ‘DWTS’ Was a Healing Experi...</td>\n",
       "      <td>0</td>\n",
       "      <td>[0.14173209453104368, -0.1633085748664822, -0....</td>\n",
       "      <td>[1.0371355773081052, -0.8878316745591224, -0.0...</td>\n",
       "      <td>[-0.034314055, 0.05650489, -0.031183043, 0.083...</td>\n",
       "      <td>[-2.2836635, -0.034083482, 0.5534697, 1.026466...</td>\n",
       "    </tr>\n",
       "  </tbody>\n",
       "</table>\n",
       "<p>6900 rows × 6 columns</p>\n",
       "</div>"
      ],
      "text/plain": [
       "                                                   text  label  \\\n",
       "0     The media reported on “5 TikTok dances you can...      0   \n",
       "1     \"Over 240,000 'unverified' ballots have alread...      0   \n",
       "2     Says \"Ron Johnson is making excuses for rioter...      1   \n",
       "3     “We have seen over the last 10 years ... under...      0   \n",
       "4     “I don’t get involved in the hiring and firing...      0   \n",
       "...                                                 ...    ...   \n",
       "6895  Wedding Album: Dancing with the Stars Pro Lind...      0   \n",
       "6896  WATCH: Sneak Peek: Arizona's Furious Alex Atta...      0   \n",
       "6897  Mary Kay Letourneau 'Hopeful' She Can Fix Marr...      0   \n",
       "6898  Charlize Theron still upset Aeon Flux didn’t w...      0   \n",
       "6899  Debbie Gibson Says ‘DWTS’ Was a Healing Experi...      0   \n",
       "\n",
       "                                        tfidf_embedding  \\\n",
       "0     [0.32230591024075883, -0.028311949900530733, 0...   \n",
       "1     [0.3085783060828623, 0.11941719268786223, 0.04...   \n",
       "2     [0.42330438481857957, 0.07862740950249068, 0.0...   \n",
       "3     [0.3235193218432473, 0.1435034790001879, -0.01...   \n",
       "4     [0.21714023268741092, -0.013357531354942328, 0...   \n",
       "...                                                 ...   \n",
       "6895  [0.14163919484467705, -0.1871535330863532, -0....   \n",
       "6896  [0.10089287837516506, -0.15370171061200275, -0...   \n",
       "6897  [0.30012685395650657, -0.2629061112392972, -0....   \n",
       "6898  [0.18598375894521132, -0.26601918530104635, -0...   \n",
       "6899  [0.14173209453104368, -0.1633085748664822, -0....   \n",
       "\n",
       "                                          bow_embedding  \\\n",
       "0     [4.111553694916485, -1.4091154149948346, -2.22...   \n",
       "1     [15.340171294779958, 0.6782201913070947, -3.95...   \n",
       "2     [17.579511089264834, -3.370470538008803, -6.03...   \n",
       "3     [13.623137823124184, 2.594215458815296, 1.1975...   \n",
       "4     [11.715673205868814, -3.8977639951627094, -0.5...   \n",
       "...                                                 ...   \n",
       "6895  [0.5081918596591085, -0.4770132598925509, 0.04...   \n",
       "6896  [0.34453471754679216, -0.49345817220335975, 0....   \n",
       "6897  [5.587042723074881, -3.018912737323734, -0.696...   \n",
       "6898  [1.8348212505816643, -2.5021137033474385, 0.45...   \n",
       "6899  [1.0371355773081052, -0.8878316745591224, -0.0...   \n",
       "\n",
       "                                          w2v_embedding  \\\n",
       "0     [0.023112578, 0.004341462, -0.028385904, 0.039...   \n",
       "1     [0.013536842, 0.009806181, 0.0037024287, 0.046...   \n",
       "2     [0.023063188, 0.059482925, 0.01734151, 0.06674...   \n",
       "3     [-0.03447485, 0.012470036, 0.040506534, 0.1266...   \n",
       "4     [-0.039161813, 0.050845865, 0.045167223, -0.00...   \n",
       "...                                                 ...   \n",
       "6895  [0.007478841, 0.028465271, 0.01225586, 0.05277...   \n",
       "6896  [0.03495687, 0.08366224, 0.03197157, 0.0962388...   \n",
       "6897  [0.0066373795, 0.04132683, 0.008552303, 0.0507...   \n",
       "6898  [0.032494266, 0.038722403, -0.01410776, 0.0764...   \n",
       "6899  [-0.034314055, 0.05650489, -0.031183043, 0.083...   \n",
       "\n",
       "                                      roberta_embedding  \n",
       "0     [-1.7613875, -0.29602507, 1.0549823, 0.4420643...  \n",
       "1     [0.5113651, -0.5632596, -0.08679409, 0.0578204...  \n",
       "2     [0.4061544, 0.033350937, -0.30923274, -0.04415...  \n",
       "3     [0.74233645, -0.8022974, 0.30516905, -0.150992...  \n",
       "4     [0.4902299, -0.04709744, -0.11096978, -0.33383...  \n",
       "...                                                 ...  \n",
       "6895  [-4.3445463, -0.82720375, -0.76975673, 0.55827...  \n",
       "6896  [-3.484783, -0.13741834, -0.2212331, 0.3501901...  \n",
       "6897  [0.060427, 0.93066996, -0.5383188, -0.11787002...  \n",
       "6898  [0.29304072, 1.2304765, -0.0635877, 0.6557827,...  \n",
       "6899  [-2.2836635, -0.034083482, 0.5534697, 1.026466...  \n",
       "\n",
       "[6900 rows x 6 columns]"
      ]
     },
     "metadata": {},
     "output_type": "display_data"
    }
   ],
   "source": [
    "test_df = test_dataset[\"train\"].to_pandas()\n",
    "display(test_df)\n"
   ]
  },
  {
   "cell_type": "markdown",
   "metadata": {},
   "source": [
    "#### **TF-DIF**"
   ]
  },
  {
   "cell_type": "code",
   "execution_count": 67,
   "metadata": {},
   "outputs": [
    {
     "name": "stdout",
     "output_type": "stream",
     "text": [
      "(6900, 300)\n"
     ]
    }
   ],
   "source": [
    "y_test_set = test_df[\"label\"]\n",
    "x_test_set = test_df[\"tfidf_embedding\"]\n",
    "x_test_set_fixed = np.stack(x_test_set)\n",
    "print(x_test_set_fixed.shape)"
   ]
  },
  {
   "cell_type": "code",
   "execution_count": 68,
   "metadata": {},
   "outputs": [],
   "source": [
    "y_test_pred = tfidf_lr.predict(x_test_set_fixed)"
   ]
  },
  {
   "cell_type": "code",
   "execution_count": 69,
   "metadata": {},
   "outputs": [
    {
     "name": "stdout",
     "output_type": "stream",
     "text": [
      "Accuracy: 0.5342028985507247\n",
      "Precision: 0.35071090047393366\n",
      "Recall: 0.444253859348199\n",
      "F1-Score: 0.3919788119561105\n"
     ]
    }
   ],
   "source": [
    "accuracy = accuracy_score(y_test_set, y_test_pred)\n",
    "precision = precision_score(y_test_set, y_test_pred)\n",
    "recall = recall_score(y_test_set, y_test_pred)\n",
    "f1score = f1_score(y_test_set, y_test_pred)\n",
    "\n",
    "print(\"Accuracy:\", accuracy)\n",
    "print(\"Precision:\", precision)\n",
    "print(\"Recall:\", recall)\n",
    "print(\"F1-Score:\", f1score)\n",
    "\n",
    "results = {\"Accuracy:\":accuracy,\"Precision:\":precision,\"Recall:\":recall,\"F1-Score:\": f1score}\n",
    "metrics[\"tfdif_test\"]=results"
   ]
  },
  {
   "cell_type": "markdown",
   "metadata": {},
   "source": [
    "#### **CBOW-W2V**"
   ]
  },
  {
   "cell_type": "code",
   "execution_count": 70,
   "metadata": {},
   "outputs": [
    {
     "name": "stdout",
     "output_type": "stream",
     "text": [
      "(6900, 300)\n"
     ]
    }
   ],
   "source": [
    "y_test_set = test_df[\"label\"]\n",
    "x_test_set = test_df[\"bow_embedding\"]\n",
    "x_test_set_fixed = np.stack(x_test_set)\n",
    "print(x_test_set_fixed.shape)"
   ]
  },
  {
   "cell_type": "code",
   "execution_count": 71,
   "metadata": {},
   "outputs": [],
   "source": [
    "y_test_pred = w2v_lr.predict(x_test_set_fixed)"
   ]
  },
  {
   "cell_type": "code",
   "execution_count": 72,
   "metadata": {},
   "outputs": [
    {
     "name": "stdout",
     "output_type": "stream",
     "text": [
      "Accuracy: 0.4994202898550725\n",
      "Precision: 0.346805024576734\n",
      "Recall: 0.5445969125214408\n",
      "F1-Score: 0.4237570904237571\n"
     ]
    }
   ],
   "source": [
    "accuracy = accuracy_score(y_test_set, y_test_pred)\n",
    "precision = precision_score(y_test_set, y_test_pred)\n",
    "recall = recall_score(y_test_set, y_test_pred)\n",
    "f1score = f1_score(y_test_set, y_test_pred)\n",
    "\n",
    "print(\"Accuracy:\", accuracy)\n",
    "print(\"Precision:\", precision)\n",
    "print(\"Recall:\", recall)\n",
    "print(\"F1-Score:\", f1score)\n",
    "\n",
    "results = {\"Accuracy:\":accuracy,\"Precision:\":precision,\"Recall:\":recall,\"F1-Score:\": f1score}\n",
    "metrics[\"w2v_test\"]=results"
   ]
  },
  {
   "cell_type": "markdown",
   "metadata": {},
   "source": [
    "#### **BOW**"
   ]
  },
  {
   "cell_type": "code",
   "execution_count": 73,
   "metadata": {},
   "outputs": [
    {
     "name": "stdout",
     "output_type": "stream",
     "text": [
      "(6900, 300)\n"
     ]
    }
   ],
   "source": [
    "y_test_set = test_df[\"label\"]\n",
    "x_test_set = test_df[\"bow_embedding\"]\n",
    "x_test_set_fixed = np.stack(x_test_set)\n",
    "print(x_test_set_fixed.shape)"
   ]
  },
  {
   "cell_type": "code",
   "execution_count": 74,
   "metadata": {},
   "outputs": [],
   "source": [
    "y_test_pred = bow_lr.predict(x_test_set_fixed)"
   ]
  },
  {
   "cell_type": "code",
   "execution_count": 75,
   "metadata": {},
   "outputs": [
    {
     "name": "stdout",
     "output_type": "stream",
     "text": [
      "Accuracy: 0.514927536231884\n",
      "Precision: 0.32199228340933006\n",
      "Recall: 0.3936535162950257\n",
      "F1-Score: 0.35423499903530775\n"
     ]
    }
   ],
   "source": [
    "accuracy = accuracy_score(y_test_set, y_test_pred)\n",
    "precision = precision_score(y_test_set, y_test_pred)\n",
    "recall = recall_score(y_test_set, y_test_pred)\n",
    "f1score = f1_score(y_test_set, y_test_pred)\n",
    "\n",
    "print(\"Accuracy:\", accuracy)\n",
    "print(\"Precision:\", precision)\n",
    "print(\"Recall:\", recall)\n",
    "print(\"F1-Score:\", f1score)\n",
    "\n",
    "results = {\"Accuracy:\":accuracy,\"Precision:\":precision,\"Recall:\":recall,\"F1-Score:\": f1score}\n",
    "metrics[\"bow_test\"]=results"
   ]
  },
  {
   "cell_type": "markdown",
   "metadata": {},
   "source": [
    "#### **roberta**(iter 4)"
   ]
  },
  {
   "cell_type": "code",
   "execution_count": 76,
   "metadata": {},
   "outputs": [
    {
     "name": "stdout",
     "output_type": "stream",
     "text": [
      "(6900, 300)\n"
     ]
    }
   ],
   "source": [
    "y_test_set = test_df[\"label\"]\n",
    "x_test_set = test_df[\"roberta_embedding\"]\n",
    "x_test_set_fixed = np.stack(x_test_set)\n",
    "print(x_test_set_fixed.shape)"
   ]
  },
  {
   "cell_type": "code",
   "execution_count": 77,
   "metadata": {},
   "outputs": [],
   "source": [
    "y_test_pred = roberta_lr.predict(x_test_set_fixed)"
   ]
  },
  {
   "cell_type": "code",
   "execution_count": 78,
   "metadata": {},
   "outputs": [
    {
     "name": "stdout",
     "output_type": "stream",
     "text": [
      "Accuracy: 0.5788405797101449\n",
      "Precision: 0.4166666666666667\n",
      "Recall: 0.6153516295025729\n",
      "F1-Score: 0.4968836565096953\n"
     ]
    }
   ],
   "source": [
    "accuracy = accuracy_score(y_test_set, y_test_pred)\n",
    "precision = precision_score(y_test_set, y_test_pred)\n",
    "recall = recall_score(y_test_set, y_test_pred)\n",
    "f1score = f1_score(y_test_set, y_test_pred)\n",
    "\n",
    "print(\"Accuracy:\", accuracy)\n",
    "print(\"Precision:\", precision)\n",
    "print(\"Recall:\", recall)\n",
    "print(\"F1-Score:\", f1score)\n",
    "\n",
    "results = {\"Accuracy:\":accuracy,\"Precision:\":precision,\"Recall:\":recall,\"F1-Score:\": f1score}\n",
    "metrics[\"roBERTa_test\"]=results"
   ]
  },
  {
   "cell_type": "code",
   "execution_count": 79,
   "metadata": {},
   "outputs": [],
   "source": [
    "import json\n",
    "# Store all results\n",
    "with open('./results/iter3_lrmetrics.json', 'w') as f:\n",
    "     json.dump(metrics, f, indent=4)"
   ]
  },
  {
   "cell_type": "code",
   "execution_count": 80,
   "metadata": {},
   "outputs": [],
   "source": [
    "import pickle\n",
    "\n",
    "# save models\n",
    "pickle.dump(tfidf_lr, open(\"models/iter3_rf_tfidf\", 'wb'))\n",
    "pickle.dump(bow_lr, open(\"models/iter3_rf_bow\", 'wb'))\n",
    "pickle.dump(w2v_lr, open(\"models/iter3_rf_w2v\", 'wb'))\n",
    "pickle.dump(roberta_lr, open(\"models/iter4_rf_roberta\", 'wb'))"
   ]
  },
  {
   "cell_type": "code",
   "execution_count": null,
   "metadata": {},
   "outputs": [],
   "source": []
  }
 ],
 "metadata": {
  "kernelspec": {
   "display_name": "AIproj",
   "language": "python",
   "name": "python3"
  },
  "language_info": {
   "codemirror_mode": {
    "name": "ipython",
    "version": 3
   },
   "file_extension": ".py",
   "mimetype": "text/x-python",
   "name": "python",
   "nbconvert_exporter": "python",
   "pygments_lexer": "ipython3",
   "version": "3.10.16"
  }
 },
 "nbformat": 4,
 "nbformat_minor": 2
}

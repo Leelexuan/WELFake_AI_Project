{
 "cells": [
  {
   "cell_type": "markdown",
   "id": "957db407",
   "metadata": {},
   "source": [
    "# Imports\n",
    "The file below must be ran before running any of the other files."
   ]
  },
  {
   "cell_type": "code",
   "execution_count": 11,
   "id": "6265c28e",
   "metadata": {},
   "outputs": [],
   "source": [
    "import torch\n",
    "import numpy as np\n",
    "import joblib\n",
    "import matplotlib.pyplot as plt\n",
    "import seaborn as sns\n",
    "import pandas as pd\n",
    "\n",
    "from datasets import load_dataset\n",
    "\n",
    "from sklearn.neighbors import KNeighborsClassifier\n",
    "from sklearn.metrics import accuracy_score, log_loss, precision_recall_fscore_support, classification_report, confusion_matrix, precision_score, recall_score\n",
    "from sklearn.model_selection import GridSearchCV, train_test_split, KFold\n",
    "\n",
    "from sklearn.inspection import permutation_importance\n",
    "\n",
    "\n",
    "from tqdm import tqdm"
   ]
  },
  {
   "cell_type": "code",
   "execution_count": 12,
   "id": "4f67f9d7",
   "metadata": {},
   "outputs": [
    {
     "name": "stdout",
     "output_type": "stream",
     "text": [
      "CUDA is available: True\n"
     ]
    }
   ],
   "source": [
    "use_cuda = True\n",
    "print(\"CUDA is available:\", torch.cuda.is_available())\n",
    "device = torch.device(\"cuda\" if (use_cuda and torch.cuda.is_available()) else \"cpu\")"
   ]
  },
  {
   "cell_type": "markdown",
   "id": "cec7de98",
   "metadata": {},
   "source": [
    "# Loading Data"
   ]
  },
  {
   "cell_type": "code",
   "execution_count": 13,
   "id": "fae61eff",
   "metadata": {},
   "outputs": [],
   "source": [
    "def load_and_prepare_data(iter_num, embed_type=None):\n",
    "\n",
    "        if iter_num == 1 or iter_num == 2:\n",
    "            train_dataset = 'lelexuanzz/WELFake_stylo_feats'\n",
    "            eval_dataset = 'lelexuanzz/Gossipcop_Politifact_Test_Stylo'\n",
    "\n",
    "        train_dataset = load_dataset(train_dataset)\n",
    "        eval_dataset = load_dataset(eval_dataset)\n",
    "\n",
    "        train_df = train_dataset[\"train\"].to_pandas()\n",
    "        eval_df = eval_dataset[\"train\"].to_pandas()\n",
    "        print(f\"Dataset loaded. Shape: {train_df.shape}\")\n",
    "\n",
    "        print(\"Train columns:\", train_df.columns.tolist())\n",
    "        print(\"Eval columns:\", eval_df.columns.tolist())\n",
    "\n",
    "        exclude_patterns = ['title','text', 'label']\n",
    "        label_column = \"label\"\n",
    "\n",
    "        if iter_num == 1:\n",
    "            feature_columns = [col for col in train_df.columns if not any(pattern in col.lower() for pattern in exclude_patterns)][:10]\n",
    "\n",
    "            y = train_df[label_column]\n",
    "            x = train_df[feature_columns]\n",
    "\n",
    "            X_train, X_test, Y_train, Y_test = train_test_split(x, y, test_size=0.2, random_state=42)\n",
    "\n",
    "            X_eval = eval_df[feature_columns].values\n",
    "            Y_eval = eval_df[label_column].values\n",
    "\n",
    "        elif iter_num == 2:\n",
    "            feature_columns = [col for col in train_df.columns if not any(pattern in col.lower() for pattern in exclude_patterns)]\n",
    "\n",
    "            y = train_df[label_column]\n",
    "            x = train_df[feature_columns]\n",
    "\n",
    "            X_train, X_test, Y_train, Y_test = train_test_split(x, y, test_size=0.2, random_state=42)\n",
    "\n",
    "            X_eval = eval_df[feature_columns].values\n",
    "            Y_eval = eval_df[label_column].values\n",
    "            \n",
    "        elif iter_num == 3:\n",
    "            feature_columns = 'roberta_embedding'\n",
    "            y = train_df[label_column]\n",
    "            x = train_df[embed_type]\n",
    "            X_eval = eval_df[feature_columns].values\n",
    "            Y_eval = eval_df[label_column].values\n",
    "\n",
    "            X_train, X_test, Y_train, Y_test = np.stack(train_test_split(x, y, test_size=0.2, random_state=42))\n",
    "    \n",
    "        return X_train, Y_train, X_test, Y_test, X_eval, Y_eval, feature_columns"
   ]
  },
  {
   "cell_type": "markdown",
   "id": "454838dc",
   "metadata": {},
   "source": [
    "# KNN Base Model"
   ]
  },
  {
   "cell_type": "code",
   "execution_count": 14,
   "id": "d26da50d",
   "metadata": {},
   "outputs": [],
   "source": [
    "def knn_model(X_train, y_train, k=5):\n",
    "\n",
    "    print(\"Training baseline KNN model...\")\n",
    "    knn = KNeighborsClassifier(k)\n",
    "    knn.fit(X_train, y_train)\n",
    "\n",
    "    return knn"
   ]
  },
  {
   "cell_type": "markdown",
   "id": "b5ad2785",
   "metadata": {},
   "source": [
    "## Hyperparameter Tunning on KNN Model\n",
    "Using Grid Search to decide the hyperparameters to use."
   ]
  },
  {
   "cell_type": "code",
   "execution_count": 15,
   "id": "fcb6dfb7",
   "metadata": {},
   "outputs": [],
   "source": [
    "def hyperparameter_tuning(model, X_train, y_train):\n",
    "\n",
    "    print(\"Performing hyperparameter tuning with GridSearchCV...\")\n",
    "\n",
    "    param_grid = {\n",
    "        'n_neighbors': [3, 5, 7, 9, 11, 13, 15],\n",
    "        'weights': ['uniform', 'distance'],\n",
    "        'metric': ['euclidean', 'manhattan', 'chebyshev']\n",
    "    }\n",
    "    \n",
    "    grid_search = GridSearchCV(\n",
    "        model, param_grid, cv=5, scoring='accuracy', verbose=1, n_jobs=-1\n",
    "    )\n",
    "    grid_search.fit(X_train, y_train)\n",
    "    \n",
    "    print(f\"Best parameters from GridSearchCV: {grid_search.best_params_}\")\n",
    "    print(f\"Best CV score from GridSearchCV: {grid_search.best_score_:.4f}\")\n",
    "\n",
    "    return grid_search.best_estimator_, grid_search.best_params_, grid_search.best_score_\n"
   ]
  },
  {
   "cell_type": "markdown",
   "id": "9acc9dcf",
   "metadata": {},
   "source": [
    "# Cross Validation"
   ]
  },
  {
   "cell_type": "code",
   "execution_count": 16,
   "id": "803fe4f9",
   "metadata": {},
   "outputs": [],
   "source": [
    "def k_fold_cross_validation(best_model, X_train, Y_train):\n",
    "    \n",
    "    print(\"Performing k-fold cross-validation...\")\n",
    "    \n",
    "    kf = KFold(n_splits=5, shuffle=True, random_state=42)\n",
    "    cv_scores = []\n",
    "    \n",
    "    for train_idx, val_idx in tqdm(kf.split(X_train), total=5):\n",
    "        X_train_fold, X_val_fold = X_train.iloc[train_idx], X_train.iloc[val_idx]\n",
    "        y_train_fold, y_val_fold = Y_train.iloc[train_idx], Y_train.iloc[val_idx]\n",
    "\n",
    "\n",
    "        joblib.dump(best_model, 'temp_model.pkl')\n",
    "        fold_model = joblib.load('temp_model.pkl')  # Temporary Model to avoid refitting\n",
    "        fold_model.fit(X_train_fold, y_train_fold)\n",
    "\n",
    "        y_pred = fold_model.predict(X_val_fold)\n",
    "        accuracy = accuracy_score(y_val_fold, y_pred)\n",
    "        precision = precision_score(y_val_fold, y_pred)\n",
    "        recall = recall_score(y_val_fold, y_pred)\n",
    "        cv_scores.append({\n",
    "            'accuracy': accuracy,\n",
    "            'precision': precision,\n",
    "            'recall': recall,\n",
    "        })\n",
    "    \n",
    "    print(f\"accuracy: {accuracy}\")\n",
    "    print(f\"precision: {precision}\")\n",
    "    print(f\"recall: {recall}\")\n",
    "\n",
    "\n",
    "    return cv_scores"
   ]
  },
  {
   "cell_type": "markdown",
   "id": "e628c514",
   "metadata": {},
   "source": [
    "# Feature Importance"
   ]
  },
  {
   "cell_type": "code",
   "execution_count": 17,
   "id": "56bdbdc0",
   "metadata": {},
   "outputs": [],
   "source": [
    "def feature_importance(model, X_train, y_train, X_test, y_test, feature_names):\n",
    "\n",
    "    print(\"Calculating feature importance...\")\n",
    "    \n",
    "    # Method 1: Permutation Importance\n",
    "    ## Randomly shuffles a feature's values and measures the drop in performance. \n",
    "    # Features that cause larger drops when shuffled are more important.\n",
    "    perm_importance = permutation_importance(model, X_test, y_test, \n",
    "                                           n_repeats=10, random_state=42)\n",
    "    perm_scores = perm_importance.importances_mean\n",
    "    \n",
    "    # Method 2: Feature removal importance\n",
    "    removal_scores = []\n",
    "    baseline_score = model.score(X_test, y_test)\n",
    "    \n",
    "    for i in range(X_train.shape[1]):\n",
    "        \n",
    "        # Removal of THAT feature.\n",
    "        X_train_subset = np.delete(X_train, i, axis=1)\n",
    "        X_test_subset = np.delete(X_test, i, axis=1)\n",
    "\n",
    "        temp_model = KNeighborsClassifier(n_neighbors=model.n_neighbors, \n",
    "                                        weights=model.weights,\n",
    "                                        metric=model.metric)\n",
    "        temp_model.fit(X_train_subset, y_train)\n",
    "        \n",
    "        # Calculate importance as the drop in accuracy\n",
    "        new_score = temp_model.score(X_test_subset, y_test)\n",
    "        importance = baseline_score - new_score\n",
    "        removal_scores.append(importance)\n",
    "    \n",
    "    # Method 3: Distance-based importance\n",
    "    # This is specific to KNN - features that create more separation between classes\n",
    "    # might be more important\n",
    "    \n",
    "    class_0_samples = X_train[y_train == 0]\n",
    "    class_1_samples = X_train[y_train == 1]\n",
    "    \n",
    "    # Calculate mean difference between classes for each feature\n",
    "    mean_diff = np.abs(np.mean(class_0_samples, axis=0) - np.mean(class_1_samples, axis=0))\n",
    "    \n",
    "    # Normalize the scores\n",
    "    permutation_scores = (perm_scores - min(perm_scores)) / (max(perm_scores) - min(perm_scores) + 1e-10)\n",
    "    removal_scores = np.array(removal_scores)\n",
    "    removal_scores = (removal_scores - min(removal_scores)) / (max(removal_scores) - min(removal_scores) + 1e-10)\n",
    "    mean_diff_scores = (mean_diff - min(mean_diff)) / (max(mean_diff) - min(mean_diff) + 1e-10)\n",
    "    \n",
    "    # Create importance DataFrame\n",
    "    importance_df = pd.DataFrame({\n",
    "        'Feature': feature_names,\n",
    "        'Permutation_Importance': permutation_scores,\n",
    "        'Removal_Importance': removal_scores,\n",
    "        'Mean_Difference': mean_diff_scores,\n",
    "        'Average_Importance': (permutation_scores + removal_scores + mean_diff_scores) / 3\n",
    "    })\n",
    "    \n",
    "    importance_df = importance_df.sort_values('Average_Importance', ascending=False)\n",
    "    importance_df['Rank'] = range(1, len(importance_df) + 1)\n",
    "    \n",
    "    # Use this to show all features in order of importance:\n",
    "    print(\"All features by importance (most to least important):\")\n",
    "    print(importance_df[['Feature', 'Average_Importance']])\n",
    "    \n",
    "    pd.reset_option('display.max_rows')  # Reset to default\n",
    "    \n",
    "    return importance_df"
   ]
  },
  {
   "cell_type": "markdown",
   "id": "f14fad76",
   "metadata": {},
   "source": [
    "# Evaluation"
   ]
  },
  {
   "cell_type": "code",
   "execution_count": 18,
   "id": "4b204839",
   "metadata": {},
   "outputs": [],
   "source": [
    "def evaluate_model(model, X_test, y_test):\n",
    "    \"\"\"Evaluate the model on the test set and visualize results\"\"\"\n",
    "    print(\"Evaluating model on test set...\")\n",
    "    \n",
    "    # Predict on test set\n",
    "    y_pred = model.predict(X_test)\n",
    "    \n",
    "    # Calculate metrics\n",
    "    accuracy = accuracy_score(y_test, y_pred)\n",
    "    precision, recall, f1, _ = precision_recall_fscore_support(y_test, y_pred, average='weighted')\n",
    "    report = classification_report(y_test, y_pred)\n",
    "    conf_matrix = confusion_matrix(y_test, y_pred)\n",
    "    \n",
    "    print(f\"Test Accuracy: {accuracy:.4f}\")\n",
    "    print(f\"Precision: {precision:.4f}\")\n",
    "    print(f\"Recall: {recall:.4f}\")\n",
    "    print(f\"F1 Score: {f1:.4f}\")\n",
    "    print(f\"Classification Report:\\n{report}\")\n",
    "    \n",
    "    # Plot confusion matrix\n",
    "    plt.figure(figsize=(8, 6))\n",
    "    sns.heatmap(conf_matrix, annot=True, fmt='d', cmap='Blues', \n",
    "                xticklabels=['Real', 'Fake'], yticklabels=['Real', 'Fake'])\n",
    "    plt.title('Confusion Matrix')\n",
    "    plt.ylabel('True Label')\n",
    "    plt.xlabel('Predicted Label')\n",
    "    plt.tight_layout()\n",
    "    \n",
    "    results = {\n",
    "        'accuracy': accuracy,\n",
    "        'precision': precision,\n",
    "        'recall': recall,\n",
    "        'f1': f1,\n",
    "        'report': report,\n",
    "        'confusion_matrix': conf_matrix.tolist(),\n",
    "    }\n",
    "    \n",
    "    return results"
   ]
  },
  {
   "cell_type": "markdown",
   "id": "f84e9926",
   "metadata": {},
   "source": [
    "# Main Function"
   ]
  },
  {
   "cell_type": "code",
   "execution_count": 19,
   "id": "f7d115a6",
   "metadata": {},
   "outputs": [
    {
     "name": "stdout",
     "output_type": "stream",
     "text": [
      "Starting KNN classification with stylometric features...\n",
      "Dataset loaded. Shape: (62592, 20)\n",
      "Train columns: ['text', 'label', 'has_quotes', 'has_url', 'percent_uppercase', 'frequency_punctuation', 'percent_whitespace', 'frequency_words_length_15', 'frequency_words_length_14', 'frequency_words_length_12', 'frequency_words_length_11', 'avg_sentence_length', 'has_1_to_3_urls', 'has_4_to_6_urls', 'has_more_than_6_urls', 'num_exclamations', 'num_questions', 'avg_word_length', 'lexical_diversity', 'proportion_stopwords']\n",
      "Eval columns: ['text', 'label', 'has_quotes', 'has_url', 'percent_uppercase', 'frequency_punctuation', 'percent_whitespace', 'frequency_words_length_15', 'frequency_words_length_14', 'frequency_words_length_12', 'frequency_words_length_11', 'avg_sentence_length', 'has_1_to_3_urls', 'has_4_to_6_urls', 'has_more_than_6_urls', 'num_exclamations', 'num_questions', 'avg_word_length', 'lexical_diversity', 'proportion_stopwords']\n",
      "Training baseline KNN model...\n",
      "Performing hyperparameter tuning with GridSearchCV...\n",
      "Fitting 5 folds for each of 42 candidates, totalling 210 fits\n",
      "Best parameters from GridSearchCV: {'metric': 'manhattan', 'n_neighbors': 15, 'weights': 'distance'}\n",
      "Best CV score from GridSearchCV: 0.7057\n",
      "Performing k-fold cross-validation...\n"
     ]
    },
    {
     "name": "stderr",
     "output_type": "stream",
     "text": [
      "100%|██████████| 5/5 [00:00<00:00, 14.98it/s]\n",
      "c:\\Users\\paulo\\miniconda3\\envs\\AIproj\\lib\\site-packages\\sklearn\\utils\\validation.py:2739: UserWarning: X does not have valid feature names, but KNeighborsClassifier was fitted with feature names\n",
      "  warnings.warn(\n"
     ]
    },
    {
     "name": "stdout",
     "output_type": "stream",
     "text": [
      "accuracy: 0.6799840191769876\n",
      "precision: 0.6824324324324325\n",
      "recall: 0.5386666666666666\n",
      "Evaluating model on test set...\n",
      "Test Accuracy: 0.5265\n",
      "Precision: 0.5022\n",
      "Recall: 0.5265\n",
      "F1 Score: 0.5125\n",
      "Classification Report:\n",
      "              precision    recall  f1-score   support\n",
      "\n",
      "           0       0.63      0.69      0.66      4568\n",
      "           1       0.25      0.20      0.23      2332\n",
      "\n",
      "    accuracy                           0.53      6900\n",
      "   macro avg       0.44      0.45      0.44      6900\n",
      "weighted avg       0.50      0.53      0.51      6900\n",
      "\n",
      "                                     Best Parameters  Test Accuracy  \\\n",
      "0  {'metric': 'manhattan', 'n_neighbors': 15, 'we...       0.526522   \n",
      "\n",
      "   Precision    Recall  F1 Score  \n",
      "0   0.502175  0.526522  0.512547  \n",
      "Iteration #1 complete!\n"
     ]
    },
    {
     "data": {
      "image/png": "[encoded data removed]",
      "text/plain": [
       "<Figure size 800x600 with 2 Axes>"
      ]
     },
     "metadata": {},
     "output_type": "display_data"
    }
   ],
   "source": [
    "def main():\n",
    "\n",
    "    print(\"Starting KNN classification with stylometric features...\")\n",
    "\n",
    "    iteration_num = 1\n",
    "\n",
    "    # 1. Load and prepare data\n",
    "    X_train, Y_train, X_test, Y_test, X_eval, Y_eval, _= load_and_prepare_data(iteration_num)\n",
    "    \n",
    "    # 2. Training KNN Model\n",
    "    knn = knn_model(X_train, Y_train)\n",
    "    \n",
    "    # 3. Hyperparameter tuning\n",
    "    best_model, best_params, best_cv_score = hyperparameter_tuning(knn, X_train, Y_train)\n",
    "    \n",
    "    # 4. K-fold cross-validation\n",
    "    cv_scores = k_fold_cross_validation(best_model, X_test, Y_test)\n",
    "    \n",
    "    # 5. Final evaluation\n",
    "    final_results = evaluate_model(best_model, X_eval, Y_eval)\n",
    "    \n",
    "    # # 6. Save the best model\n",
    "    # model_path = f'results/knn_model{iteration_num}_best_weights.pkl'\n",
    "    # joblib.dump(best_model, model_path)\n",
    "    # print(f\"Best model saved to {model_path}\")\n",
    "    \n",
    "    # 7. View results\n",
    "    results_df = pd.DataFrame({\n",
    "        'Best Parameters': [str(best_params)],\n",
    "        'Test Accuracy': [final_results['accuracy']],\n",
    "        'Precision': [final_results['precision']],\n",
    "        'Recall': [final_results['recall']],\n",
    "        'F1 Score': [final_results['f1']]\n",
    "    })\n",
    "    \n",
    "    print(results_df)\n",
    "    print(f\"Iteration #{iteration_num} complete!\")\n",
    "    return best_model, final_results\n",
    "\n",
    "if __name__ == \"__main__\":\n",
    "    main()"
   ]
  },
  {
   "cell_type": "code",
   "execution_count": 20,
   "id": "15d4490a",
   "metadata": {},
   "outputs": [
    {
     "name": "stdout",
     "output_type": "stream",
     "text": [
      "Starting KNN classification with ALL stylometric features...\n",
      "Dataset loaded. Shape: (62592, 20)\n",
      "Train columns: ['text', 'label', 'has_quotes', 'has_url', 'percent_uppercase', 'frequency_punctuation', 'percent_whitespace', 'frequency_words_length_15', 'frequency_words_length_14', 'frequency_words_length_12', 'frequency_words_length_11', 'avg_sentence_length', 'has_1_to_3_urls', 'has_4_to_6_urls', 'has_more_than_6_urls', 'num_exclamations', 'num_questions', 'avg_word_length', 'lexical_diversity', 'proportion_stopwords']\n",
      "Eval columns: ['text', 'label', 'has_quotes', 'has_url', 'percent_uppercase', 'frequency_punctuation', 'percent_whitespace', 'frequency_words_length_15', 'frequency_words_length_14', 'frequency_words_length_12', 'frequency_words_length_11', 'avg_sentence_length', 'has_1_to_3_urls', 'has_4_to_6_urls', 'has_more_than_6_urls', 'num_exclamations', 'num_questions', 'avg_word_length', 'lexical_diversity', 'proportion_stopwords']\n",
      "Training baseline KNN model...\n",
      "Performing hyperparameter tuning with GridSearchCV...\n",
      "Fitting 5 folds for each of 42 candidates, totalling 210 fits\n",
      "Best parameters from GridSearchCV: {'metric': 'manhattan', 'n_neighbors': 11, 'weights': 'distance'}\n",
      "Best CV score from GridSearchCV: 0.7660\n",
      "Performing k-fold cross-validation...\n"
     ]
    },
    {
     "name": "stderr",
     "output_type": "stream",
     "text": [
      "100%|██████████| 5/5 [00:00<00:00, 18.64it/s]\n",
      "c:\\Users\\paulo\\miniconda3\\envs\\AIproj\\lib\\site-packages\\sklearn\\utils\\validation.py:2739: UserWarning: X does not have valid feature names, but KNeighborsClassifier was fitted with feature names\n",
      "  warnings.warn(\n"
     ]
    },
    {
     "name": "stdout",
     "output_type": "stream",
     "text": [
      "accuracy: 0.7343188174190971\n",
      "precision: 0.8474320241691843\n",
      "recall: 0.49866666666666665\n",
      "Evaluating model on test set...\n",
      "Test Accuracy: 0.5507\n",
      "Precision: 0.4997\n",
      "Recall: 0.5507\n",
      "F1 Score: 0.5181\n",
      "Classification Report:\n",
      "              precision    recall  f1-score   support\n",
      "\n",
      "           0       0.63      0.76      0.69      4568\n",
      "           1       0.24      0.15      0.18      2332\n",
      "\n",
      "    accuracy                           0.55      6900\n",
      "   macro avg       0.43      0.45      0.44      6900\n",
      "weighted avg       0.50      0.55      0.52      6900\n",
      "\n",
      "Calculating feature importance...\n",
      "All features by importance (most to least important):\n",
      "                                             Feature  Average_Importance\n",
      "frequency_punctuation          frequency_punctuation            0.666667\n",
      "avg_sentence_length              avg_sentence_length            0.464882\n",
      "has_url                                      has_url            0.455234\n",
      "num_questions                          num_questions            0.442539\n",
      "percent_whitespace                percent_whitespace            0.301608\n",
      "num_exclamations                    num_exclamations            0.299355\n",
      "percent_uppercase                  percent_uppercase            0.297691\n",
      "has_4_to_6_urls                      has_4_to_6_urls            0.288480\n",
      "has_1_to_3_urls                      has_1_to_3_urls            0.270695\n",
      "has_more_than_6_urls            has_more_than_6_urls            0.252274\n",
      "frequency_words_length_11  frequency_words_length_11            0.251393\n",
      "avg_word_length                      avg_word_length            0.234166\n",
      "frequency_words_length_12  frequency_words_length_12            0.218677\n",
      "frequency_words_length_14  frequency_words_length_14            0.204816\n",
      "proportion_stopwords            proportion_stopwords            0.195594\n",
      "frequency_words_length_15  frequency_words_length_15            0.194942\n",
      "has_quotes                                has_quotes            0.190417\n",
      "lexical_diversity                  lexical_diversity            0.183656\n",
      "                                     Best Parameters  Test Accuracy  \\\n",
      "0  {'metric': 'manhattan', 'n_neighbors': 11, 'we...       0.550725   \n",
      "\n",
      "   Precision    Recall  F1 Score  \n",
      "0   0.499657  0.550725  0.518114  \n",
      "Iteration #2 complete!\n"
     ]
    },
    {
     "data": {
      "image/png": "[encoded data removed]",
      "text/plain": [
       "<Figure size 800x600 with 2 Axes>"
      ]
     },
     "metadata": {},
     "output_type": "display_data"
    }
   ],
   "source": [
    "def main():\n",
    "\n",
    "    print(\"Starting KNN classification with ALL stylometric features...\")\n",
    "\n",
    "    iteration_num = 2\n",
    "\n",
    "    # 1. Load and prepare data\n",
    "    X_train, Y_train, X_test, Y_test, X_eval, Y_eval, feature_columns= load_and_prepare_data(iteration_num)\n",
    "    \n",
    "    # 2. Training KNN Model\n",
    "    knn = knn_model(X_train, Y_train)\n",
    "    \n",
    "    # 3. Hyperparameter tuning\n",
    "    best_model, best_params, best_cv_score = hyperparameter_tuning(knn, X_train, Y_train)\n",
    "    \n",
    "    # 4. K-fold cross-validation\n",
    "    cv_scores = k_fold_cross_validation(best_model, X_test, Y_test)\n",
    "    \n",
    "    # 5. Final evaluation\n",
    "    final_results = evaluate_model(best_model, X_eval, Y_eval)\n",
    "\n",
    "    feature_importance(best_model, X_train, Y_train, X_test, Y_test, feature_names=feature_columns)\n",
    "    \n",
    "    # 7. View results\n",
    "    results_df = pd.DataFrame({\n",
    "        'Best Parameters': [str(best_params)],\n",
    "        'Test Accuracy': [final_results['accuracy']],\n",
    "        'Precision': [final_results['precision']],\n",
    "        'Recall': [final_results['recall']],\n",
    "        'F1 Score': [final_results['f1']]\n",
    "    })\n",
    "    \n",
    "    print(results_df)\n",
    "    print(f\"Iteration #{iteration_num} complete!\")\n",
    "    return best_model, final_results\n",
    "\n",
    "if __name__ == \"__main__\":\n",
    "    main()"
   ]
  }
 ],
 "metadata": {
  "kernelspec": {
   "display_name": "AIproj",
   "language": "python",
   "name": "python3"
  },
  "language_info": {
   "codemirror_mode": {
    "name": "ipython",
    "version": 3
   },
   "file_extension": ".py",
   "mimetype": "text/x-python",
   "name": "python",
   "nbconvert_exporter": "python",
   "pygments_lexer": "ipython3",
   "version": "3.10.16"
  }
 },
 "nbformat": 4,
 "nbformat_minor": 5
}

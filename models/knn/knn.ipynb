{
 "cells": [
  {
   "cell_type": "markdown",
   "id": "957db407",
   "metadata": {},
   "source": [
    "# Imports\n",
    "The file below must be ran before running any of the other files."
   ]
  },
  {
   "cell_type": "code",
   "execution_count": null,
   "id": "6265c28e",
   "metadata": {},
   "outputs": [],
   "source": [
    "import torch\n",
    "import numpy as np\n",
    "import joblib\n",
    "import matplotlib.pyplot as plt\n",
    "import seaborn as sns\n",
    "import pandas as pd\n",
    "\n",
    "from datasets import load_dataset\n",
    "\n",
    "from sklearn.neighbors import KNeighborsClassifier\n",
    "from sklearn.metrics import accuracy_score, log_loss, precision_recall_fscore_support, classification_report, confusion_matrix\n",
    "from sklearn.model_selection import GridSearchCV, KFold\n",
    "\n",
    "from tqdm import tqdm"
   ]
  },
  {
   "cell_type": "code",
   "execution_count": 2,
   "id": "4f67f9d7",
   "metadata": {},
   "outputs": [
    {
     "name": "stdout",
     "output_type": "stream",
     "text": [
      "CUDA is available: False\n"
     ]
    }
   ],
   "source": [
    "use_cuda = True\n",
    "print(\"CUDA is available:\", torch.cuda.is_available())\n",
    "device = torch.device(\"cuda\" if (use_cuda and torch.cuda.is_available()) else \"cpu\")"
   ]
  },
  {
   "cell_type": "markdown",
   "id": "cec7de98",
   "metadata": {},
   "source": [
    "# Loading Data"
   ]
  },
  {
   "cell_type": "code",
   "execution_count": 3,
   "id": "fae61eff",
   "metadata": {},
   "outputs": [],
   "source": [
    "def load_and_prepare_data(iter_num):\n",
    "\n",
    "        if iter_num == 1 or 2:\n",
    "            train_dataset = 'lelexuanzz/WELFake_stylo_feats'\n",
    "            test_dataset = 'lelexuanzz/Gossipcop_Politifact_Test_Stylo'\n",
    "        elif iter_num == 3:\n",
    "            train_dataset = 'Paulozs/WELFake_embeddings'\n",
    "            test_dataset = 'lelexuanzz/Gossipcop_Politifact_Test'\n",
    "\n",
    "        train_dataset = load_dataset(train_dataset)\n",
    "        test_dataset = load_dataset(test_dataset)\n",
    "\n",
    "        train_df = train_dataset[\"train\"].to_pandas()\n",
    "        test_df = test_dataset[\"train\"].to_pandas()\n",
    "        print(f\"Dataset loaded. Shape: {train_df.shape}\")\n",
    "\n",
    "        exclude_patterns = ['title','text', 'label']\n",
    "        label_column = \"label\"\n",
    "\n",
    "        if iter_num == 1:\n",
    "            feature_columns = [col for col in train_df.columns if not any(pattern in col.lower() for pattern in exclude_patterns)][:10]\n",
    "        elif iter_num == 2:\n",
    "            feature_columns = [col for col in train_df.columns if not any(pattern in col.lower() for pattern in exclude_patterns)]\n",
    "\n",
    "        X_train = train_df[feature_columns].values\n",
    "        Y_train = train_df[label_column].values\n",
    "        X_test = test_df[feature_columns].values\n",
    "        Y_test = test_df[label_column].values\n",
    "\n",
    "        print(f\"Feature Column Shape: {X_train.shape}\")\n",
    "        print(f\"Label Column Shape: {Y_train.shape}\")\n",
    "    \n",
    "        return X_train, Y_train, X_test, Y_test"
   ]
  },
  {
   "cell_type": "markdown",
   "id": "454838dc",
   "metadata": {},
   "source": [
    "# KNN Base Model"
   ]
  },
  {
   "cell_type": "code",
   "execution_count": 4,
   "id": "d26da50d",
   "metadata": {},
   "outputs": [],
   "source": [
    "def knn_model(X_train, y_train, X_test, y_test, k=5):\n",
    "\n",
    "    print(\"Training baseline KNN model...\")\n",
    "    knn = KNeighborsClassifier(k)\n",
    "    knn.fit(X_train, y_train)\n",
    "    \n",
    "    y_pred = knn.predict(X_test)\n",
    "    y_proba = knn.predict_proba(X_test)[:, 1] # Probability of the sample being FAKE.\n",
    "    \n",
    "    accuracy = accuracy_score(y_test, y_pred)\n",
    "    loss = log_loss(y_test, y_proba) \n",
    "    \n",
    "    print(f\"KNN Model accuracy: {accuracy:.4f}\")\n",
    "    print(f\"KNN Model log loss: {loss:.4f}\")\n",
    "\n",
    "    return knn, accuracy, loss\n"
   ]
  },
  {
   "cell_type": "markdown",
   "id": "b5ad2785",
   "metadata": {},
   "source": [
    "## Hyperparameter Tunning on KNN Model\n",
    "Using Grid Search to decide the hyperparameters to use."
   ]
  },
  {
   "cell_type": "code",
   "execution_count": 5,
   "id": "fcb6dfb7",
   "metadata": {},
   "outputs": [],
   "source": [
    "def hyperparameter_tuning(X_train, y_train):\n",
    "\n",
    "    print(\"Performing hyperparameter tuning with GridSearchCV...\")\n",
    "\n",
    "    param_grid = {\n",
    "        'n_neighbors': [3, 5, 7, 9, 11, 13, 15],\n",
    "        'weights': ['uniform', 'distance'],\n",
    "        'metric': ['euclidean', 'manhattan', 'chebyshev']\n",
    "    }\n",
    "    \n",
    "    knn = KNeighborsClassifier()\n",
    "    grid_search = GridSearchCV(\n",
    "        knn, param_grid, cv=5, scoring='accuracy', verbose=1, n_jobs=-1\n",
    "    )\n",
    "    grid_search.fit(X_train, y_train)\n",
    "    \n",
    "    print(f\"Best parameters from GridSearchCV: {grid_search.best_params_}\")\n",
    "    print(f\"Best CV score from GridSearchCV: {grid_search.best_score_:.4f}\")\n",
    "\n",
    "    return grid_search.best_estimator_, grid_search.best_params_, grid_search.best_score_\n"
   ]
  },
  {
   "cell_type": "markdown",
   "id": "9acc9dcf",
   "metadata": {},
   "source": [
    "# Cross Validation"
   ]
  },
  {
   "cell_type": "code",
   "execution_count": 8,
   "id": "803fe4f9",
   "metadata": {},
   "outputs": [],
   "source": [
    "def k_fold_cross_validation(best_model, X_train, y_train):\n",
    "    \n",
    "    print(\"Performing k-fold cross-validation...\")\n",
    "    \n",
    "    kf = KFold(n_splits=5, shuffle=True, random_state=42)\n",
    "    cv_scores = []\n",
    "    \n",
    "    for train_idx, val_idx in tqdm(kf.split(X_train), total=5):\n",
    "        X_train_fold, X_val_fold = X_train[train_idx], X_train[val_idx]\n",
    "        y_train_fold, y_val_fold = y_train[train_idx], y_train[val_idx]\n",
    "\n",
    "        joblib.dump(best_model, 'temp_model.pkl')\n",
    "        fold_model = joblib.load('temp_model.pkl')  # Temporary Model to avoid refitting\n",
    "        fold_model.fit(X_train_fold, y_train_fold)\n",
    "        score = fold_model.score(X_val_fold, y_val_fold)\n",
    "        cv_scores.append(score)\n",
    "    \n",
    "    print(f\"Cross-validation scores: {cv_scores}\")\n",
    "    print(f\"Mean CV score: {np.mean(cv_scores):.4f}\")\n",
    "    print(f\"Standard deviation of CV scores: {np.std(cv_scores):.4f}\")\n",
    "    \n",
    "    return cv_scores"
   ]
  },
  {
   "cell_type": "markdown",
   "id": "f14fad76",
   "metadata": {},
   "source": [
    "# Evaluation"
   ]
  },
  {
   "cell_type": "code",
   "execution_count": 14,
   "id": "4b204839",
   "metadata": {},
   "outputs": [],
   "source": [
    "def evaluate_model(model, X_test, y_test):\n",
    "    \"\"\"Evaluate the model on the test set and visualize results\"\"\"\n",
    "    print(\"Evaluating model on test set...\")\n",
    "    \n",
    "    # Predict on test set\n",
    "    y_pred = model.predict(X_test)\n",
    "    \n",
    "    # Calculate metrics\n",
    "    accuracy = accuracy_score(y_test, y_pred)\n",
    "    precision, recall, f1, _ = precision_recall_fscore_support(y_test, y_pred, average='weighted')\n",
    "    report = classification_report(y_test, y_pred)\n",
    "    conf_matrix = confusion_matrix(y_test, y_pred)\n",
    "    \n",
    "    print(f\"Test Accuracy: {accuracy:.4f}\")\n",
    "    print(f\"Precision: {precision:.4f}\")\n",
    "    print(f\"Recall: {recall:.4f}\")\n",
    "    print(f\"F1 Score: {f1:.4f}\")\n",
    "    print(f\"Classification Report:\\n{report}\")\n",
    "    \n",
    "    # Plot confusion matrix\n",
    "    plt.figure(figsize=(8, 6))\n",
    "    sns.heatmap(conf_matrix, annot=True, fmt='d', cmap='Blues', \n",
    "                xticklabels=['Real', 'Fake'], yticklabels=['Real', 'Fake'])\n",
    "    plt.title('Confusion Matrix')\n",
    "    plt.ylabel('True Label')\n",
    "    plt.xlabel('Predicted Label')\n",
    "    plt.tight_layout()\n",
    "    \n",
    "    results = {\n",
    "        'accuracy': accuracy,\n",
    "        'precision': precision,\n",
    "        'recall': recall,\n",
    "        'f1': f1,\n",
    "        'report': report,\n",
    "        'confusion_matrix': conf_matrix.tolist(),\n",
    "    }\n",
    "    \n",
    "    return results"
   ]
  },
  {
   "cell_type": "markdown",
   "id": "f84e9926",
   "metadata": {},
   "source": [
    "# Main Function"
   ]
  },
  {
   "cell_type": "code",
   "execution_count": 16,
   "id": "f7d115a6",
   "metadata": {},
   "outputs": [
    {
     "name": "stdout",
     "output_type": "stream",
     "text": [
      "Starting KNN classification with stylometric features...\n",
      "Dataset loaded. Shape: (62592, 20)\n",
      "Feature Column Shape: (62592, 10)\n",
      "Label Column Shape: (62592,)\n",
      "Training baseline KNN model...\n",
      "KNN Model accuracy: 0.5078\n",
      "KNN Model log loss: 3.8343\n",
      "Performing hyperparameter tuning with GridSearchCV...\n",
      "Fitting 5 folds for each of 42 candidates, totalling 210 fits\n",
      "Best parameters from GridSearchCV: {'metric': 'manhattan', 'n_neighbors': 15, 'weights': 'distance'}\n",
      "Best CV score from GridSearchCV: 0.7084\n",
      "Performing k-fold cross-validation...\n"
     ]
    },
    {
     "name": "stderr",
     "output_type": "stream",
     "text": [
      "100%|██████████| 5/5 [00:12<00:00,  2.54s/it]\n"
     ]
    },
    {
     "name": "stdout",
     "output_type": "stream",
     "text": [
      "Cross-validation scores: [0.7105200095854302, 0.7071651090342679, 0.7136123981466688, 0.6955583959098898, 0.7063428662725675]\n",
      "Mean CV score: 0.7066\n",
      "Standard deviation of CV scores: 0.0061\n",
      "Evaluating model on test set...\n",
      "Test Accuracy: 0.5235\n",
      "Precision: 0.5014\n",
      "Recall: 0.5235\n",
      "F1 Score: 0.5110\n",
      "Classification Report:\n",
      "              precision    recall  f1-score   support\n",
      "\n",
      "           0       0.63      0.68      0.66      4568\n",
      "           1       0.25      0.21      0.23      2332\n",
      "\n",
      "    accuracy                           0.52      6900\n",
      "   macro avg       0.44      0.45      0.44      6900\n",
      "weighted avg       0.50      0.52      0.51      6900\n",
      "\n",
      "Best model saved to results/knn_model_best_weights.pkl\n",
      "                  Model  Baseline Accuracy  \\\n",
      "0  KNN WELFake Stylo V1           0.507826   \n",
      "\n",
      "                                     Best Parameters  CV Score (Mean)  \\\n",
      "0  {'metric': 'manhattan', 'n_neighbors': 15, 'we...          0.70664   \n",
      "\n",
      "   CV Score (Std)  Test Accuracy  Precision    Recall  F1 Score  \n",
      "0        0.006113       0.523478   0.501425  0.523478  0.510973  \n",
      "Iteration #1 complete!\n"
     ]
    },
    {
     "data": {
      "image/png": "[encoded data removed]",
      "text/plain": [
       "<Figure size 800x600 with 2 Axes>"
      ]
     },
     "metadata": {},
     "output_type": "display_data"
    }
   ],
   "source": [
    "def main():\n",
    "\n",
    "    print(\"Starting KNN classification with stylometric features...\")\n",
    "\n",
    "    iteration_num = 1\n",
    "\n",
    "    # 1. Load and prepare data\n",
    "    X_train, Y_train, X_test, Y_test= load_and_prepare_data(iteration_num)\n",
    "    \n",
    "    # 2. Training KNN Model\n",
    "    model, knn_accuracy, knn_loss = knn_model(X_train, Y_train, X_test, Y_test)\n",
    "    \n",
    "    # 3. Hyperparameter tuning\n",
    "    best_model, best_params, best_cv_score = hyperparameter_tuning(X_train, Y_train)\n",
    "    \n",
    "    # 4. K-fold cross-validation\n",
    "    cv_scores = k_fold_cross_validation(best_model, X_train, Y_train)\n",
    "    \n",
    "    # 5. Final evaluation\n",
    "    final_results = evaluate_model(best_model, X_test, Y_test)\n",
    "    \n",
    "    # 6. Save the best model\n",
    "    model_path = 'results/knn_model_best_weights.pkl'\n",
    "    joblib.dump(best_model, model_path)\n",
    "    print(f\"Best model saved to {model_path}\")\n",
    "    \n",
    "    # 7. Save results to CSV\n",
    "    results_df = pd.DataFrame({\n",
    "        'Model': ['KNN WELFake Stylo V1'],\n",
    "        'Baseline Accuracy': [knn_accuracy],\n",
    "        'Best Parameters': [str(best_params)],\n",
    "        'CV Score (Mean)': [np.mean(cv_scores)],\n",
    "        'CV Score (Std)': [np.std(cv_scores)],\n",
    "        'Test Accuracy': [final_results['accuracy']],\n",
    "        'Precision': [final_results['precision']],\n",
    "        'Recall': [final_results['recall']],\n",
    "        'F1 Score': [final_results['f1']]\n",
    "    })\n",
    "    \n",
    "    print(results_df)\n",
    "    print(f\"Iteration #{iteration_num} complete!\")\n",
    "    return best_model, final_results\n",
    "\n",
    "if __name__ == \"__main__\":\n",
    "    main()"
   ]
  },
  {
   "cell_type": "code",
   "execution_count": null,
   "id": "a33faee4",
   "metadata": {},
   "outputs": [],
   "source": [
    "def main():\n",
    "\n",
    "    print(\"Starting KNN classification with stylometric features...\")\n",
    "\n",
    "    iteration_num = 2\n",
    "\n",
    "    # 1. Load and prepare data\n",
    "    X_train, Y_train, X_test, Y_test= load_and_prepare_data(iteration_num)\n",
    "    \n",
    "    # 2. Training KNN Model\n",
    "    model, knn_accuracy, knn_loss = knn_model(X_train, Y_train, X_test, Y_test)\n",
    "    \n",
    "    # 3. Hyperparameter tuning\n",
    "    best_model, best_params, best_cv_score = hyperparameter_tuning(X_train, Y_train)\n",
    "    \n",
    "    # 4. K-fold cross-validation\n",
    "    cv_scores = k_fold_cross_validation(best_model, X_train, Y_train)\n",
    "    \n",
    "    # 5. Final evaluation\n",
    "    final_results = evaluate_model(best_model, X_test, Y_test)\n",
    "    \n",
    "    # 6. Save the best model\n",
    "    model_path = 'results/knn_model_best_weights.pkl'\n",
    "    joblib.dump(best_model, model_path)\n",
    "    print(f\"Best model saved to {model_path}\")\n",
    "    \n",
    "    # 7. Save results to CSV\n",
    "    results_df = pd.DataFrame({\n",
    "        'Model': ['KNN WELFake Stylo V1'],\n",
    "        'Baseline Accuracy': [knn_accuracy],\n",
    "        'Best Parameters': [str(best_params)],\n",
    "        'CV Score (Mean)': [np.mean(cv_scores)],\n",
    "        'CV Score (Std)': [np.std(cv_scores)],\n",
    "        'Test Accuracy': [final_results['accuracy']],\n",
    "        'Precision': [final_results['precision']],\n",
    "        'Recall': [final_results['recall']],\n",
    "        'F1 Score': [final_results['f1']]\n",
    "    })\n",
    "    \n",
    "    print(results_df)\n",
    "    print(f\"Iteration #{iteration_num} complete!\")\n",
    "    return best_model, final_results\n",
    "\n",
    "if __name__ == \"__main__\":\n",
    "    main()"
   ]
  }
 ],
 "metadata": {
  "kernelspec": {
   "display_name": "Python 3",
   "language": "python",
   "name": "python3"
  },
  "language_info": {
   "codemirror_mode": {
    "name": "ipython",
    "version": 3
   },
   "file_extension": ".py",
   "mimetype": "text/x-python",
   "name": "python",
   "nbconvert_exporter": "python",
   "pygments_lexer": "ipython3",
   "version": "3.11.4"
  }
 },
 "nbformat": 4,
 "nbformat_minor": 5
}

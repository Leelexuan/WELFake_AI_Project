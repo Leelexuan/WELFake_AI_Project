{
 "cells": [
  {
   "cell_type": "markdown",
   "metadata": {},
   "source": [
    "# Imports "
   ]
  },
  {
   "cell_type": "markdown",
   "metadata": {},
   "source": [
    "### Iteration 3: NB_multinomial with word embeddings"
   ]
  },
  {
   "cell_type": "code",
   "execution_count": null,
   "metadata": {},
   "outputs": [],
   "source": [
    "\n",
    "import numpy as np\n",
    "import pandas as pd\n",
    "from sklearn.naive_bayes import MultinomialNB\n",
    "from sklearn.metrics import accuracy_score, classification_report, confusion_matrix\n",
    "from sklearn.preprocessing import MinMaxScaler\n",
    "from sklearn.model_selection import train_test_split, GridSearchCV, cross_val_score, KFold\n",
    "from datasets import load_dataset\n",
    "import time\n",
    "from datetime import datetime\n",
    "import json\n",
    "import base64\n",
    "import struct\n",
    "import warnings\n",
    "import torch\n",
    "import os\n",
    "warnings.filterwarnings('ignore')"
   ]
  },
  {
   "cell_type": "code",
   "execution_count": null,
   "metadata": {},
   "outputs": [],
   "source": [
    "# Define device for torch\n",
    "use_cuda = True\n",
    "print(\"CUDA is available:\", torch.cuda.is_available())\n",
    "device = torch.device(\"cuda\" if (use_cuda and torch.cuda.is_available()) else \"cpu\")"
   ]
  },
  {
   "cell_type": "code",
   "execution_count": null,
   "metadata": {},
   "outputs": [],
   "source": [
    "# Global variables\n",
    "EMBEDDING_COLUMN_NAMES = [\"tfidf_embedding\",\"bow_embedding\",\"w2v_embedding\", \"roberta_embedding\"]"
   ]
  },
  {
   "cell_type": "code",
   "execution_count": null,
   "metadata": {},
   "outputs": [],
   "source": [
    "# Function to decode the custom embedding format\n",
    "def decode_embedding(encoded_str):\n",
    "    \"\"\"\n",
    "    Decode the custom embedding format to a numeric vector.\n",
    "    Example input: 'AQAAAAAAAABAAAAAAAAAAQAAAAAAAAEAAAAAAAAAAQA...'\n",
    "    \"\"\"\n",
    "    try:\n",
    "        # First try base64 decoding\n",
    "        try:\n",
    "            # Try standard base64\n",
    "            decoded = base64.b64decode(encoded_str)\n",
    "        except:\n",
    "            # If that fails, try to pad the string and decode\n",
    "            padding_needed = len(encoded_str) % 4\n",
    "            if padding_needed:\n",
    "                encoded_str += '=' * (4 - padding_needed)\n",
    "            decoded = base64.b64decode(encoded_str)\n",
    "        \n",
    "        # Try to interpret as floats (8 bytes per float)\n",
    "        if len(decoded) % 8 == 0:\n",
    "            num_floats = len(decoded) // 8\n",
    "            return np.array(struct.unpack(f'>{num_floats}d', decoded))\n",
    "        \n",
    "        # Try to interpret as floats (4 bytes per float)\n",
    "        if len(decoded) % 4 == 0:\n",
    "            num_floats = len(decoded) // 4\n",
    "            return np.array(struct.unpack(f'>{num_floats}f', decoded))\n",
    "            \n",
    "        # If the above fail, try to interpret as a sequence of bytes\n",
    "        return np.frombuffer(decoded, dtype=np.uint8)\n",
    "    \n",
    "    except Exception as e:\n",
    "        print(f\"Error decoding embedding: {e}\")\n",
    "        # As a fallback, convert each character to its ASCII value\n",
    "        return np.array([ord(c) for c in encoded_str])"
   ]
  },
  {
   "cell_type": "markdown",
   "metadata": {},
   "source": [
    "### Load Training Dataset\n",
    "\n",
    "Load the training dataset with CBOW-W2V embeddings"
   ]
  },
  {
   "cell_type": "code",
   "execution_count": null,
   "metadata": {},
   "outputs": [],
   "source": [
    "# 1. Try loading the training dataset\n",
    "print(\"\\nLoading training dataset...\")\n",
    "try:\n",
    "    train_dataset = load_dataset(\"Paulozs/WELFake_embeddings\", split=\"train\")\n",
    "    train_df = pd.DataFrame(train_dataset)\n",
    "    print(f\"Training dataset loaded successfully! Shape: {train_df.shape}\")\n",
    "    \n",
    "    # Find the column containing CBOW-W2V embeddings\n",
    "    embedding_col = None\n",
    "    for col in train_df.columns:\n",
    "        if 'bow' in col.lower() or 'w2v' in col.lower() or 'embed' in col.lower():\n",
    "            embedding_col = col\n",
    "            break\n",
    "    \n",
    "    if embedding_col:\n",
    "        print(f\"Found embedding column: {embedding_col}\")\n",
    "        # Sample an embedding to understand its format\n",
    "        sample_embedding = train_df[embedding_col].iloc[0]\n",
    "        print(f\"Sample embedding type: {type(sample_embedding)}\")\n",
    "        \n",
    "        if isinstance(sample_embedding, list):\n",
    "            print(f\"Embedding appears to be a list with {len(sample_embedding)} items\")\n",
    "            X_train = np.array(train_df[embedding_col].tolist())\n",
    "        elif isinstance(sample_embedding, str):\n",
    "            print(\"Embedding appears to be a string, will decode each embedding\")\n",
    "            X_train = np.array([decode_embedding(emb) for emb in train_df[embedding_col]])\n",
    "        else:\n",
    "            print(f\"Unknown embedding format, will try to convert: {sample_embedding[:100]}\")\n",
    "            X_train = np.array([np.array(emb) for emb in train_df[embedding_col]])\n",
    "    else:\n",
    "        print(\"No embedding column found, will use all available numeric features\")\n",
    "        # Use all numeric columns as features\n",
    "        numeric_cols = train_df.select_dtypes(include=['number']).columns.tolist()\n",
    "        # Remove label column if present\n",
    "        if 'label' in numeric_cols:\n",
    "            numeric_cols.remove('label')\n",
    "            \n",
    "        print(f\"Using {len(numeric_cols)} numeric features: {numeric_cols}\")\n",
    "        X_train = train_df[numeric_cols].values\n",
    "    \n",
    "    # Extract labels\n",
    "    y_train = np.array(train_df['label'])\n",
    "    print(f\"Prepared training features with shape {X_train.shape} and labels with shape {y_train.shape}\")\n",
    "    \n",
    "except Exception as e:\n",
    "    print(f\"Error loading training dataset: {e}\")\n",
    "    # Create synthetic data for demonstration\n",
    "    print(\"Creating synthetic data for demonstration...\")\n",
    "    n_samples = 1000\n",
    "    n_features = 50\n",
    "    X_train = np.random.rand(n_samples, n_features)\n",
    "    y_train = np.random.randint(0, 2, size=n_samples)\n",
    "    print(f\"Created synthetic data with {n_samples} samples and {n_features} features\")"
   ]
  },
  {
   "cell_type": "markdown",
   "metadata": {},
   "source": [
    "### Load test set\n",
    "Load the test with cbow-w2v dataset"
   ]
  },
  {
   "cell_type": "code",
   "execution_count": null,
   "metadata": {},
   "outputs": [],
   "source": [
    "# 2. Try loading the Test dataset\n",
    "print(\"\\nLoading Test dataset...\")\n",
    "try:\n",
    "    test_dataset = load_dataset(\"lelexuanzz/Gossipcop_Politifact_Test\", split=\"train\")\n",
    "    test_df = pd.DataFrame(test_dataset)\n",
    "    print(f\"Testing dataset loaded successfully! Shape: {test_df.shape}\")\n",
    "\n",
    "    # Find the column containing BOW embeddings\n",
    "    embedding_col = \"bow_embedding\"  # Use the specified column name\n",
    "    \n",
    "    if embedding_col in test_df.columns:\n",
    "        print(f\"Found embedding column: {embedding_col}\")\n",
    "        # Sample an embedding to understand its format\n",
    "        sample_embedding = test_df[embedding_col].iloc[0]\n",
    "        print(f\"Sample embedding type: {type(sample_embedding)}\")\n",
    "        \n",
    "        if isinstance(sample_embedding, list):\n",
    "            print(f\"Embedding appears to be a list with {len(sample_embedding)} items\")\n",
    "            X_test = np.array(test_df[embedding_col].tolist())\n",
    "        elif isinstance(sample_embedding, str):\n",
    "            print(\"Embedding appears to be a string, will decode each embedding\")\n",
    "            X_test = np.array([decode_embedding(emb) for emb in test_df[embedding_col]])\n",
    "        else:\n",
    "            print(f\"Unknown embedding format, will try to convert\")\n",
    "            X_test = np.array([np.array(emb) for emb in test_df[embedding_col]])\n",
    "    else:\n",
    "        print(f\"Specified column '{embedding_col}' not found in test dataset. Available columns:\", test_df.columns.tolist())\n",
    "        print(\"Will use all available numeric features\")\n",
    "        # Use all numeric columns as features\n",
    "        numeric_cols = test_df.select_dtypes(include=['number']).columns.tolist()\n",
    "        # Remove label column if present\n",
    "        if 'label' in numeric_cols:\n",
    "            numeric_cols.remove('label')\n",
    "            \n",
    "        print(f\"Using {len(numeric_cols)} numeric features: {numeric_cols}\")\n",
    "        X_test = test_df[numeric_cols].values\n",
    "    \n",
    "    # Extract labels\n",
    "    y_test = np.array(test_df['label'])\n",
    "    print(f\"Prepared testing features with shape {X_test.shape} and labels with shape {y_test.shape}\")\n",
    "    \n",
    "except Exception as e:\n",
    "    print(f\"Error loading testing dataset: {e}\")\n",
    "    # If we couldn't load the test dataset, create a train/test split from training data\n",
    "    print(\"Creating train/test split from training data...\")\n",
    "    X_train, X_test, y_train, y_test = train_test_split(X_train, y_train, test_size=0.2, random_state=42)\n",
    "    print(f\"Split created with shapes: X_train {X_train.shape}, X_test {X_test.shape}\")"
   ]
  },
  {
   "cell_type": "markdown",
   "metadata": {},
   "source": [
    "NB multinomial needs numeric, remove non numerics"
   ]
  },
  {
   "cell_type": "code",
   "execution_count": null,
   "metadata": {},
   "outputs": [],
   "source": [
    "# If dimensions don't match, we need to handle it\n",
    "if X_train.shape[1] != X_test.shape[1]:\n",
    "    print(f\"WARNING: Feature dimensions don't match! Training: {X_train.shape[1]}, Testing: {X_test.shape[1]}\")\n",
    "    \n",
    "    # Option 1: Create a new train/test split from the training data\n",
    "    print(\"Creating new train/test split from training data due to dimension mismatch...\")\n",
    "    X_train, X_test, y_train, y_test = train_test_split(X_train, y_train, test_size=0.2, random_state=42)\n",
    "    print(f\"New split created with shapes: X_train {X_train.shape}, X_test {X_test.shape}\")"
   ]
  },
  {
   "cell_type": "markdown",
   "metadata": {},
   "source": [
    "## Scale the features"
   ]
  },
  {
   "cell_type": "code",
   "execution_count": null,
   "metadata": {},
   "outputs": [],
   "source": [
    "print(\"\\nScaling features...\")\n",
    "scaler = MinMaxScaler()\n",
    "X_train_scaled = scaler.fit_transform(X_train)\n",
    "\n",
    "X_test_scaled = scaler.transform(X_test)\n",
    "print(\"Features scaled successfully\")\n",
    "# remove Nan values from the dataset\n",
    "X_train_scaled = np.nan_to_num(X_train_scaled, nan=0.0)\n",
    "X_test_scaled = np.nan_to_num(X_test_scaled, nan=0.0)"
   ]
  },
  {
   "cell_type": "markdown",
   "metadata": {},
   "source": [
    "## Hyper Parameter Optimization"
   ]
  },
  {
   "cell_type": "code",
   "execution_count": null,
   "metadata": {},
   "outputs": [],
   "source": [
    "print(\"\\nPerforming hyperparameter optimization...\")\n",
    "param_grid = {'alpha': [0.001, 0.01, 0.1, 0.5, 1.0, 2.0, 5.0, 10.0]}\n",
    "grid_search = GridSearchCV(MultinomialNB(), param_grid, cv=5, scoring='accuracy')\n",
    "\n",
    "print(\"Fitting grid search...\")\n",
    "grid_search.fit(X_train_scaled, y_train)\n",
    "\n",
    "best_alpha = grid_search.best_params_['alpha']\n",
    "best_score = grid_search.best_score_\n",
    "print(f\"Best alpha parameter: {best_alpha}\")\n",
    "print(f\"Best cross-validation score: {best_score:.4f}\")"
   ]
  },
  {
   "cell_type": "markdown",
   "metadata": {},
   "source": [
    "## K-fold cross validation\n",
    "Use the best parameter"
   ]
  },
  {
   "cell_type": "code",
   "execution_count": null,
   "metadata": {},
   "outputs": [],
   "source": [
    "print(\"\\nPerforming k-fold cross-validation with best alpha...\")\n",
    "k_folds = 5\n",
    "kf = KFold(n_splits=k_folds, shuffle=True, random_state=42)\n",
    "nb_cv = MultinomialNB(alpha=best_alpha)\n",
    "cv_scores = cross_val_score(nb_cv, X_train_scaled, y_train, cv=kf, scoring='accuracy')\n",
    "print(f\"CV Accuracy: {cv_scores.mean():.4f} ± {cv_scores.std():.4f}\")\n",
    "print(f\"Individual fold scores: {cv_scores}\")"
   ]
  },
  {
   "cell_type": "markdown",
   "metadata": {},
   "source": [
    "## Train final model with best parameters"
   ]
  },
  {
   "cell_type": "code",
   "execution_count": null,
   "metadata": {},
   "outputs": [],
   "source": [
    "print(\"\\nTraining the final model...\")\n",
    "nb_final = MultinomialNB(alpha=best_alpha)\n",
    "nb_final.fit(X_train_scaled, y_train)\n",
    "print(\"Model training complete\")"
   ]
  },
  {
   "cell_type": "markdown",
   "metadata": {},
   "source": [
    "## Evaluate on test set"
   ]
  },
  {
   "cell_type": "code",
   "execution_count": null,
   "metadata": {},
   "outputs": [],
   "source": [
    "print(\"\\nEvaluating model performance on test set...\")\n",
    "y_pred = nb_final.predict(X_test_scaled)\n",
    "\n",
    "accuracy = accuracy_score(y_test, y_pred)\n",
    "conf_matrix = confusion_matrix(y_test, y_pred)\n",
    "class_report = classification_report(y_test, y_pred)\n",
    "class_report_dict = classification_report(y_test, y_pred, output_dict=True)\n",
    "\n",
    "print(f\"Test Accuracy: {accuracy:.4f}\")\n",
    "print(f\"Confusion Matrix:\\n{conf_matrix}\")\n",
    "print(\"Classification Report:\")\n",
    "print(class_report)"
   ]
  },
  {
   "cell_type": "markdown",
   "metadata": {},
   "source": [
    "## Feature importance analysis"
   ]
  },
  {
   "cell_type": "code",
   "execution_count": null,
   "metadata": {},
   "outputs": [],
   "source": [
    "# Print detailed classification report\n",
    "print(\"\\nClassification Report:\")\n",
    "print(classification_report(y_test, y_pred))"
   ]
  },
  {
   "cell_type": "code",
   "execution_count": null,
   "metadata": {},
   "outputs": [],
   "source": [
    "print(\"\\nAnalyzing feature importance...\")\n",
    "try:\n",
    "    feature_importance = nb_final.feature_log_prob_[1] - nb_final.feature_log_prob_[0]\n",
    "    top_features_idx = np.argsort(feature_importance)[-10:]  # Get indices of top 10 most important features\n",
    "    \n",
    "    print(\"Top 10 most important features (by difference in log probability):\")\n",
    "    for i, idx in enumerate(top_features_idx[::-1], 1):\n",
    "        print(f\"{i}. Feature {idx}: {feature_importance[idx]:.4f}\")\n",
    "except Exception as e:\n",
    "    print(f\"Could not analyze feature importance: {e}\")\n",
    "\n",
    "# 9. Save results\n",
    "print(\"\\nSaving results...\")\n",
    "results = {\n",
    "    \"model_name\": \"MultinomialNB with CBOW-W2V (custom encoding)\",\n",
    "    \"timestamp\": datetime.now().strftime(\"%Y-%m-%d %H:%M:%S\"),\n",
    "    \"best_alpha\": float(best_alpha),\n",
    "    \"best_cv_score\": float(best_score),\n",
    "    \"k_fold_cv_scores\": {\n",
    "        \"mean\": float(cv_scores.mean()),\n",
    "        \"std\": float(cv_scores.std()),\n",
    "        \"individual_folds\": cv_scores.tolist()\n",
    "    },\n",
    "    \"test_metrics\": {\n",
    "        \"accuracy\": float(accuracy),\n",
    "        \"confusion_matrix\": conf_matrix.tolist(),\n",
    "        \"classification_report\": class_report_dict\n",
    "    },\n",
    "}\n",
    "# Ensure the results directory exists\n",
    "if not os.path.exists('model_results'):\n",
    "    os.makedirs('model_results')\n",
    "    \n",
    "results_filename = f\"model_results/nb_multinomial_cbow_w2v_results_{datetime.now().strftime('%Y%m%d_%H%M%S')}.json\"\n",
    "try:\n",
    "    with open(results_filename, 'w') as f:\n",
    "        json.dump(results, f, indent=4)\n",
    "    print(f\"Results saved to {results_filename}\")\n",
    "except Exception as e:\n",
    "    print(f\"Could not save results to file: {e}\")\n",
    "\n",
    "print(\"\\nImplementation complete!\")"
   ]
  }
 ],
 "metadata": {
  "kernelspec": {
   "display_name": ".venv",
   "language": "python",
   "name": "python3"
  },
  "language_info": {
   "codemirror_mode": {
    "name": "ipython",
    "version": 3
   },
   "file_extension": ".py",
   "mimetype": "text/x-python",
   "name": "python",
   "nbconvert_exporter": "python",
   "pygments_lexer": "ipython3",
   "version": "3.10.11"
  }
 },
 "nbformat": 4,
 "nbformat_minor": 2
}

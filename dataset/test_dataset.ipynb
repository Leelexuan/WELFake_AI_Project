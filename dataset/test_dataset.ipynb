{
 "cells": [
  {
   "cell_type": "code",
   "execution_count": 1,
   "id": "7e27bd08",
   "metadata": {},
   "outputs": [],
   "source": [
    "from __future__ import print_function\n",
    "import matplotlib.pyplot as plt\n",
    "from torch.utils.data import DataLoader\n",
    "import torch\n",
    "import warnings\n",
    "warnings.filterwarnings('ignore')"
   ]
  },
  {
   "cell_type": "code",
   "execution_count": 2,
   "id": "f923a526",
   "metadata": {},
   "outputs": [
    {
     "name": "stdout",
     "output_type": "stream",
     "text": [
      "CUDA is available: True\n"
     ]
    }
   ],
   "source": [
    "# Define device for torch\n",
    "use_cuda = True\n",
    "print(\"CUDA is available:\", torch.cuda.is_available())\n",
    "device = torch.device(\"cuda\" if (use_cuda and torch.cuda.is_available()) else \"cpu\")"
   ]
  },
  {
   "cell_type": "code",
   "execution_count": 4,
   "id": "9d0a4a88",
   "metadata": {},
   "outputs": [
    {
     "name": "stdout",
     "output_type": "stream",
     "text": [
      "DatasetDict({\n",
      "    train: Dataset({\n",
      "        features: ['text', 'label', 'bert_embeddings', 'roberta_embeddings'],\n",
      "        num_rows: 9988\n",
      "    })\n",
      "    test: Dataset({\n",
      "        features: ['text', 'label', 'bert_embeddings', 'roberta_embeddings'],\n",
      "        num_rows: 2672\n",
      "    })\n",
      "})\n"
     ]
    }
   ],
   "source": [
    "from datasets import load_dataset\n",
    "\n",
    "gossipcop_dataset = load_dataset(\"LittleFish-Coder/Fake_News_GossipCop\")\n",
    "print(gossipcop_dataset)"
   ]
  },
  {
   "cell_type": "code",
   "execution_count": 5,
   "id": "f9cab877",
   "metadata": {},
   "outputs": [
    {
     "name": "stderr",
     "output_type": "stream",
     "text": [
      "Generating train split: 100%|██████████| 17090/17090 [00:01<00:00, 11404.46 examples/s]\n",
      "Generating test split: 100%|██████████| 4228/4228 [00:00<00:00, 11680.08 examples/s]"
     ]
    },
    {
     "name": "stdout",
     "output_type": "stream",
     "text": [
      "DatasetDict({\n",
      "    train: Dataset({\n",
      "        features: ['Unnamed: 0', 'news', 'label'],\n",
      "        num_rows: 17090\n",
      "    })\n",
      "    test: Dataset({\n",
      "        features: ['Unnamed: 0', 'news', 'label'],\n",
      "        num_rows: 4228\n",
      "    })\n",
      "})\n"
     ]
    },
    {
     "name": "stderr",
     "output_type": "stream",
     "text": [
      "\n"
     ]
    }
   ],
   "source": [
    "politifact_dataset = load_dataset(\"Cartinoe5930/Politifact_fake_news\")\n",
    "print(politifact_dataset)"
   ]
  },
  {
   "cell_type": "code",
   "execution_count": 8,
   "id": "4d074645",
   "metadata": {},
   "outputs": [
    {
     "name": "stdout",
     "output_type": "stream",
     "text": [
      "                                                   text  label\n",
      "0     JR Smith's Daughter Released from NICU After B...      0\n",
      "1     Sofia Richie Has a Scott Disick Phone Case and...      0\n",
      "2     Everything We Know About Brad Pitt’s Plane Inc...      1\n",
      "3     Kate Middleton Secretly Donated Her 7 Inches o...      0\n",
      "4     General Gabbery: DWTS Or sign in with one of t...      0\n",
      "...                                                 ...    ...\n",
      "2667  Wedding Album: Dancing with the Stars Pro Lind...      0\n",
      "2668  WATCH: Sneak Peek: Arizona's Furious Alex Atta...      0\n",
      "2669  Mary Kay Letourneau 'Hopeful' She Can Fix Marr...      0\n",
      "2670  Charlize Theron still upset Aeon Flux didn’t w...      0\n",
      "2671  Debbie Gibson Says ‘DWTS’ Was a Healing Experi...      0\n",
      "\n",
      "[2672 rows x 2 columns]                                                    news  label\n",
      "0     The media reported on “5 TikTok dances you can...      0\n",
      "1     \"Over 240,000 'unverified' ballots have alread...      0\n",
      "2     Says \"Ron Johnson is making excuses for rioter...      1\n",
      "3     “We have seen over the last 10 years ... under...      0\n",
      "4     “I don’t get involved in the hiring and firing...      0\n",
      "...                                                 ...    ...\n",
      "4223  Obama says McCain went to Bermuda and \"pledged...      1\n",
      "4224  Sarah Palin endorsed a Wasilla policy that cha...      1\n",
      "4225  Barack Obama got more campaign contributions f...      1\n",
      "4226  \"I said two years ago that the Fannie and Fred...      0\n",
      "4227  Education Week says Obama 'hasn't made a signi...      0\n",
      "\n",
      "[4228 rows x 2 columns]\n"
     ]
    }
   ],
   "source": [
    "from datasets import Dataset\n",
    "import pandas as pd\n",
    "\n",
    "\n",
    "# Convert to pandas\n",
    "gc = gossipcop_dataset[\"test\"].to_pandas()\n",
    "pf = politifact_dataset[\"test\"].to_pandas()\n",
    "\n",
    "# Drop columns\n",
    "gc = gc.drop(columns=[\"bert_embeddings\", \"roberta_embeddings\"], axis=1)\n",
    "pf = pf.drop(columns=[\"Unnamed: 0\"], axis=1)\n",
    "\n",
    "print(gc, pf)"
   ]
  },
  {
   "cell_type": "code",
   "execution_count": 9,
   "id": "d9676629",
   "metadata": {},
   "outputs": [
    {
     "name": "stdout",
     "output_type": "stream",
     "text": [
      "Dataset({\n",
      "    features: ['text', 'label'],\n",
      "    num_rows: 6900\n",
      "})\n"
     ]
    }
   ],
   "source": [
    "pf = pf.rename(columns={\"news\": \"text\"})\n",
    "\n",
    "combined_df = pd.concat([pf, gc], ignore_index=True)\n",
    "\n",
    "\n",
    "combined_dataset = Dataset.from_pandas(combined_df)\n",
    "print(combined_dataset)\n",
    "\n"
   ]
  },
  {
   "cell_type": "code",
   "execution_count": 10,
   "id": "5b0dee5b",
   "metadata": {},
   "outputs": [
    {
     "name": "stderr",
     "output_type": "stream",
     "text": [
      "Creating parquet from Arrow format: 100%|██████████| 7/7 [00:00<00:00, 43.32ba/s]\n",
      "Uploading the dataset shards: 100%|██████████| 1/1 [00:04<00:00,  4.17s/it]\n"
     ]
    },
    {
     "data": {
      "text/plain": [
       "CommitInfo(commit_url='https://huggingface.co/datasets/lelexuanzz/Gossipcop_Politifact_Test/commit/4970f0dc1979c91d355d33d8973b927bb811612d', commit_message='Upload dataset', commit_description='', oid='4970f0dc1979c91d355d33d8973b927bb811612d', pr_url=None, repo_url=RepoUrl('https://huggingface.co/datasets/lelexuanzz/Gossipcop_Politifact_Test', endpoint='https://huggingface.co', repo_type='dataset', repo_id='lelexuanzz/Gossipcop_Politifact_Test'), pr_revision=None, pr_num=None)"
      ]
     },
     "execution_count": 10,
     "metadata": {},
     "output_type": "execute_result"
    }
   ],
   "source": [
    "# Push to hub\n",
    "combined_dataset.push_to_hub(\"lelexuanzz/Gossipcop_Politifact_Test\")"
   ]
  },
  {
   "cell_type": "code",
   "execution_count": null,
   "id": "0594acb6",
   "metadata": {},
   "outputs": [],
   "source": []
  }
 ],
 "metadata": {
  "kernelspec": {
   "display_name": "ComputerVision2",
   "language": "python",
   "name": "python3"
  },
  "language_info": {
   "codemirror_mode": {
    "name": "ipython",
    "version": 3
   },
   "file_extension": ".py",
   "mimetype": "text/x-python",
   "name": "python",
   "nbconvert_exporter": "python",
   "pygments_lexer": "ipython3",
   "version": "3.12.3"
  }
 },
 "nbformat": 4,
 "nbformat_minor": 5
}

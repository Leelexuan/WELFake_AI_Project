{
 "cells": [
  {
   "cell_type": "code",
   "execution_count": 1,
   "id": "7e27bd08",
   "metadata": {},
   "outputs": [],
   "source": [
    "from __future__ import print_function\n",
    "import matplotlib.pyplot as plt\n",
    "from torch.utils.data import DataLoader\n",
    "import torch\n",
    "import warnings\n",
    "warnings.filterwarnings('ignore')"
   ]
  },
  {
   "cell_type": "code",
   "execution_count": 2,
   "id": "f923a526",
   "metadata": {},
   "outputs": [
    {
     "name": "stdout",
     "output_type": "stream",
     "text": [
      "CUDA is available: True\n"
     ]
    }
   ],
   "source": [
    "# Define device for torch\n",
    "use_cuda = True\n",
    "print(\"CUDA is available:\", torch.cuda.is_available())\n",
    "device = torch.device(\"cuda\" if (use_cuda and torch.cuda.is_available()) else \"cpu\")"
   ]
  },
  {
   "cell_type": "code",
   "execution_count": 3,
   "id": "9d0a4a88",
   "metadata": {},
   "outputs": [
    {
     "name": "stdout",
     "output_type": "stream",
     "text": [
      "DatasetDict({\n",
      "    train: Dataset({\n",
      "        features: ['text', 'label'],\n",
      "        num_rows: 6900\n",
      "    })\n",
      "})\n"
     ]
    }
   ],
   "source": [
    "from datasets import load_dataset\n",
    "\n",
    "test_dataset = load_dataset(\"lelexuanzz/Gossipcop_Politifact_Test\")\n",
    "print(test_dataset)"
   ]
  },
  {
   "cell_type": "code",
   "execution_count": 4,
   "id": "f9cab877",
   "metadata": {},
   "outputs": [
    {
     "data": {
      "text/html": [
       "<div>\n",
       "<style scoped>\n",
       "    .dataframe tbody tr th:only-of-type {\n",
       "        vertical-align: middle;\n",
       "    }\n",
       "\n",
       "    .dataframe tbody tr th {\n",
       "        vertical-align: top;\n",
       "    }\n",
       "\n",
       "    .dataframe thead th {\n",
       "        text-align: right;\n",
       "    }\n",
       "</style>\n",
       "<table border=\"1\" class=\"dataframe\">\n",
       "  <thead>\n",
       "    <tr style=\"text-align: right;\">\n",
       "      <th></th>\n",
       "      <th>text</th>\n",
       "      <th>label</th>\n",
       "    </tr>\n",
       "  </thead>\n",
       "  <tbody>\n",
       "    <tr>\n",
       "      <th>0</th>\n",
       "      <td>The media reported on “5 TikTok dances you can...</td>\n",
       "      <td>0</td>\n",
       "    </tr>\n",
       "    <tr>\n",
       "      <th>1</th>\n",
       "      <td>\"Over 240,000 'unverified' ballots have alread...</td>\n",
       "      <td>0</td>\n",
       "    </tr>\n",
       "    <tr>\n",
       "      <th>2</th>\n",
       "      <td>Says \"Ron Johnson is making excuses for rioter...</td>\n",
       "      <td>1</td>\n",
       "    </tr>\n",
       "    <tr>\n",
       "      <th>3</th>\n",
       "      <td>“We have seen over the last 10 years ... under...</td>\n",
       "      <td>0</td>\n",
       "    </tr>\n",
       "    <tr>\n",
       "      <th>4</th>\n",
       "      <td>“I don’t get involved in the hiring and firing...</td>\n",
       "      <td>0</td>\n",
       "    </tr>\n",
       "    <tr>\n",
       "      <th>...</th>\n",
       "      <td>...</td>\n",
       "      <td>...</td>\n",
       "    </tr>\n",
       "    <tr>\n",
       "      <th>6895</th>\n",
       "      <td>Wedding Album: Dancing with the Stars Pro Lind...</td>\n",
       "      <td>0</td>\n",
       "    </tr>\n",
       "    <tr>\n",
       "      <th>6896</th>\n",
       "      <td>WATCH: Sneak Peek: Arizona's Furious Alex Atta...</td>\n",
       "      <td>0</td>\n",
       "    </tr>\n",
       "    <tr>\n",
       "      <th>6897</th>\n",
       "      <td>Mary Kay Letourneau 'Hopeful' She Can Fix Marr...</td>\n",
       "      <td>0</td>\n",
       "    </tr>\n",
       "    <tr>\n",
       "      <th>6898</th>\n",
       "      <td>Charlize Theron still upset Aeon Flux didn’t w...</td>\n",
       "      <td>0</td>\n",
       "    </tr>\n",
       "    <tr>\n",
       "      <th>6899</th>\n",
       "      <td>Debbie Gibson Says ‘DWTS’ Was a Healing Experi...</td>\n",
       "      <td>0</td>\n",
       "    </tr>\n",
       "  </tbody>\n",
       "</table>\n",
       "<p>6900 rows × 2 columns</p>\n",
       "</div>"
      ],
      "text/plain": [
       "                                                   text  label\n",
       "0     The media reported on “5 TikTok dances you can...      0\n",
       "1     \"Over 240,000 'unverified' ballots have alread...      0\n",
       "2     Says \"Ron Johnson is making excuses for rioter...      1\n",
       "3     “We have seen over the last 10 years ... under...      0\n",
       "4     “I don’t get involved in the hiring and firing...      0\n",
       "...                                                 ...    ...\n",
       "6895  Wedding Album: Dancing with the Stars Pro Lind...      0\n",
       "6896  WATCH: Sneak Peek: Arizona's Furious Alex Atta...      0\n",
       "6897  Mary Kay Letourneau 'Hopeful' She Can Fix Marr...      0\n",
       "6898  Charlize Theron still upset Aeon Flux didn’t w...      0\n",
       "6899  Debbie Gibson Says ‘DWTS’ Was a Healing Experi...      0\n",
       "\n",
       "[6900 rows x 2 columns]"
      ]
     },
     "metadata": {},
     "output_type": "display_data"
    }
   ],
   "source": [
    "test_df = test_dataset[\"train\"].to_pandas()\n",
    "display(test_df)"
   ]
  },
  {
   "cell_type": "markdown",
   "id": "855607fb",
   "metadata": {},
   "source": [
    "### Clean Dataset"
   ]
  },
  {
   "cell_type": "code",
   "execution_count": 5,
   "id": "4d074645",
   "metadata": {},
   "outputs": [
    {
     "data": {
      "text/html": [
       "<div>\n",
       "<style scoped>\n",
       "    .dataframe tbody tr th:only-of-type {\n",
       "        vertical-align: middle;\n",
       "    }\n",
       "\n",
       "    .dataframe tbody tr th {\n",
       "        vertical-align: top;\n",
       "    }\n",
       "\n",
       "    .dataframe thead th {\n",
       "        text-align: right;\n",
       "    }\n",
       "</style>\n",
       "<table border=\"1\" class=\"dataframe\">\n",
       "  <thead>\n",
       "    <tr style=\"text-align: right;\">\n",
       "      <th></th>\n",
       "      <th>text</th>\n",
       "      <th>label</th>\n",
       "    </tr>\n",
       "  </thead>\n",
       "  <tbody>\n",
       "    <tr>\n",
       "      <th>0</th>\n",
       "      <td>The media reported on “5 TikTok dances you can...</td>\n",
       "      <td>0</td>\n",
       "    </tr>\n",
       "    <tr>\n",
       "      <th>1</th>\n",
       "      <td>\"Over 240,000 'unverified' ballots have alread...</td>\n",
       "      <td>0</td>\n",
       "    </tr>\n",
       "    <tr>\n",
       "      <th>2</th>\n",
       "      <td>Says \"Ron Johnson is making excuses for rioter...</td>\n",
       "      <td>1</td>\n",
       "    </tr>\n",
       "    <tr>\n",
       "      <th>3</th>\n",
       "      <td>“We have seen over the last 10 years ... under...</td>\n",
       "      <td>0</td>\n",
       "    </tr>\n",
       "    <tr>\n",
       "      <th>4</th>\n",
       "      <td>“I don’t get involved in the hiring and firing...</td>\n",
       "      <td>0</td>\n",
       "    </tr>\n",
       "    <tr>\n",
       "      <th>...</th>\n",
       "      <td>...</td>\n",
       "      <td>...</td>\n",
       "    </tr>\n",
       "    <tr>\n",
       "      <th>6895</th>\n",
       "      <td>Wedding Album: Dancing with the Stars Pro Lind...</td>\n",
       "      <td>0</td>\n",
       "    </tr>\n",
       "    <tr>\n",
       "      <th>6896</th>\n",
       "      <td>WATCH: Sneak Peek: Arizona's Furious Alex Atta...</td>\n",
       "      <td>0</td>\n",
       "    </tr>\n",
       "    <tr>\n",
       "      <th>6897</th>\n",
       "      <td>Mary Kay Letourneau 'Hopeful' She Can Fix Marr...</td>\n",
       "      <td>0</td>\n",
       "    </tr>\n",
       "    <tr>\n",
       "      <th>6898</th>\n",
       "      <td>Charlize Theron still upset Aeon Flux didn’t w...</td>\n",
       "      <td>0</td>\n",
       "    </tr>\n",
       "    <tr>\n",
       "      <th>6899</th>\n",
       "      <td>Debbie Gibson Says ‘DWTS’ Was a Healing Experi...</td>\n",
       "      <td>0</td>\n",
       "    </tr>\n",
       "  </tbody>\n",
       "</table>\n",
       "<p>6900 rows × 2 columns</p>\n",
       "</div>"
      ],
      "text/plain": [
       "                                                   text  label\n",
       "0     The media reported on “5 TikTok dances you can...      0\n",
       "1     \"Over 240,000 'unverified' ballots have alread...      0\n",
       "2     Says \"Ron Johnson is making excuses for rioter...      1\n",
       "3     “We have seen over the last 10 years ... under...      0\n",
       "4     “I don’t get involved in the hiring and firing...      0\n",
       "...                                                 ...    ...\n",
       "6895  Wedding Album: Dancing with the Stars Pro Lind...      0\n",
       "6896  WATCH: Sneak Peek: Arizona's Furious Alex Atta...      0\n",
       "6897  Mary Kay Letourneau 'Hopeful' She Can Fix Marr...      0\n",
       "6898  Charlize Theron still upset Aeon Flux didn’t w...      0\n",
       "6899  Debbie Gibson Says ‘DWTS’ Was a Healing Experi...      0\n",
       "\n",
       "[6900 rows x 2 columns]"
      ]
     },
     "metadata": {},
     "output_type": "display_data"
    }
   ],
   "source": [
    "#drop nulls\n",
    "test_df.dropna(axis=0, inplace=True)\n",
    "#drop duplicates\n",
    "test_df.drop_duplicates(inplace=True)\n",
    "display(test_df)"
   ]
  },
  {
   "cell_type": "markdown",
   "id": "810185e2",
   "metadata": {},
   "source": [
    "### Convert to stylo features"
   ]
  },
  {
   "cell_type": "code",
   "execution_count": 6,
   "id": "d9676629",
   "metadata": {},
   "outputs": [
    {
     "name": "stdout",
     "output_type": "stream",
     "text": [
      "0\n"
     ]
    }
   ],
   "source": [
    "import sys\n",
    "import os\n",
    "sys.path.append(os.path.abspath(\"../feat_eng\"))\n",
    "\n",
    "from feat_eng import has_quotes, has_url, percent_uppercase, frequency_punctuation, percent_whitespace, frequency_words_length, avg_sentence_length\n",
    "\n",
    "\n",
    "\n",
    "def extract_stylometric_features(example):\n",
    "    text = example['text']\n",
    "    \n",
    "    if text == None:\n",
    "        return{\n",
    "            \"label\": example.get(\"label\"),\n",
    "            \"has_quotes\": 0,\n",
    "            \"has_url\": 0,\n",
    "            \"percent_uppercase\": 0.0,\n",
    "            \"frequency_punctuation\": 0,\n",
    "            \"percent_whitespace\": 0.0,\n",
    "            \"frequency_words_length_15\": 0,\n",
    "            \"frequency_words_length_14\": 0,\n",
    "            \"frequency_words_length_12\": 0,\n",
    "            \"frequency_words_length_11\": 0,\n",
    "            \"avg_sentence_length\": 0.0\n",
    "        }\n",
    "    \n",
    "    return {\n",
    "        \"label\": example.get(\"label\"),\n",
    "        \"has_quotes\" : has_quotes(text),\n",
    "        \"has_url\": has_url(text),\n",
    "        \"percent_uppercase\": percent_uppercase(text),\n",
    "        \"frequency_punctuation\": frequency_punctuation(text),\n",
    "        \"percent_whitespace\": percent_whitespace(text),\n",
    "        \"frequency_words_length_15\": frequency_words_length(text, 15),\n",
    "        \"frequency_words_length_14\": frequency_words_length(text, 14),\n",
    "        \"frequency_words_length_12\": frequency_words_length(text, 12),\n",
    "        \"frequency_words_length_11\": frequency_words_length(text, 11),\n",
    "        \"avg_sentence_length\": avg_sentence_length(text)  \n",
    "    }"
   ]
  },
  {
   "cell_type": "code",
   "execution_count": 7,
   "id": "dea3009b",
   "metadata": {},
   "outputs": [
    {
     "name": "stderr",
     "output_type": "stream",
     "text": [
      "Map: 100%|██████████| 6900/6900 [00:07<00:00, 927.37 examples/s] "
     ]
    },
    {
     "name": "stdout",
     "output_type": "stream",
     "text": [
      "Dataset({\n",
      "    features: ['text', 'label', 'has_quotes', 'has_url', 'percent_uppercase', 'frequency_punctuation', 'percent_whitespace', 'frequency_words_length_15', 'frequency_words_length_14', 'frequency_words_length_12', 'frequency_words_length_11', 'avg_sentence_length'],\n",
      "    num_rows: 6900\n",
      "})\n"
     ]
    },
    {
     "name": "stderr",
     "output_type": "stream",
     "text": [
      "\n"
     ]
    }
   ],
   "source": [
    "from datasets import Dataset\n",
    "#change dataset back to huggingface form\n",
    "\n",
    "\n",
    "test_dataset = Dataset.from_pandas(test_df)\n",
    "stylo_test = test_dataset.map(extract_stylometric_features)\n",
    "\n",
    "# stylo_test = stylo_test.remove_columns(['title', 'roberta_embedding', 'bow_embedding', 'tfidf_embedding', 'w2v_embedding'])\n",
    "print(stylo_test)\n"
   ]
  },
  {
   "cell_type": "code",
   "execution_count": 8,
   "id": "5b0dee5b",
   "metadata": {},
   "outputs": [],
   "source": [
    "# # Push to hub\n",
    "# stylo_test.push_to_hub(\"lelexuanzz/Gossipcop_Politifact_Test_Stylo\")"
   ]
  },
  {
   "cell_type": "markdown",
   "id": "2edff1e5",
   "metadata": {},
   "source": [
    "## Vector Embeddings\n"
   ]
  },
  {
   "cell_type": "markdown",
   "id": "1560afe5",
   "metadata": {},
   "source": [
    "### Roberta"
   ]
  },
  {
   "cell_type": "markdown",
   "id": "09db936a",
   "metadata": {},
   "source": [
    "### CBOW-W2V"
   ]
  },
  {
   "cell_type": "code",
   "execution_count": 18,
   "id": "d85c3958",
   "metadata": {},
   "outputs": [],
   "source": [
    "from gensim.models import Word2Vec"
   ]
  },
  {
   "cell_type": "markdown",
   "id": "58c16f0e",
   "metadata": {},
   "source": [
    "### BOW-TFIDF "
   ]
  },
  {
   "cell_type": "code",
   "execution_count": null,
   "id": "0594acb6",
   "metadata": {},
   "outputs": [
    {
     "name": "stdout",
     "output_type": "stream",
     "text": [
      "(6900, 1169)\n"
     ]
    }
   ],
   "source": [
    "#Tfidf\n",
    "from sklearn.feature_extraction.text import TfidfVectorizer\n",
    "import pandas as pd\n",
    "\n",
    "tfidf_vectorizer = TfidfVectorizer(min_df=0.05, max_df=0.95, stop_words='english', ngram_range=(1,3))\n",
    "tfidf_embeddings = tfidf_vectorizer.fit_transform(test_df[\"text\"])\n",
    "print(tfidf_embeddings.shape)\n"
   ]
  },
  {
   "cell_type": "code",
   "execution_count": 10,
   "id": "c79b221e",
   "metadata": {},
   "outputs": [
    {
     "name": "stdout",
     "output_type": "stream",
     "text": [
      "<Compressed Sparse Row sparse matrix of dtype 'float64'\n",
      "\twith 930212 stored elements and shape (6900, 1169)>\n",
      "  Coords\tValues\n",
      "  (0, 651)\t0.17095999921182603\n",
      "  (0, 898)\t0.08547999960591302\n",
      "  (0, 488)\t0.18282260236668418\n",
      "  (0, 410)\t0.25094353635864913\n",
      "  (0, 987)\t0.08752737992315925\n",
      "  (0, 481)\t0.12926393340734607\n",
      "  (0, 884)\t0.09363649008840541\n",
      "  (0, 531)\t0.16655547350541117\n",
      "  (0, 930)\t0.08363177494944153\n",
      "  (0, 1093)\t0.19299719617363553\n",
      "  (0, 70)\t0.10572111171340268\n",
      "  (0, 1027)\t0.2501857363995298\n",
      "  (0, 397)\t0.047357184997965776\n",
      "  (0, 379)\t0.046229405877630685\n",
      "  (0, 196)\t0.04711218863007459\n",
      "  (0, 373)\t0.2883236599478017\n",
      "  (0, 813)\t0.0596010690357604\n",
      "  (0, 1014)\t0.04779232965612915\n",
      "  (0, 720)\t0.09775046970425214\n",
      "  (0, 43)\t0.0978286176308111\n",
      "  (0, 803)\t0.10831420774686594\n",
      "  (0, 331)\t0.0956263254821396\n",
      "  (0, 1083)\t0.0927461442930606\n",
      "  (0, 3)\t0.07012585544380184\n",
      "  (0, 1091)\t0.10640651716020913\n",
      "  :\t:\n",
      "  (6899, 930)\t0.07211581711202476\n",
      "  (6899, 1064)\t0.09382929076926043\n",
      "  (6899, 259)\t0.21210822357526615\n",
      "  (6899, 696)\t0.19807729037440963\n",
      "  (6899, 934)\t0.10303261586779623\n",
      "  (6899, 746)\t0.19555060610158467\n",
      "  (6899, 1024)\t0.21539330008668706\n",
      "  (6899, 1060)\t0.12914878760743315\n",
      "  (6899, 1111)\t0.13487754996825832\n",
      "  (6899, 626)\t0.15344994526769568\n",
      "  (6899, 673)\t0.20606663818799495\n",
      "  (6899, 133)\t0.1703701139640741\n",
      "  (6899, 747)\t0.19036433022262145\n",
      "  (6899, 941)\t0.14792206666680102\n",
      "  (6899, 258)\t0.1985966447582621\n",
      "  (6899, 1156)\t0.1861176298738051\n",
      "  (6899, 878)\t0.27877605943324074\n",
      "  (6899, 1011)\t0.17550906361282298\n",
      "  (6899, 604)\t0.1491997012233373\n",
      "  (6899, 327)\t0.17354276978168337\n",
      "  (6899, 946)\t0.22118168688278944\n",
      "  (6899, 369)\t0.426907189093387\n",
      "  (6899, 940)\t0.19099825650716565\n",
      "  (6899, 425)\t0.2107945113479032\n",
      "  (6899, 1009)\t0.21581786634308212\n"
     ]
    }
   ],
   "source": [
    "print(tfidf_embeddings)"
   ]
  },
  {
   "cell_type": "code",
   "execution_count": 11,
   "id": "d158c63e",
   "metadata": {},
   "outputs": [
    {
     "name": "stdout",
     "output_type": "stream",
     "text": [
      "(6900, 300)\n",
      "[[ 3.22305910e-01 -2.83119499e-02  5.49363491e-01 ... -2.49494207e-02\n",
      "  -1.09051313e-02 -2.97663462e-02]\n",
      " [ 3.08578306e-01  1.19417193e-01  4.53342970e-02 ... -2.91946043e-02\n",
      "  -8.61015898e-03 -2.18142578e-02]\n",
      " [ 4.23304385e-01  7.86274095e-02  5.77382921e-02 ... -1.36810837e-03\n",
      "  -1.18480601e-02  6.71044581e-03]\n",
      " ...\n",
      " [ 3.00126854e-01 -2.62906111e-01 -8.32331958e-02 ...  8.97199292e-03\n",
      "   3.00093198e-03  1.89377183e-02]\n",
      " [ 1.85983759e-01 -2.66019185e-01 -9.32809604e-02 ...  3.36721940e-02\n",
      "   1.70868644e-02 -3.90687886e-04]\n",
      " [ 1.41732095e-01 -1.63308575e-01 -6.91962397e-02 ...  7.09667882e-03\n",
      "  -1.08683746e-02  2.42624694e-02]]\n"
     ]
    }
   ],
   "source": [
    "#use truncated svd to reduce dimensions of tfidf embeddings\n",
    "#instead of PCA as tfidf embeddings are sparse\n",
    "\n",
    "from sklearn.decomposition import TruncatedSVD\n",
    "svd = TruncatedSVD(n_components=300)\n",
    "tfidf_reduced = svd.fit_transform(tfidf_embeddings)\n",
    "print(tfidf_reduced.shape)\n",
    "print(tfidf_reduced)"
   ]
  },
  {
   "cell_type": "code",
   "execution_count": 12,
   "id": "2267b5aa",
   "metadata": {},
   "outputs": [
    {
     "data": {
      "text/html": [
       "<div>\n",
       "<style scoped>\n",
       "    .dataframe tbody tr th:only-of-type {\n",
       "        vertical-align: middle;\n",
       "    }\n",
       "\n",
       "    .dataframe tbody tr th {\n",
       "        vertical-align: top;\n",
       "    }\n",
       "\n",
       "    .dataframe thead th {\n",
       "        text-align: right;\n",
       "    }\n",
       "</style>\n",
       "<table border=\"1\" class=\"dataframe\">\n",
       "  <thead>\n",
       "    <tr style=\"text-align: right;\">\n",
       "      <th></th>\n",
       "      <th>text</th>\n",
       "      <th>label</th>\n",
       "      <th>tfidf_embedding</th>\n",
       "    </tr>\n",
       "  </thead>\n",
       "  <tbody>\n",
       "    <tr>\n",
       "      <th>0</th>\n",
       "      <td>The media reported on “5 TikTok dances you can...</td>\n",
       "      <td>0</td>\n",
       "      <td>[0.32230591024075655, -0.02831194990679292, 0....</td>\n",
       "    </tr>\n",
       "    <tr>\n",
       "      <th>1</th>\n",
       "      <td>\"Over 240,000 'unverified' ballots have alread...</td>\n",
       "      <td>0</td>\n",
       "      <td>[0.3085783060828361, 0.11941719271543562, 0.04...</td>\n",
       "    </tr>\n",
       "    <tr>\n",
       "      <th>2</th>\n",
       "      <td>Says \"Ron Johnson is making excuses for rioter...</td>\n",
       "      <td>1</td>\n",
       "      <td>[0.4233043848185984, 0.0786274094923878, 0.057...</td>\n",
       "    </tr>\n",
       "    <tr>\n",
       "      <th>3</th>\n",
       "      <td>“We have seen over the last 10 years ... under...</td>\n",
       "      <td>0</td>\n",
       "      <td>[0.32351932184322646, 0.14350347899320803, -0....</td>\n",
       "    </tr>\n",
       "    <tr>\n",
       "      <th>4</th>\n",
       "      <td>“I don’t get involved in the hiring and firing...</td>\n",
       "      <td>0</td>\n",
       "      <td>[0.2171402326873496, -0.01335753132863769, 0.0...</td>\n",
       "    </tr>\n",
       "    <tr>\n",
       "      <th>...</th>\n",
       "      <td>...</td>\n",
       "      <td>...</td>\n",
       "      <td>...</td>\n",
       "    </tr>\n",
       "    <tr>\n",
       "      <th>6895</th>\n",
       "      <td>Wedding Album: Dancing with the Stars Pro Lind...</td>\n",
       "      <td>0</td>\n",
       "      <td>[0.14163919484470372, -0.18715353303969257, -0...</td>\n",
       "    </tr>\n",
       "    <tr>\n",
       "      <th>6896</th>\n",
       "      <td>WATCH: Sneak Peek: Arizona's Furious Alex Atta...</td>\n",
       "      <td>0</td>\n",
       "      <td>[0.1008928783751652, -0.15370171050340922, -0....</td>\n",
       "    </tr>\n",
       "    <tr>\n",
       "      <th>6897</th>\n",
       "      <td>Mary Kay Letourneau 'Hopeful' She Can Fix Marr...</td>\n",
       "      <td>0</td>\n",
       "      <td>[0.3001268539564991, -0.2629061111938999, -0.0...</td>\n",
       "    </tr>\n",
       "    <tr>\n",
       "      <th>6898</th>\n",
       "      <td>Charlize Theron still upset Aeon Flux didn’t w...</td>\n",
       "      <td>0</td>\n",
       "      <td>[0.18598375894520147, -0.26601918535391794, -0...</td>\n",
       "    </tr>\n",
       "    <tr>\n",
       "      <th>6899</th>\n",
       "      <td>Debbie Gibson Says ‘DWTS’ Was a Healing Experi...</td>\n",
       "      <td>0</td>\n",
       "      <td>[0.1417320945310446, -0.1633085749215571, -0.0...</td>\n",
       "    </tr>\n",
       "  </tbody>\n",
       "</table>\n",
       "<p>6900 rows × 3 columns</p>\n",
       "</div>"
      ],
      "text/plain": [
       "                                                   text  label  \\\n",
       "0     The media reported on “5 TikTok dances you can...      0   \n",
       "1     \"Over 240,000 'unverified' ballots have alread...      0   \n",
       "2     Says \"Ron Johnson is making excuses for rioter...      1   \n",
       "3     “We have seen over the last 10 years ... under...      0   \n",
       "4     “I don’t get involved in the hiring and firing...      0   \n",
       "...                                                 ...    ...   \n",
       "6895  Wedding Album: Dancing with the Stars Pro Lind...      0   \n",
       "6896  WATCH: Sneak Peek: Arizona's Furious Alex Atta...      0   \n",
       "6897  Mary Kay Letourneau 'Hopeful' She Can Fix Marr...      0   \n",
       "6898  Charlize Theron still upset Aeon Flux didn’t w...      0   \n",
       "6899  Debbie Gibson Says ‘DWTS’ Was a Healing Experi...      0   \n",
       "\n",
       "                                        tfidf_embedding  \n",
       "0     [0.32230591024075655, -0.02831194990679292, 0....  \n",
       "1     [0.3085783060828361, 0.11941719271543562, 0.04...  \n",
       "2     [0.4233043848185984, 0.0786274094923878, 0.057...  \n",
       "3     [0.32351932184322646, 0.14350347899320803, -0....  \n",
       "4     [0.2171402326873496, -0.01335753132863769, 0.0...  \n",
       "...                                                 ...  \n",
       "6895  [0.14163919484470372, -0.18715353303969257, -0...  \n",
       "6896  [0.1008928783751652, -0.15370171050340922, -0....  \n",
       "6897  [0.3001268539564991, -0.2629061111938999, -0.0...  \n",
       "6898  [0.18598375894520147, -0.26601918535391794, -0...  \n",
       "6899  [0.1417320945310446, -0.1633085749215571, -0.0...  \n",
       "\n",
       "[6900 rows x 3 columns]"
      ]
     },
     "metadata": {},
     "output_type": "display_data"
    }
   ],
   "source": [
    "# Add a new column to the DataFrame\n",
    "test_df['tfidf_embedding'] = list(tfidf_reduced)\n",
    "display(test_df)"
   ]
  },
  {
   "cell_type": "markdown",
   "id": "ca012cf9",
   "metadata": {},
   "source": [
    "### BOW"
   ]
  },
  {
   "cell_type": "code",
   "execution_count": 13,
   "id": "3232a56d",
   "metadata": {},
   "outputs": [
    {
     "name": "stdout",
     "output_type": "stream",
     "text": [
      "(6900, 1169)\n"
     ]
    }
   ],
   "source": [
    "from sklearn.feature_extraction.text import CountVectorizer\n",
    "\n",
    "bow_vectorizer = CountVectorizer(min_df=0.05, max_df=0.95, stop_words='english', ngram_range=(1,3))\n",
    "bow_embeddings = bow_vectorizer.fit_transform(test_df[\"text\"])\n",
    "print(bow_embeddings.shape)"
   ]
  },
  {
   "cell_type": "code",
   "execution_count": 14,
   "id": "99d5636e",
   "metadata": {},
   "outputs": [
    {
     "name": "stdout",
     "output_type": "stream",
     "text": [
      "<Compressed Sparse Row sparse matrix of dtype 'int64'\n",
      "\twith 930212 stored elements and shape (6900, 1169)>\n",
      "  Coords\tValues\n",
      "  (0, 651)\t2\n",
      "  (0, 898)\t1\n",
      "  (0, 488)\t2\n",
      "  (0, 410)\t2\n",
      "  (0, 987)\t1\n",
      "  (0, 481)\t1\n",
      "  (0, 884)\t1\n",
      "  (0, 531)\t3\n",
      "  (0, 930)\t2\n",
      "  (0, 1093)\t2\n",
      "  (0, 70)\t1\n",
      "  (0, 1027)\t3\n",
      "  (0, 397)\t1\n",
      "  (0, 379)\t1\n",
      "  (0, 196)\t1\n",
      "  (0, 373)\t4\n",
      "  (0, 813)\t1\n",
      "  (0, 1014)\t1\n",
      "  (0, 720)\t2\n",
      "  (0, 43)\t2\n",
      "  (0, 803)\t2\n",
      "  (0, 331)\t1\n",
      "  (0, 1083)\t1\n",
      "  (0, 3)\t1\n",
      "  (0, 1091)\t1\n",
      "  :\t:\n",
      "  (6899, 930)\t1\n",
      "  (6899, 1064)\t1\n",
      "  (6899, 259)\t1\n",
      "  (6899, 696)\t1\n",
      "  (6899, 934)\t1\n",
      "  (6899, 746)\t1\n",
      "  (6899, 1024)\t1\n",
      "  (6899, 1060)\t1\n",
      "  (6899, 1111)\t1\n",
      "  (6899, 626)\t1\n",
      "  (6899, 673)\t1\n",
      "  (6899, 133)\t1\n",
      "  (6899, 747)\t1\n",
      "  (6899, 941)\t1\n",
      "  (6899, 258)\t1\n",
      "  (6899, 1156)\t1\n",
      "  (6899, 878)\t2\n",
      "  (6899, 1011)\t1\n",
      "  (6899, 604)\t1\n",
      "  (6899, 327)\t1\n",
      "  (6899, 946)\t1\n",
      "  (6899, 369)\t2\n",
      "  (6899, 940)\t1\n",
      "  (6899, 425)\t1\n",
      "  (6899, 1009)\t1\n"
     ]
    }
   ],
   "source": [
    "print(bow_embeddings)"
   ]
  },
  {
   "cell_type": "code",
   "execution_count": 15,
   "id": "edab4dfd",
   "metadata": {},
   "outputs": [
    {
     "name": "stdout",
     "output_type": "stream",
     "text": [
      "(6900, 300)\n",
      "[[ 4.11155369e+00 -1.40911541e+00 -2.22285019e+00 ...  1.28214744e-01\n",
      "  -2.44271047e-01  9.73737607e-02]\n",
      " [ 1.53401713e+01  6.78220191e-01 -3.95217032e+00 ...  1.40646492e+00\n",
      "  -6.41935732e-01 -6.98202900e-01]\n",
      " [ 1.75795111e+01 -3.37047054e+00 -6.03270616e+00 ... -7.54941418e-01\n",
      "  -3.11743768e-01  9.72686176e-01]\n",
      " ...\n",
      " [ 5.58704272e+00 -3.01891274e+00 -6.96924621e-01 ... -5.68685979e-01\n",
      "   9.97549734e-02  4.58639672e-01]\n",
      " [ 1.83482125e+00 -2.50211370e+00  4.54292637e-01 ...  6.76543607e-01\n",
      "   3.78778377e-02 -2.05565256e-01]\n",
      " [ 1.03713558e+00 -8.87831675e-01 -9.31530777e-02 ...  3.77319279e-02\n",
      "   1.64423922e-02  2.49000805e-01]]\n"
     ]
    }
   ],
   "source": [
    "bow_reduced = svd.fit_transform(bow_embeddings)\n",
    "print(bow_reduced.shape)\n",
    "print(bow_reduced)"
   ]
  },
  {
   "cell_type": "code",
   "execution_count": 16,
   "id": "17ef20aa",
   "metadata": {},
   "outputs": [
    {
     "data": {
      "text/html": [
       "<div>\n",
       "<style scoped>\n",
       "    .dataframe tbody tr th:only-of-type {\n",
       "        vertical-align: middle;\n",
       "    }\n",
       "\n",
       "    .dataframe tbody tr th {\n",
       "        vertical-align: top;\n",
       "    }\n",
       "\n",
       "    .dataframe thead th {\n",
       "        text-align: right;\n",
       "    }\n",
       "</style>\n",
       "<table border=\"1\" class=\"dataframe\">\n",
       "  <thead>\n",
       "    <tr style=\"text-align: right;\">\n",
       "      <th></th>\n",
       "      <th>text</th>\n",
       "      <th>label</th>\n",
       "      <th>tfidf_embedding</th>\n",
       "      <th>bow_embedding</th>\n",
       "    </tr>\n",
       "  </thead>\n",
       "  <tbody>\n",
       "    <tr>\n",
       "      <th>0</th>\n",
       "      <td>The media reported on “5 TikTok dances you can...</td>\n",
       "      <td>0</td>\n",
       "      <td>[0.32230591024075655, -0.02831194990679292, 0....</td>\n",
       "      <td>[4.111553694916507, -1.4091154149981984, -2.22...</td>\n",
       "    </tr>\n",
       "    <tr>\n",
       "      <th>1</th>\n",
       "      <td>\"Over 240,000 'unverified' ballots have alread...</td>\n",
       "      <td>0</td>\n",
       "      <td>[0.3085783060828361, 0.11941719271543562, 0.04...</td>\n",
       "      <td>[15.340171294779969, 0.6782201912917837, -3.95...</td>\n",
       "    </tr>\n",
       "    <tr>\n",
       "      <th>2</th>\n",
       "      <td>Says \"Ron Johnson is making excuses for rioter...</td>\n",
       "      <td>1</td>\n",
       "      <td>[0.4233043848185984, 0.0786274094923878, 0.057...</td>\n",
       "      <td>[17.57951108926488, -3.370470538010633, -6.032...</td>\n",
       "    </tr>\n",
       "    <tr>\n",
       "      <th>3</th>\n",
       "      <td>“We have seen over the last 10 years ... under...</td>\n",
       "      <td>0</td>\n",
       "      <td>[0.32351932184322646, 0.14350347899320803, -0....</td>\n",
       "      <td>[13.623137823124164, 2.594215458864157, 1.1975...</td>\n",
       "    </tr>\n",
       "    <tr>\n",
       "      <th>4</th>\n",
       "      <td>“I don’t get involved in the hiring and firing...</td>\n",
       "      <td>0</td>\n",
       "      <td>[0.2171402326873496, -0.01335753132863769, 0.0...</td>\n",
       "      <td>[11.715673205868887, -3.8977639951846776, -0.5...</td>\n",
       "    </tr>\n",
       "    <tr>\n",
       "      <th>...</th>\n",
       "      <td>...</td>\n",
       "      <td>...</td>\n",
       "      <td>...</td>\n",
       "      <td>...</td>\n",
       "    </tr>\n",
       "    <tr>\n",
       "      <th>6895</th>\n",
       "      <td>Wedding Album: Dancing with the Stars Pro Lind...</td>\n",
       "      <td>0</td>\n",
       "      <td>[0.14163919484470372, -0.18715353303969257, -0...</td>\n",
       "      <td>[0.5081918596591153, -0.47701325989197113, 0.0...</td>\n",
       "    </tr>\n",
       "    <tr>\n",
       "      <th>6896</th>\n",
       "      <td>WATCH: Sneak Peek: Arizona's Furious Alex Atta...</td>\n",
       "      <td>0</td>\n",
       "      <td>[0.1008928783751652, -0.15370171050340922, -0....</td>\n",
       "      <td>[0.3445347175467999, -0.4934581721987002, 0.03...</td>\n",
       "    </tr>\n",
       "    <tr>\n",
       "      <th>6897</th>\n",
       "      <td>Mary Kay Letourneau 'Hopeful' She Can Fix Marr...</td>\n",
       "      <td>0</td>\n",
       "      <td>[0.3001268539564991, -0.2629061111938999, -0.0...</td>\n",
       "      <td>[5.5870427230749256, -3.0189127373522684, -0.6...</td>\n",
       "    </tr>\n",
       "    <tr>\n",
       "      <th>6898</th>\n",
       "      <td>Charlize Theron still upset Aeon Flux didn’t w...</td>\n",
       "      <td>0</td>\n",
       "      <td>[0.18598375894520147, -0.26601918535391794, -0...</td>\n",
       "      <td>[1.8348212505816988, -2.5021137033782117, 0.45...</td>\n",
       "    </tr>\n",
       "    <tr>\n",
       "      <th>6899</th>\n",
       "      <td>Debbie Gibson Says ‘DWTS’ Was a Healing Experi...</td>\n",
       "      <td>0</td>\n",
       "      <td>[0.1417320945310446, -0.1633085749215571, -0.0...</td>\n",
       "      <td>[1.0371355773081181, -0.8878316745536191, -0.0...</td>\n",
       "    </tr>\n",
       "  </tbody>\n",
       "</table>\n",
       "<p>6900 rows × 4 columns</p>\n",
       "</div>"
      ],
      "text/plain": [
       "                                                   text  label  \\\n",
       "0     The media reported on “5 TikTok dances you can...      0   \n",
       "1     \"Over 240,000 'unverified' ballots have alread...      0   \n",
       "2     Says \"Ron Johnson is making excuses for rioter...      1   \n",
       "3     “We have seen over the last 10 years ... under...      0   \n",
       "4     “I don’t get involved in the hiring and firing...      0   \n",
       "...                                                 ...    ...   \n",
       "6895  Wedding Album: Dancing with the Stars Pro Lind...      0   \n",
       "6896  WATCH: Sneak Peek: Arizona's Furious Alex Atta...      0   \n",
       "6897  Mary Kay Letourneau 'Hopeful' She Can Fix Marr...      0   \n",
       "6898  Charlize Theron still upset Aeon Flux didn’t w...      0   \n",
       "6899  Debbie Gibson Says ‘DWTS’ Was a Healing Experi...      0   \n",
       "\n",
       "                                        tfidf_embedding  \\\n",
       "0     [0.32230591024075655, -0.02831194990679292, 0....   \n",
       "1     [0.3085783060828361, 0.11941719271543562, 0.04...   \n",
       "2     [0.4233043848185984, 0.0786274094923878, 0.057...   \n",
       "3     [0.32351932184322646, 0.14350347899320803, -0....   \n",
       "4     [0.2171402326873496, -0.01335753132863769, 0.0...   \n",
       "...                                                 ...   \n",
       "6895  [0.14163919484470372, -0.18715353303969257, -0...   \n",
       "6896  [0.1008928783751652, -0.15370171050340922, -0....   \n",
       "6897  [0.3001268539564991, -0.2629061111938999, -0.0...   \n",
       "6898  [0.18598375894520147, -0.26601918535391794, -0...   \n",
       "6899  [0.1417320945310446, -0.1633085749215571, -0.0...   \n",
       "\n",
       "                                          bow_embedding  \n",
       "0     [4.111553694916507, -1.4091154149981984, -2.22...  \n",
       "1     [15.340171294779969, 0.6782201912917837, -3.95...  \n",
       "2     [17.57951108926488, -3.370470538010633, -6.032...  \n",
       "3     [13.623137823124164, 2.594215458864157, 1.1975...  \n",
       "4     [11.715673205868887, -3.8977639951846776, -0.5...  \n",
       "...                                                 ...  \n",
       "6895  [0.5081918596591153, -0.47701325989197113, 0.0...  \n",
       "6896  [0.3445347175467999, -0.4934581721987002, 0.03...  \n",
       "6897  [5.5870427230749256, -3.0189127373522684, -0.6...  \n",
       "6898  [1.8348212505816988, -2.5021137033782117, 0.45...  \n",
       "6899  [1.0371355773081181, -0.8878316745536191, -0.0...  \n",
       "\n",
       "[6900 rows x 4 columns]"
      ]
     },
     "metadata": {},
     "output_type": "display_data"
    }
   ],
   "source": [
    "# Add a new column to the DataFrame\n",
    "test_df['bow_embedding'] = list(bow_reduced)\n",
    "display(test_df)"
   ]
  },
  {
   "cell_type": "code",
   "execution_count": null,
   "id": "c461179b",
   "metadata": {},
   "outputs": [],
   "source": []
  }
 ],
 "metadata": {
  "kernelspec": {
   "display_name": "ComputerVision2",
   "language": "python",
   "name": "python3"
  },
  "language_info": {
   "codemirror_mode": {
    "name": "ipython",
    "version": 3
   },
   "file_extension": ".py",
   "mimetype": "text/x-python",
   "name": "python",
   "nbconvert_exporter": "python",
   "pygments_lexer": "ipython3",
   "version": "3.12.3"
  }
 },
 "nbformat": 4,
 "nbformat_minor": 5
}
